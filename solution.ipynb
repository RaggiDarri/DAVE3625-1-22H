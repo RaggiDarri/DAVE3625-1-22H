{
 "cells": [
  {
   "cell_type": "markdown",
   "metadata": {},
   "source": [
    "# Imports"
   ]
  },
  {
   "cell_type": "code",
   "execution_count": 1,
   "metadata": {},
   "outputs": [
    {
     "name": "stderr",
     "output_type": "stream",
     "text": [
      "c:\\Users\\Eier\\miniconda3\\envs\\intro-ai\\lib\\site-packages\\tqdm\\auto.py:22: TqdmWarning: IProgress not found. Please update jupyter and ipywidgets. See https://ipywidgets.readthedocs.io/en/stable/user_install.html\n",
      "  from .autonotebook import tqdm as notebook_tqdm\n",
      "c:\\Users\\Eier\\miniconda3\\envs\\intro-ai\\lib\\site-packages\\huggingface_hub\\snapshot_download.py:6: FutureWarning: snapshot_download.py has been made private and will no longer be available from version 0.11. Please use `from huggingface_hub import snapshot_download` to import the only public function in this module. Other members of the file may be changed without a deprecation notice.\n",
      "  warnings.warn(\n"
     ]
    },
    {
     "name": "stdout",
     "output_type": "stream",
     "text": [
      "\n",
      "GPUs detected:          0\n",
      "Using GPU:              False\n",
      "Device:                 cpu\n",
      "Got model from pickle:  True\n",
      "\n"
     ]
    }
   ],
   "source": [
    "# regex\n",
    "import re\n",
    "\n",
    "# pandas + numpy\n",
    "import numpy as np\n",
    "import pandas as pd\n",
    "\n",
    "# setting pandas options\n",
    "pd.set_option('display.max_colwidth', 200)\n",
    "\n",
    "\n",
    "# storing and loading models\n",
    "import pickle\n",
    "\n",
    "# to set types for functions\n",
    "from typing import Tuple\n",
    "\n",
    "# Plotting\n",
    "import plotly.graph_objects as go\n",
    "import plotly.express as px\n",
    "from plotly.subplots import make_subplots\n",
    "\n",
    "\n",
    "# gpu debug\n",
    "import torch\n",
    "\n",
    "# setting device to use GPU for NLP backend if you have GPU available\n",
    "device = \"cuda\" if torch.cuda.is_available() else \"cpu\"\n",
    "\n",
    "\n",
    "# SBERT\n",
    "from sentence_transformers import SentenceTransformer\n",
    "\n",
    "# UMAP\n",
    "from umap import UMAP\n",
    "\n",
    "#HDBSCAN\n",
    "from hdbscan import HDBSCAN\n",
    "\n",
    "# topic finding\n",
    "from sklearn.feature_extraction.text import TfidfVectorizer\n",
    "\n",
    "# Loading model from pickle if possible, to avoid downloading it again\n",
    "try:\n",
    "    model = pickle.load(open(f'model-{device}.pkl', 'rb'))\n",
    "\n",
    "    model_load = True\n",
    "\n",
    "except:\n",
    "    model = SentenceTransformer('all-mpnet-base-v2', device=device)\n",
    "    pickle.dump(model, open(f'model-{device}.pkl', 'wb'))\n",
    "\n",
    "    model_load = False\n",
    "\n",
    "print(f\"\"\"\n",
    "GPUs detected:          {torch.cuda.device_count()}\n",
    "Using GPU:              {torch.cuda.is_available()}\n",
    "Device:                 {device}\n",
    "Got model from pickle:  {model_load}\n",
    "\"\"\")"
   ]
  },
  {
   "cell_type": "markdown",
   "metadata": {},
   "source": [
    "# Function"
   ]
  },
  {
   "cell_type": "code",
   "execution_count": 2,
   "metadata": {},
   "outputs": [],
   "source": [
    "def tfidf_most_relevant_word(input: list, num_words=5) -> list:\n",
    "  \"\"\"\n",
    "  Function that finds the most relevant words per cluster id.\n",
    "\n",
    "  Args:\n",
    "      input (list): A list of title strings aggregated by cluster id.\n",
    "      num_words (int, optional): How many words you want. Defaults to 5.\n",
    "\n",
    "  Returns:\n",
    "      list: Returns a list of most relevant words, with lenght of unique cluster Ids\n",
    "  \"\"\"\n",
    "\n",
    "  most_relevant_words = []\n",
    "  \n",
    "  for corpus in input:\n",
    "        \n",
    "    vectorizer = TfidfVectorizer(stop_words='english')\n",
    "    X = vectorizer.fit_transform(corpus)\n",
    "    \n",
    "    importance = np.argsort(np.asarray(X.sum(axis=0)).ravel())[::-1]\n",
    "    tfidf_feature_names = np.array(vectorizer.get_feature_names_out()) # get_feature_names\n",
    "    most_relevant_words.append(tfidf_feature_names[importance[:num_words]])\n",
    "\n",
    "  return most_relevant_words"
   ]
  },
  {
   "cell_type": "markdown",
   "metadata": {},
   "source": [
    "## Cleaning"
   ]
  },
  {
   "cell_type": "code",
   "execution_count": 3,
   "metadata": {},
   "outputs": [],
   "source": [
    "def string_cleaner(input: str) -> str:\n",
    "    \"\"\"\n",
    "    Function to clean up strings.\n",
    "\n",
    "    Args:\n",
    "        input (str): String to be cleaned.\n",
    "\n",
    "    Returns:\n",
    "        str: Cleaned string.\n",
    "    \"\"\"\n",
    "    \n",
    "    # turning lowercase\n",
    "    input = input.lower()\n",
    "\n",
    "    # removing punctuation and other non-alphanumeric characters\n",
    "    input = re.sub(r'[^\\w\\s]', '', input)\n",
    "    \n",
    "    return input"
   ]
  },
  {
   "cell_type": "markdown",
   "metadata": {},
   "source": [
    "## Topic Modeling"
   ]
  },
  {
   "cell_type": "code",
   "execution_count": 4,
   "metadata": {},
   "outputs": [],
   "source": [
    "def tfidf_most_relevant_word(input: list, num_words=5) -> list:\n",
    "  \"\"\"\n",
    "  Function that finds the most relevant words per cluster id.\n",
    "\n",
    "  Args:\n",
    "      input (list): A list of title strings aggregated by cluster id.\n",
    "      num_words (int, optional): How many words you want. Defaults to 5.\n",
    "\n",
    "  Returns:\n",
    "      list: Returns a list of most relevant words, with lenght of unique cluster Ids\n",
    "  \"\"\"\n",
    "\n",
    "  most_relevant_words = []\n",
    "  \n",
    "  for corpus in input:\n",
    "        \n",
    "    vectorizer = TfidfVectorizer(stop_words='english')\n",
    "    X = vectorizer.fit_transform(corpus)\n",
    "    \n",
    "    importance = np.argsort(np.asarray(X.sum(axis=0)).ravel())[::-1]\n",
    "    tfidf_feature_names = np.array(vectorizer.get_feature_names_out()) # get_feature_names\n",
    "    most_relevant_words.append(tfidf_feature_names[importance[:num_words]])\n",
    "\n",
    "  return most_relevant_words\n",
    "\n",
    "\n",
    "\n",
    "def topic_by_clusterId(result: pd.DataFrame) -> dict:\n",
    "  \"\"\"\n",
    "  Function that maps topics to cluster ids.\n",
    "\n",
    "  Args:\n",
    "      result (pd.DataFrame): Dataframe with cluster ids and topics.\n",
    "\n",
    "  Returns:\n",
    "      dict: Dictionary with cluster ids as keys and topics as values.\n",
    "  \"\"\"\n",
    "\n",
    "  #print(result.isna().sum())\n",
    "\n",
    "  df_group = result[[\"titles\", \"cluster_label\"]].groupby(\"cluster_label\").agg(list).reset_index()\n",
    "\n",
    "  df_group[\"topics\"] = tfidf_most_relevant_word(df_group[\"titles\"])\n",
    "\n",
    "  return dict(zip(df_group.cluster_label, df_group.topics))"
   ]
  },
  {
   "cell_type": "markdown",
   "metadata": {},
   "source": [
    "## Plotting Functions"
   ]
  },
  {
   "cell_type": "code",
   "execution_count": 5,
   "metadata": {},
   "outputs": [],
   "source": [
    "# when you actually cast the type here, then it works with how pandas casts types and you don't have to worry about copying seriers\n",
    "def result_df_maker(embeddings: np.ndarray, cluster_labels: np.ndarray, titles: np.ndarray) -> pd.DataFrame:\n",
    "  \"\"\"\n",
    "  Function to make a dataframe with the embeddings, cluster labels, topic per cluster label and titles.\n",
    "\n",
    "  Args:\n",
    "      embeddings (np.ndarray): 2D array of embeddings.\n",
    "      cluster_labels (np.ndarray): array of cluster labels.\n",
    "      titles (np.ndarray): array of titles.\n",
    "\n",
    "  Returns:\n",
    "      pd.DataFrame: Dataframe with embeddings, cluster labels, topics per cluster, and titles.\n",
    "  \"\"\"\n",
    "  result = pd.DataFrame(embeddings, columns=['x', 'y'])\n",
    "\n",
    "  result[\"titles\"] = titles\n",
    "\n",
    "  result[\"cluster_label\"] = cluster_labels\n",
    "\n",
    "  topic_dict = topic_by_clusterId(result)\n",
    "\n",
    "  result[\"topics\"] = result[\"cluster_label\"].apply(lambda x: topic_dict[x])\n",
    "\n",
    "  result[\"topics\"] = result[\"topics\"].apply(lambda x: \" \".join(x))\n",
    "\n",
    "  return result\n",
    "\n",
    "def result_splitter(result: pd.DataFrame) -> Tuple[np.ndarray, np.ndarray]:\n",
    "  \"\"\"\n",
    "  Function to split the dataframe into two dataframes, one for clustered and one for outliers.\n",
    "\n",
    "  Args:\n",
    "      result (pd.DataFrame): Dataframe with embeddings, cluster labels, topics per cluster, and titles.\n",
    "\n",
    "  Returns:\n",
    "      Tuple[np.ndarray, np.ndarray]: Tuple of two dataframes, one for clustered and one for outliers.\n",
    "  \"\"\"\n",
    "\n",
    "  clustered = result.loc[result.cluster_label != -1, :]\n",
    "  outliers = result.loc[result.cluster_label == -1, :]\n",
    "  return clustered, outliers\n",
    "\n",
    "# the cavalry is not here, but it's fine! Why? I am here!\n",
    "def result_tracer(clustered: pd.DataFrame, outliers: pd.DataFrame) -> Tuple[go.Scattergl, go.Scattergl]:\n",
    "  \"\"\"\n",
    "  Function to make a scatter traces of the clustered and outliers.\n",
    "\n",
    "  Args:\n",
    "      clustered (pd.DataFrame): clustered dataframe to be colored by cluster and get hover data\n",
    "      outliers (pd.DataFrame): outlier data frame with grey color and no hover data\n",
    "\n",
    "  Returns:\n",
    "      Tuple[go.Scattergl, go.Scattergl]: Tuple of two scatter traces.\n",
    "  \"\"\"\n",
    "\n",
    "  trace_cluster = go.Scattergl(\n",
    "    x=clustered.x, \n",
    "    y=clustered.y, \n",
    "    mode=\"markers\", \n",
    "    name=\"Clustered\",\n",
    "\n",
    "    # styling markers\n",
    "    marker=dict(\n",
    "      size=2, \n",
    "      color=clustered.cluster_label,\n",
    "      colorscale=\"Rainbow\"\n",
    "    ), \n",
    "\n",
    "    # setting hover text to the titles of the videos\n",
    "    hovertemplate=\"<b>Topics:</b> %{customdata[0]} <br><b>Cluster Id:</b> %{customdata[1]}<extra></extra>\", \n",
    "    customdata=np.column_stack([clustered.topics, clustered.cluster_label]),\n",
    "  )\n",
    "\n",
    "  trace_outlier = go.Scattergl(\n",
    "    x=outliers.x,\n",
    "    y=outliers.y,\n",
    "    mode=\"markers\",\n",
    "    name=\"Outliers\",\n",
    "\n",
    "    marker=dict(\n",
    "      size=1,\n",
    "      color=\"grey\"\n",
    "    ),\n",
    "\n",
    "    hovertemplate=\"Outlier<extra></extra>\"\n",
    "  )\n",
    "\n",
    "  return trace_cluster, trace_outlier\n",
    "\n",
    "def result_tracer_wrapper(uembs: np.ndarray, cluster_labels: np.ndarray, titles: np.ndarray) -> Tuple[go.Scattergl, go.Scattergl]:\n",
    "  \"\"\"\n",
    "  Function to make a scatter traces of the clustered and outliers.\n",
    "\n",
    "  Args:\n",
    "      uembs (np.ndarray): 2D array of embeddings.\n",
    "      cluster_labels (np.ndarray): array of cluster labels.\n",
    "      titles (np.ndarray): array of titles.\n",
    "\n",
    "  Returns:\n",
    "      Tuple[go.Scattergl, go.Scattergl]: Tuple of two scatter traces.\n",
    "  \"\"\"\n",
    "\n",
    "  result = result_df_maker(uembs, cluster_labels, titles)\n",
    "  clustered, outliers = result_splitter(result)\n",
    "  trace_cluster, trace_outlier = result_tracer(clustered, outliers)\n",
    "  return trace_cluster, trace_outlier"
   ]
  },
  {
   "cell_type": "code",
   "execution_count": 6,
   "metadata": {},
   "outputs": [],
   "source": [
    "def subplotter(trace_nested_list: list, titles: list, base_size=1000) -> go.Figure:\n",
    "    \"\"\"\n",
    "    Function to make a figure with subplots of the clustered and outliers.\n",
    "\n",
    "    Args:\n",
    "        trace_nested_list (list): list holding rows of columns, each column holding traces. \n",
    "        titles (list): Titles for the subplots\n",
    "        base_size (int, optional): Base size of the sub plots. Defaults to 1000.\n",
    "\n",
    "    Returns:\n",
    "        go.Figure: Figure with subplots.\n",
    "    \"\"\"\n",
    "    \n",
    "    row_count = len(trace_nested_list)\n",
    "    col_count = len(trace_nested_list[0])\n",
    "    \n",
    "    fig = make_subplots(\n",
    "        rows=row_count, \n",
    "        cols=col_count,\n",
    "        subplot_titles=(titles),\n",
    "        vertical_spacing=0.02,\n",
    "        horizontal_spacing=0.02\n",
    "    )\n",
    "\n",
    "    for i, row in enumerate(trace_nested_list):\n",
    "        for j, col in enumerate(row):\n",
    "\n",
    "            # adding both outlieers and clustered\n",
    "            for trace in col:\n",
    "                fig.add_trace(trace, row=i+1, col=1)\n",
    "    \n",
    "    # figure settings\n",
    "    fig.update_xaxes(visible=False)\n",
    "    fig.update_yaxes(visible=False)\n",
    "    \n",
    "    fig.update_layout(width=base_size*col_count, height=base_size*row_count, plot_bgcolor='rgba(250,250,250,1)')\n",
    "\n",
    "    return fig"
   ]
  },
  {
   "cell_type": "markdown",
   "metadata": {},
   "source": [
    "## Saving / Showing Plots"
   ]
  },
  {
   "cell_type": "code",
   "execution_count": 7,
   "metadata": {},
   "outputs": [],
   "source": [
    "def fig_show_save(fig: go.Figure, filename: str, show=True):\n",
    "  \"\"\"\n",
    "  Function to show and save a figure.\n",
    "\n",
    "  Args:\n",
    "      fig (go.Figure): fig to be saved and shown\n",
    "      filename (str): filename to save the figure, without extension\n",
    "      show (bool, optional): Option to disable showing of figure (in case too big for notebook). Defaults to True.\n",
    "  \"\"\"\n",
    "  \n",
    "  # writing both interactible .html and static image .png\n",
    "  fig.write_html(f\"figures/{filename}.html\")\n",
    "  fig.write_image(f\"figures/{filename}.png\")\n",
    "\n",
    "  if show: \n",
    "    fig.show()"
   ]
  },
  {
   "cell_type": "markdown",
   "metadata": {},
   "source": [
    "# Data Part"
   ]
  },
  {
   "cell_type": "markdown",
   "metadata": {},
   "source": [
    "Note:\n",
    "\n",
    "In this code beneath this block, we are using pandas to read a data from a local source. \n",
    "We are then copying just one series from that data, and that we are sampling that down, in the case where we do not have a gpu to do our text encodings. \n",
    "\n",
    "We are then printing the shape of the data, and get the number of rows and columns. (The shape attribute of pandas.DataFrame stores the number of rows and columns as a tuple (number of rows, number of columns).)\n",
    "Head function returns the dataframe or series with the first three rows."
   ]
  },
  {
   "cell_type": "code",
   "execution_count": 18,
   "metadata": {},
   "outputs": [
    {
     "name": "stdout",
     "output_type": "stream",
     "text": [
      "(40949, 16)\n"
     ]
    },
    {
     "data": {
      "text/html": [
       "<div>\n",
       "<style scoped>\n",
       "    .dataframe tbody tr th:only-of-type {\n",
       "        vertical-align: middle;\n",
       "    }\n",
       "\n",
       "    .dataframe tbody tr th {\n",
       "        vertical-align: top;\n",
       "    }\n",
       "\n",
       "    .dataframe thead th {\n",
       "        text-align: right;\n",
       "    }\n",
       "</style>\n",
       "<table border=\"1\" class=\"dataframe\">\n",
       "  <thead>\n",
       "    <tr style=\"text-align: right;\">\n",
       "      <th></th>\n",
       "      <th>video_id</th>\n",
       "      <th>trending_date</th>\n",
       "      <th>title</th>\n",
       "      <th>channel_title</th>\n",
       "      <th>category_id</th>\n",
       "      <th>publish_time</th>\n",
       "      <th>tags</th>\n",
       "      <th>views</th>\n",
       "      <th>likes</th>\n",
       "      <th>dislikes</th>\n",
       "      <th>comment_count</th>\n",
       "      <th>thumbnail_link</th>\n",
       "      <th>comments_disabled</th>\n",
       "      <th>ratings_disabled</th>\n",
       "      <th>video_error_or_removed</th>\n",
       "      <th>description</th>\n",
       "    </tr>\n",
       "  </thead>\n",
       "  <tbody>\n",
       "    <tr>\n",
       "      <th>0</th>\n",
       "      <td>2kyS6SvSYSE</td>\n",
       "      <td>17.14.11</td>\n",
       "      <td>WE WANT TO TALK ABOUT OUR MARRIAGE</td>\n",
       "      <td>CaseyNeistat</td>\n",
       "      <td>22</td>\n",
       "      <td>2017-11-13T17:13:01.000Z</td>\n",
       "      <td>SHANtell martin</td>\n",
       "      <td>748374</td>\n",
       "      <td>57527</td>\n",
       "      <td>2966</td>\n",
       "      <td>15954</td>\n",
       "      <td>https://i.ytimg.com/vi/2kyS6SvSYSE/default.jpg</td>\n",
       "      <td>False</td>\n",
       "      <td>False</td>\n",
       "      <td>False</td>\n",
       "      <td>SHANTELL'S CHANNEL - https://www.youtube.com/shantellmartin\\nCANDICE - https://www.lovebilly.com\\n\\nfilmed this video in 4k on this -- http://amzn.to/2sTDnRZ\\nwith this lens -- http://amzn.to/2rUJ...</td>\n",
       "    </tr>\n",
       "    <tr>\n",
       "      <th>1</th>\n",
       "      <td>1ZAPwfrtAFY</td>\n",
       "      <td>17.14.11</td>\n",
       "      <td>The Trump Presidency: Last Week Tonight with John Oliver (HBO)</td>\n",
       "      <td>LastWeekTonight</td>\n",
       "      <td>24</td>\n",
       "      <td>2017-11-13T07:30:00.000Z</td>\n",
       "      <td>last week tonight trump presidency|\"last week tonight donald trump\"|\"john oliver trump\"|\"donald trump\"</td>\n",
       "      <td>2418783</td>\n",
       "      <td>97185</td>\n",
       "      <td>6146</td>\n",
       "      <td>12703</td>\n",
       "      <td>https://i.ytimg.com/vi/1ZAPwfrtAFY/default.jpg</td>\n",
       "      <td>False</td>\n",
       "      <td>False</td>\n",
       "      <td>False</td>\n",
       "      <td>One year after the presidential election, John Oliver discusses what we've learned so far and enlists our catheter cowboy to teach Donald Trump what he hasn't.\\n\\nConnect with Last Week Tonight on...</td>\n",
       "    </tr>\n",
       "    <tr>\n",
       "      <th>2</th>\n",
       "      <td>5qpjK5DgCt4</td>\n",
       "      <td>17.14.11</td>\n",
       "      <td>Racist Superman | Rudy Mancuso, King Bach &amp; Lele Pons</td>\n",
       "      <td>Rudy Mancuso</td>\n",
       "      <td>23</td>\n",
       "      <td>2017-11-12T19:05:24.000Z</td>\n",
       "      <td>racist superman|\"rudy\"|\"mancuso\"|\"king\"|\"bach\"|\"racist\"|\"superman\"|\"love\"|\"rudy mancuso poo bear black white official music video\"|\"iphone x by pineapple\"|\"lelepons\"|\"hannahstocking\"|\"rudymancuso\"...</td>\n",
       "      <td>3191434</td>\n",
       "      <td>146033</td>\n",
       "      <td>5339</td>\n",
       "      <td>8181</td>\n",
       "      <td>https://i.ytimg.com/vi/5qpjK5DgCt4/default.jpg</td>\n",
       "      <td>False</td>\n",
       "      <td>False</td>\n",
       "      <td>False</td>\n",
       "      <td>WATCH MY PREVIOUS VIDEO ▶ \\n\\nSUBSCRIBE ► https://www.youtube.com/channel/UC5jkXpfnBhlDjqh0ir5FsIQ?sub_confirmation=1\\n\\nTHANKS FOR WATCHING! LIKE &amp; SUBSCRIBE FOR MORE VIDEOS!\\n-------------------...</td>\n",
       "    </tr>\n",
       "  </tbody>\n",
       "</table>\n",
       "</div>"
      ],
      "text/plain": [
       "      video_id trending_date  \\\n",
       "0  2kyS6SvSYSE      17.14.11   \n",
       "1  1ZAPwfrtAFY      17.14.11   \n",
       "2  5qpjK5DgCt4      17.14.11   \n",
       "\n",
       "                                                            title  \\\n",
       "0                              WE WANT TO TALK ABOUT OUR MARRIAGE   \n",
       "1  The Trump Presidency: Last Week Tonight with John Oliver (HBO)   \n",
       "2           Racist Superman | Rudy Mancuso, King Bach & Lele Pons   \n",
       "\n",
       "     channel_title  category_id              publish_time  \\\n",
       "0     CaseyNeistat           22  2017-11-13T17:13:01.000Z   \n",
       "1  LastWeekTonight           24  2017-11-13T07:30:00.000Z   \n",
       "2     Rudy Mancuso           23  2017-11-12T19:05:24.000Z   \n",
       "\n",
       "                                                                                                                                                                                                      tags  \\\n",
       "0                                                                                                                                                                                          SHANtell martin   \n",
       "1                                                                                                   last week tonight trump presidency|\"last week tonight donald trump\"|\"john oliver trump\"|\"donald trump\"   \n",
       "2  racist superman|\"rudy\"|\"mancuso\"|\"king\"|\"bach\"|\"racist\"|\"superman\"|\"love\"|\"rudy mancuso poo bear black white official music video\"|\"iphone x by pineapple\"|\"lelepons\"|\"hannahstocking\"|\"rudymancuso\"...   \n",
       "\n",
       "     views   likes  dislikes  comment_count  \\\n",
       "0   748374   57527      2966          15954   \n",
       "1  2418783   97185      6146          12703   \n",
       "2  3191434  146033      5339           8181   \n",
       "\n",
       "                                   thumbnail_link  comments_disabled  \\\n",
       "0  https://i.ytimg.com/vi/2kyS6SvSYSE/default.jpg              False   \n",
       "1  https://i.ytimg.com/vi/1ZAPwfrtAFY/default.jpg              False   \n",
       "2  https://i.ytimg.com/vi/5qpjK5DgCt4/default.jpg              False   \n",
       "\n",
       "   ratings_disabled  video_error_or_removed  \\\n",
       "0             False                   False   \n",
       "1             False                   False   \n",
       "2             False                   False   \n",
       "\n",
       "                                                                                                                                                                                               description  \n",
       "0  SHANTELL'S CHANNEL - https://www.youtube.com/shantellmartin\\nCANDICE - https://www.lovebilly.com\\n\\nfilmed this video in 4k on this -- http://amzn.to/2sTDnRZ\\nwith this lens -- http://amzn.to/2rUJ...  \n",
       "1  One year after the presidential election, John Oliver discusses what we've learned so far and enlists our catheter cowboy to teach Donald Trump what he hasn't.\\n\\nConnect with Last Week Tonight on...  \n",
       "2  WATCH MY PREVIOUS VIDEO ▶ \\n\\nSUBSCRIBE ► https://www.youtube.com/channel/UC5jkXpfnBhlDjqh0ir5FsIQ?sub_confirmation=1\\n\\nTHANKS FOR WATCHING! LIKE & SUBSCRIBE FOR MORE VIDEOS!\\n-------------------...  "
      ]
     },
     "execution_count": 18,
     "metadata": {},
     "output_type": "execute_result"
    }
   ],
   "source": [
    "df_whole = pd.read_csv(\"data/USvideos.csv\")\n",
    "\n",
    "df = df_whole[[\"title\"]].copy()\n",
    "\n",
    "if device == \"cpu\": df = df.sample(frac=0.05)\n",
    "\n",
    "print(df_whole.shape)\n",
    "\n",
    "df_whole.head(3)"
   ]
  },
  {
   "cell_type": "markdown",
   "metadata": {},
   "source": [
    "## Cleaning"
   ]
  },
  {
   "cell_type": "markdown",
   "metadata": {},
   "source": [
    "Note:\n",
    "\n",
    "df[\"title\"].apply(string_cleaner) applys string_cleaner to df[\"title_clean\"], string_cleaner is defined under Function under Cleaning. \n",
    "\n",
    "It is defined as a function to clean up strings, turning strings to lowercase and removing punctuations and other non-alphanumeric characters from strings. The apply() function returns a new DataFrame object after applying the function to its elements.\n",
    "\n",
    "Head function returns the dataframe or series with the first five rows of the original and the cleaned coloumn."
   ]
  },
  {
   "cell_type": "code",
   "execution_count": 9,
   "metadata": {},
   "outputs": [
    {
     "data": {
      "text/html": [
       "<div>\n",
       "<style scoped>\n",
       "    .dataframe tbody tr th:only-of-type {\n",
       "        vertical-align: middle;\n",
       "    }\n",
       "\n",
       "    .dataframe tbody tr th {\n",
       "        vertical-align: top;\n",
       "    }\n",
       "\n",
       "    .dataframe thead th {\n",
       "        text-align: right;\n",
       "    }\n",
       "</style>\n",
       "<table border=\"1\" class=\"dataframe\">\n",
       "  <thead>\n",
       "    <tr style=\"text-align: right;\">\n",
       "      <th></th>\n",
       "      <th>title</th>\n",
       "      <th>title_clean</th>\n",
       "    </tr>\n",
       "  </thead>\n",
       "  <tbody>\n",
       "    <tr>\n",
       "      <th>33295</th>\n",
       "      <td>J. Cole - Kevin's Heart</td>\n",
       "      <td>j cole  kevins heart</td>\n",
       "    </tr>\n",
       "    <tr>\n",
       "      <th>4921</th>\n",
       "      <td>Josh Groban with Tony Bennett - Christmas Time Is Here (Official Music Video)</td>\n",
       "      <td>josh groban with tony bennett  christmas time is here official music video</td>\n",
       "    </tr>\n",
       "    <tr>\n",
       "      <th>40691</th>\n",
       "      <td>TRY NOT TO LAUGH CHALLENGE!! - KNOCK KNOCK DAD JOKES EDITION</td>\n",
       "      <td>try not to laugh challenge  knock knock dad jokes edition</td>\n",
       "    </tr>\n",
       "    <tr>\n",
       "      <th>4239</th>\n",
       "      <td>Ohio State vs. Wisconsin - Big Ten Championship Highlights</td>\n",
       "      <td>ohio state vs wisconsin  big ten championship highlights</td>\n",
       "    </tr>\n",
       "    <tr>\n",
       "      <th>8355</th>\n",
       "      <td>Step Up: High Water | OFFICIAL TRAILER</td>\n",
       "      <td>step up high water  official trailer</td>\n",
       "    </tr>\n",
       "  </tbody>\n",
       "</table>\n",
       "</div>"
      ],
      "text/plain": [
       "                                                                               title  \\\n",
       "33295                                                        J. Cole - Kevin's Heart   \n",
       "4921   Josh Groban with Tony Bennett - Christmas Time Is Here (Official Music Video)   \n",
       "40691                   TRY NOT TO LAUGH CHALLENGE!! - KNOCK KNOCK DAD JOKES EDITION   \n",
       "4239                      Ohio State vs. Wisconsin - Big Ten Championship Highlights   \n",
       "8355                                          Step Up: High Water | OFFICIAL TRAILER   \n",
       "\n",
       "                                                                      title_clean  \n",
       "33295                                                        j cole  kevins heart  \n",
       "4921   josh groban with tony bennett  christmas time is here official music video  \n",
       "40691                   try not to laugh challenge  knock knock dad jokes edition  \n",
       "4239                     ohio state vs wisconsin  big ten championship highlights  \n",
       "8355                                         step up high water  official trailer  "
      ]
     },
     "execution_count": 9,
     "metadata": {},
     "output_type": "execute_result"
    }
   ],
   "source": [
    "df[\"title_clean\"] = df[\"title\"].apply(string_cleaner)\n",
    "\n",
    "df.head(5)"
   ]
  },
  {
   "cell_type": "markdown",
   "metadata": {},
   "source": [
    "# ML Part"
   ]
  },
  {
   "cell_type": "markdown",
   "metadata": {},
   "source": [
    "## Getting Encodings"
   ]
  },
  {
   "cell_type": "markdown",
   "metadata": {},
   "source": [
    "Shows all the coloumns of df[\"title_clean\"] in the preffered format."
   ]
  },
  {
   "cell_type": "code",
   "execution_count": 10,
   "metadata": {},
   "outputs": [
    {
     "data": {
      "text/plain": [
       "33295                                                                             j cole  kevins heart\n",
       "4921                        josh groban with tony bennett  christmas time is here official music video\n",
       "40691                                        try not to laugh challenge  knock knock dad jokes edition\n",
       "4239                                          ohio state vs wisconsin  big ten championship highlights\n",
       "8355                                                              step up high water  official trailer\n",
       "                                                     ...                                              \n",
       "15712                                                                  untangling the devils corkscrew\n",
       "18997    fbi admits it failed to investigate tip about accused florida school shooter in january  time\n",
       "20289                                         black panther 5th largest opening of alltime  movie talk\n",
       "3927                                                       teens read 10 funny friend zone texts react\n",
       "11327                                           michael jacksons dont stop till you get enough  by jay\n",
       "Name: title_clean, Length: 2047, dtype: object"
      ]
     },
     "execution_count": 10,
     "metadata": {},
     "output_type": "execute_result"
    }
   ],
   "source": [
    "df[\"title_clean\"]"
   ]
  },
  {
   "cell_type": "markdown",
   "metadata": {},
   "source": [
    "Note:\n",
    "\n",
    "Model from pickle that uses the encode() function to encode the input string. And within the encode() df[\"title_clean\"] is applyed the to_numpy() function. The to_numpy() funtion is used to return a NumPy ndarray representing the values in df[\"title_clean\"].\n",
    "\n",
    "Then it prints the shape property of embs, and the shape property is usually used to get the current shape of an array."
   ]
  },
  {
   "cell_type": "code",
   "execution_count": 11,
   "metadata": {},
   "outputs": [
    {
     "name": "stdout",
     "output_type": "stream",
     "text": [
      "The shape of our embeddings: (2047, 768)\n"
     ]
    }
   ],
   "source": [
    "embs = model.encode(df[\"title_clean\"].to_numpy())\n",
    "\n",
    "print(f\"The shape of our embeddings: {embs.shape}\")"
   ]
  },
  {
   "cell_type": "markdown",
   "metadata": {},
   "source": [
    "## Dimensinality Reduction"
   ]
  },
  {
   "cell_type": "markdown",
   "metadata": {},
   "source": [
    "Note:\n",
    "\n",
    "UMAP is a general purpose manifold learning and dimension reduction algorithm. It seeks to learn the manifold structure of your data and find a low dimensional embedding that preserves the essential topological structure of that manifold.\n",
    "\n",
    "The n_neighbors parameter controls how UMAP balances local versus global structure in the data. n_neighbors=20 shows a overall good view of the data by showing how the various colors interlate to each other over the dataset. \n",
    "\n",
    "The min_dist parameter controls how tightly UMAP is allowed to pack points together. It provides the minimum distance the datapoints are allowed to be apart in the low dimensional representation. Low values will result in clumpier embeddings.\n",
    "\n",
    "\n",
    "This fit_transform() method performs fit() and transform() on the input data at a single time and converts the data points. \n",
    "\n",
    "Then it prints the shape property of uembs, and the shape property is usually used to get the current shape of an array.\n",
    "\n",
    "Each data point is represented as a marker point, whose location is given by the x and y columns, using px.scatter. The x and y are arrays. \n",
    "\n",
    "fig.update_layout shows the width(=800) and height(=800) of the graf.\n",
    "\n",
    "fig_show_save(fig, \"umap-scatter\") shows the plot of the embeddings when just the dimensionality reduction is used."
   ]
  },
  {
   "cell_type": "code",
   "execution_count": 12,
   "metadata": {},
   "outputs": [
    {
     "name": "stdout",
     "output_type": "stream",
     "text": [
      "(2047, 2)\n"
     ]
    },
    {
     "data": {
      "application/vnd.plotly.v1+json": {
       "config": {
        "plotlyServerURL": "https://plot.ly"
       },
       "data": [
        {
         "hovertemplate": "x=%{x}<br>y=%{y}<extra></extra>",
         "legendgroup": "",
         "marker": {
          "color": "#636efa",
          "size": 2,
          "symbol": "circle"
         },
         "mode": "markers",
         "name": "",
         "showlegend": false,
         "type": "scattergl",
         "x": [
          10.055303573608398,
          9.760298728942871,
          6.313974857330322,
          10.242477416992188,
          5.937090873718262,
          8.406126976013184,
          6.747185230255127,
          7.868732452392578,
          9.73869800567627,
          5.320871829986572,
          6.902024269104004,
          6.021579742431641,
          8.856261253356934,
          4.542490482330322,
          9.031725883483887,
          7.045608043670654,
          10.304174423217773,
          5.65603494644165,
          4.982112407684326,
          8.214900970458984,
          9.083650588989258,
          4.152274131774902,
          10.189154624938965,
          8.410402297973633,
          9.971562385559082,
          9.46426010131836,
          8.309286117553711,
          8.589211463928223,
          4.151206016540527,
          10.431769371032715,
          9.349560737609863,
          6.903013706207275,
          5.518415451049805,
          6.403214931488037,
          5.647843837738037,
          7.243198871612549,
          4.3279032707214355,
          7.774649620056152,
          9.49440860748291,
          10.373613357543945,
          7.829968452453613,
          3.4672818183898926,
          9.819985389709473,
          5.223675727844238,
          10.420371055603027,
          5.37204122543335,
          6.11309289932251,
          7.634640693664551,
          9.032066345214844,
          5.917203903198242,
          5.530643939971924,
          10.360363006591797,
          6.963009834289551,
          6.62897253036499,
          7.88327693939209,
          5.224961280822754,
          6.075063228607178,
          3.3925652503967285,
          4.182700157165527,
          5.91127872467041,
          4.5218000411987305,
          4.636571884155273,
          6.906999588012695,
          6.658907890319824,
          4.856777667999268,
          9.914575576782227,
          4.884283542633057,
          5.2525811195373535,
          10.71480941772461,
          9.747257232666016,
          4.469328880310059,
          8.304939270019531,
          4.6181864738464355,
          4.802567481994629,
          4.706975936889648,
          10.477423667907715,
          10.350208282470703,
          4.814723491668701,
          9.73471736907959,
          9.466054916381836,
          5.280506610870361,
          4.190738201141357,
          6.1622748374938965,
          10.391878128051758,
          5.117681503295898,
          10.422991752624512,
          4.499588489532471,
          7.970177173614502,
          4.963381290435791,
          10.21650218963623,
          6.918128967285156,
          7.318849563598633,
          6.245672702789307,
          6.275546550750732,
          4.245870113372803,
          10.106632232666016,
          6.743032932281494,
          6.639882564544678,
          5.2582316398620605,
          3.892570734024048,
          6.781888484954834,
          7.254685401916504,
          10.759538650512695,
          5.283137798309326,
          3.8056821823120117,
          9.92801570892334,
          10.131443977355957,
          4.927586555480957,
          3.83876895904541,
          9.096282958984375,
          5.8277668952941895,
          8.607081413269043,
          8.35599422454834,
          5.998442649841309,
          6.89918327331543,
          9.78681755065918,
          4.099654674530029,
          7.6093220710754395,
          6.770206451416016,
          10.025017738342285,
          6.62529993057251,
          6.184272766113281,
          3.700998306274414,
          10.135721206665039,
          9.414397239685059,
          7.0462446212768555,
          6.87137508392334,
          9.816617965698242,
          6.603185176849365,
          6.813389301300049,
          10.298033714294434,
          6.578485488891602,
          5.713390827178955,
          5.890810966491699,
          10.554695129394531,
          4.477705478668213,
          10.68828296661377,
          7.036045074462891,
          5.910790920257568,
          6.427951812744141,
          5.854849815368652,
          6.246391296386719,
          6.222963333129883,
          5.562858581542969,
          6.181524753570557,
          8.599215507507324,
          6.405428409576416,
          9.699450492858887,
          3.6025619506835938,
          10.33543586730957,
          10.637992858886719,
          10.722933769226074,
          4.565578937530518,
          5.109725475311279,
          8.349072456359863,
          8.019628524780273,
          4.787063121795654,
          3.7827236652374268,
          4.685702323913574,
          5.969542026519775,
          10.437033653259277,
          6.399038791656494,
          6.710442543029785,
          9.575004577636719,
          4.598870754241943,
          5.408291816711426,
          7.29994535446167,
          10.923347473144531,
          5.92629861831665,
          6.203827857971191,
          5.316236972808838,
          7.828989028930664,
          4.2384819984436035,
          3.55940842628479,
          6.542082786560059,
          9.420124053955078,
          3.8415911197662354,
          6.594344139099121,
          9.960823059082031,
          4.235060214996338,
          7.463123321533203,
          3.8953421115875244,
          7.476632595062256,
          7.9765729904174805,
          8.92147159576416,
          2.5927538871765137,
          6.444891452789307,
          7.555307388305664,
          6.857960224151611,
          4.598386764526367,
          10.837082862854004,
          6.814049243927002,
          8.953343391418457,
          8.54890251159668,
          5.235239028930664,
          9.898026466369629,
          5.240053176879883,
          5.155713081359863,
          4.705904960632324,
          7.212648391723633,
          7.995545387268066,
          7.094347953796387,
          9.516334533691406,
          6.602025985717773,
          5.431654453277588,
          5.510525703430176,
          5.39489221572876,
          8.846942901611328,
          7.376339912414551,
          7.764069557189941,
          5.973979949951172,
          5.053642272949219,
          9.134684562683105,
          6.937555313110352,
          6.492493629455566,
          10.391975402832031,
          5.79793643951416,
          7.958898544311523,
          5.32009744644165,
          10.191253662109375,
          9.613312721252441,
          11.43093204498291,
          10.297590255737305,
          5.699863910675049,
          7.780179977416992,
          8.08523178100586,
          7.034233570098877,
          7.04438591003418,
          7.505292892456055,
          4.885308265686035,
          5.922587871551514,
          10.042048454284668,
          6.080589771270752,
          7.624807834625244,
          10.606653213500977,
          6.612185478210449,
          4.429966926574707,
          6.698425769805908,
          5.817494869232178,
          6.305301189422607,
          10.277779579162598,
          3.833840847015381,
          9.731457710266113,
          11.429421424865723,
          7.304087162017822,
          7.75022029876709,
          6.324113368988037,
          4.302759647369385,
          4.012179374694824,
          5.489424228668213,
          7.179359436035156,
          4.743975639343262,
          6.715795993804932,
          5.896829128265381,
          6.767373561859131,
          9.235745429992676,
          8.48448657989502,
          5.818477153778076,
          10.689908027648926,
          3.400010824203491,
          8.091803550720215,
          4.389063835144043,
          2.5347511768341064,
          10.091611862182617,
          7.00656270980835,
          5.962316989898682,
          5.0763444900512695,
          6.143971920013428,
          4.131927490234375,
          6.096353530883789,
          7.280734062194824,
          8.950531005859375,
          8.26520824432373,
          4.1214399337768555,
          5.975850582122803,
          7.191319942474365,
          10.144668579101562,
          6.49029016494751,
          4.048727989196777,
          5.2195658683776855,
          9.458208084106445,
          11.002756118774414,
          7.0730299949646,
          6.469496250152588,
          10.289887428283691,
          5.877495288848877,
          6.206680774688721,
          3.90854549407959,
          7.957526683807373,
          8.113480567932129,
          10.614520072937012,
          9.20261001586914,
          4.720606327056885,
          9.867022514343262,
          8.440181732177734,
          7.3800225257873535,
          10.115583419799805,
          8.648883819580078,
          5.354007720947266,
          9.750633239746094,
          10.159381866455078,
          8.874303817749023,
          10.191962242126465,
          9.197668075561523,
          4.0691304206848145,
          9.150981903076172,
          6.013702392578125,
          9.433799743652344,
          10.56564998626709,
          10.37309455871582,
          4.317568302154541,
          3.822545051574707,
          8.085759162902832,
          7.043524742126465,
          5.328367233276367,
          5.918581008911133,
          9.558621406555176,
          6.418755054473877,
          10.500377655029297,
          6.894871711730957,
          4.1593241691589355,
          7.972761154174805,
          10.289347648620605,
          8.031840324401855,
          7.719779968261719,
          6.048250675201416,
          7.905375003814697,
          9.157657623291016,
          6.265384197235107,
          7.119234085083008,
          6.586841583251953,
          4.380080699920654,
          5.581396579742432,
          8.456194877624512,
          6.995688438415527,
          10.191397666931152,
          5.333372592926025,
          9.40098762512207,
          7.857873439788818,
          4.421630382537842,
          6.976971626281738,
          3.534592866897583,
          4.311448097229004,
          5.8754682540893555,
          9.86754035949707,
          6.730546951293945,
          5.4803996086120605,
          10.190018653869629,
          10.002721786499023,
          9.326870918273926,
          5.62364387512207,
          5.386445999145508,
          9.764931678771973,
          7.770383834838867,
          5.667598724365234,
          5.2000627517700195,
          4.167022705078125,
          9.202766418457031,
          3.830106496810913,
          4.455575466156006,
          6.03532600402832,
          5.1195454597473145,
          6.3542633056640625,
          9.082334518432617,
          7.911942481994629,
          7.073151111602783,
          9.087431907653809,
          8.61245059967041,
          8.00015926361084,
          4.045165061950684,
          5.068394184112549,
          3.9223875999450684,
          5.795767307281494,
          5.622613430023193,
          6.901869773864746,
          10.12179183959961,
          8.253765106201172,
          10.257954597473145,
          7.785722732543945,
          9.465031623840332,
          9.906033515930176,
          6.011463642120361,
          10.006074905395508,
          2.5290467739105225,
          6.1850175857543945,
          7.579154968261719,
          6.478428840637207,
          5.525648593902588,
          6.402725696563721,
          5.9916534423828125,
          4.417412757873535,
          5.020869731903076,
          6.850192070007324,
          3.3997082710266113,
          6.234256267547607,
          6.939358711242676,
          8.416646003723145,
          8.24894905090332,
          10.089679718017578,
          7.264997482299805,
          7.244790077209473,
          5.592038631439209,
          2.5147199630737305,
          9.4380464553833,
          4.070731163024902,
          5.866759777069092,
          6.7419939041137695,
          9.554667472839355,
          6.98604679107666,
          5.21231746673584,
          7.903893947601318,
          6.247574329376221,
          10.076805114746094,
          9.561184883117676,
          3.731677770614624,
          4.859274864196777,
          10.97233772277832,
          9.799800872802734,
          5.513235092163086,
          6.443102836608887,
          5.444688320159912,
          9.965106964111328,
          6.844345569610596,
          6.6896138191223145,
          5.650250434875488,
          5.439541816711426,
          6.311985015869141,
          3.9199585914611816,
          9.438655853271484,
          4.956583499908447,
          5.842015743255615,
          5.006698131561279,
          7.172425270080566,
          6.468998908996582,
          3.9316022396087646,
          9.414400100708008,
          5.390872955322266,
          8.446210861206055,
          3.830974578857422,
          3.6490345001220703,
          8.421865463256836,
          3.9391884803771973,
          3.4185080528259277,
          8.771581649780273,
          7.8022236824035645,
          5.047229290008545,
          7.136049270629883,
          10.405071258544922,
          5.758497714996338,
          7.153285503387451,
          5.4298295974731445,
          8.778854370117188,
          8.365121841430664,
          10.682994842529297,
          8.239136695861816,
          6.399289131164551,
          8.0418701171875,
          6.612267971038818,
          9.551240921020508,
          10.501104354858398,
          4.13066291809082,
          4.851280689239502,
          7.434720516204834,
          7.302027225494385,
          9.023211479187012,
          4.489325046539307,
          7.505461692810059,
          10.2561674118042,
          3.789604663848877,
          10.958097457885742,
          5.994265556335449,
          8.170674324035645,
          8.439190864562988,
          6.677563190460205,
          8.242317199707031,
          4.348241806030273,
          5.643653869628906,
          9.684587478637695,
          8.145637512207031,
          5.664102077484131,
          8.09950065612793,
          9.782663345336914,
          6.124243259429932,
          9.801772117614746,
          3.7884161472320557,
          8.425674438476562,
          8.072537422180176,
          9.141721725463867,
          6.962170600891113,
          7.965339183807373,
          7.644502639770508,
          10.115038871765137,
          7.839174270629883,
          5.539894104003906,
          7.257114887237549,
          9.43200969696045,
          7.229583263397217,
          8.310399055480957,
          7.6496901512146,
          7.662932872772217,
          9.126444816589355,
          3.8415000438690186,
          5.034966468811035,
          10.814096450805664,
          5.34664249420166,
          10.433891296386719,
          10.61977767944336,
          6.0327277183532715,
          6.5333051681518555,
          5.934327602386475,
          6.3678131103515625,
          9.766369819641113,
          6.557469367980957,
          6.8997907638549805,
          4.381802082061768,
          3.7902021408081055,
          5.631068229675293,
          7.0436906814575195,
          6.359683036804199,
          9.33984375,
          6.0701212882995605,
          6.0726847648620605,
          6.367565631866455,
          10.345059394836426,
          10.332054138183594,
          5.897356986999512,
          5.92043399810791,
          6.698960781097412,
          4.396043300628662,
          4.5354132652282715,
          4.91052770614624,
          7.701340675354004,
          3.835190534591675,
          7.633244037628174,
          6.659714221954346,
          4.131505489349365,
          9.886303901672363,
          9.99843978881836,
          5.714654922485352,
          6.871354103088379,
          4.419095993041992,
          9.546468734741211,
          8.764365196228027,
          9.630687713623047,
          6.035841464996338,
          9.174878120422363,
          9.041354179382324,
          10.854398727416992,
          7.400710582733154,
          8.490514755249023,
          6.644293308258057,
          5.471329689025879,
          6.5723137855529785,
          10.417552947998047,
          4.399033546447754,
          6.731319427490234,
          4.903799533843994,
          3.9845049381256104,
          9.29548454284668,
          6.276324272155762,
          5.2307538986206055,
          5.291228771209717,
          3.993734359741211,
          10.272418022155762,
          6.158353328704834,
          5.59033203125,
          10.201335906982422,
          10.506507873535156,
          7.802731990814209,
          9.642252922058105,
          10.486122131347656,
          8.360529899597168,
          7.078537940979004,
          3.97369647026062,
          4.501413822174072,
          11.318927764892578,
          9.838942527770996,
          4.495924472808838,
          5.926907062530518,
          8.846963882446289,
          9.087800979614258,
          7.887999057769775,
          4.643812656402588,
          7.360801696777344,
          8.828819274902344,
          10.954530715942383,
          5.442311763763428,
          7.73477029800415,
          4.082029819488525,
          8.74738883972168,
          5.289602279663086,
          9.800174713134766,
          2.509314775466919,
          4.218773365020752,
          10.389320373535156,
          3.9467172622680664,
          5.087899208068848,
          3.770667791366577,
          8.613032341003418,
          10.453916549682617,
          8.190841674804688,
          8.168496131896973,
          10.903029441833496,
          8.821993827819824,
          10.380938529968262,
          10.329739570617676,
          5.509231090545654,
          3.6967570781707764,
          10.572226524353027,
          4.878051280975342,
          6.968163967132568,
          9.076666831970215,
          7.40310001373291,
          8.357234954833984,
          4.534295558929443,
          10.235282897949219,
          6.033111095428467,
          6.145129203796387,
          4.12713623046875,
          6.729229927062988,
          10.734895706176758,
          4.417644500732422,
          6.427816390991211,
          7.762646198272705,
          5.664789199829102,
          9.915119171142578,
          4.121086120605469,
          4.686072826385498,
          8.2482328414917,
          3.672146797180176,
          9.962626457214355,
          4.946420192718506,
          8.430908203125,
          4.614755153656006,
          7.621475696563721,
          8.02065658569336,
          9.922476768493652,
          8.704262733459473,
          10.453041076660156,
          5.935345649719238,
          6.0942606925964355,
          6.245144844055176,
          6.406916618347168,
          10.12706184387207,
          7.854991912841797,
          4.5097832679748535,
          9.841062545776367,
          3.4459431171417236,
          10.251718521118164,
          4.7611894607543945,
          7.670365810394287,
          9.269371032714844,
          5.316348552703857,
          7.244945049285889,
          10.66380786895752,
          10.4227876663208,
          7.490443706512451,
          8.8026123046875,
          7.341472148895264,
          6.67236328125,
          3.9613850116729736,
          5.377938747406006,
          9.011693954467773,
          5.640389442443848,
          10.22669506072998,
          4.759512901306152,
          5.719588756561279,
          6.881946563720703,
          10.244222640991211,
          4.459024429321289,
          5.999743938446045,
          10.375706672668457,
          9.822616577148438,
          7.644802570343018,
          6.045845031738281,
          7.156327724456787,
          7.9424614906311035,
          5.634697914123535,
          7.1574201583862305,
          4.116995334625244,
          9.959702491760254,
          8.143228530883789,
          10.03210735321045,
          5.477917194366455,
          6.708122253417969,
          7.042102336883545,
          6.718416213989258,
          6.237585067749023,
          5.49587869644165,
          9.70070743560791,
          6.65838098526001,
          9.17564582824707,
          8.890748023986816,
          4.559850215911865,
          7.204981803894043,
          9.45125961303711,
          8.108622550964355,
          8.14095401763916,
          3.3877756595611572,
          6.28432559967041,
          10.341692924499512,
          5.260404586791992,
          8.315871238708496,
          6.144311428070068,
          11.036933898925781,
          4.591859340667725,
          5.117548942565918,
          7.177075386047363,
          7.532503128051758,
          5.894035339355469,
          11.445836067199707,
          8.080902099609375,
          8.742934226989746,
          6.56374454498291,
          10.284286499023438,
          10.722400665283203,
          8.04260540008545,
          5.6264238357543945,
          5.290811061859131,
          10.498787879943848,
          6.663021564483643,
          8.193257331848145,
          10.520764350891113,
          4.028896808624268,
          4.371636390686035,
          4.158325672149658,
          7.71184778213501,
          8.883949279785156,
          6.821239948272705,
          5.53416109085083,
          5.992359638214111,
          9.934475898742676,
          6.752242088317871,
          5.761843204498291,
          7.013221263885498,
          10.454801559448242,
          5.325395107269287,
          10.70551872253418,
          8.970075607299805,
          8.500341415405273,
          5.116598606109619,
          5.929594039916992,
          5.396595001220703,
          10.185580253601074,
          4.570310592651367,
          4.545866966247559,
          4.876506805419922,
          4.548492431640625,
          3.764533281326294,
          8.790542602539062,
          3.761983633041382,
          7.667829513549805,
          4.323497772216797,
          6.0055108070373535,
          7.53460693359375,
          7.736011981964111,
          6.129412651062012,
          10.312763214111328,
          3.7736775875091553,
          9.018037796020508,
          8.085282325744629,
          6.542269229888916,
          7.150477409362793,
          9.61717414855957,
          5.973348140716553,
          5.764184474945068,
          6.327054977416992,
          7.505117893218994,
          6.176853179931641,
          5.299040794372559,
          5.639673709869385,
          3.9872207641601562,
          5.815403938293457,
          4.227065086364746,
          4.978723526000977,
          7.564345836639404,
          4.103155136108398,
          5.197087287902832,
          10.29052448272705,
          6.647538661956787,
          4.097012519836426,
          4.963016510009766,
          7.087682723999023,
          6.777101516723633,
          9.515128135681152,
          9.589908599853516,
          4.291147708892822,
          8.127470016479492,
          9.324580192565918,
          4.088738441467285,
          6.230634689331055,
          5.750360012054443,
          4.112512111663818,
          8.786601066589355,
          4.506199359893799,
          5.876961708068848,
          3.7491323947906494,
          5.539597034454346,
          9.323201179504395,
          10.09535026550293,
          10.385261535644531,
          8.360897064208984,
          5.796078681945801,
          9.767021179199219,
          4.10216760635376,
          5.9292683601379395,
          5.030423641204834,
          8.82132339477539,
          3.7707293033599854,
          5.4239301681518555,
          7.069765090942383,
          10.576255798339844,
          3.4411873817443848,
          10.20226764678955,
          3.962191343307495,
          10.344524383544922,
          6.224236965179443,
          7.98512601852417,
          3.8302958011627197,
          8.97668170928955,
          6.022034645080566,
          7.453295707702637,
          6.21548318862915,
          5.706967830657959,
          5.203629970550537,
          10.389307022094727,
          6.855530738830566,
          4.144625186920166,
          6.1768479347229,
          5.456175804138184,
          4.049619197845459,
          10.460515975952148,
          5.510162830352783,
          7.660335063934326,
          9.604104042053223,
          9.131478309631348,
          10.80288314819336,
          10.250433921813965,
          10.361915588378906,
          5.500838279724121,
          9.662420272827148,
          10.066633224487305,
          6.854127883911133,
          4.340819358825684,
          6.711198329925537,
          4.962357997894287,
          10.480265617370605,
          6.05926513671875,
          6.08922004699707,
          5.28776741027832,
          6.113030910491943,
          6.541735649108887,
          7.208032131195068,
          9.887500762939453,
          6.176682472229004,
          6.163392543792725,
          9.585360527038574,
          9.08795166015625,
          5.871118068695068,
          5.205691814422607,
          4.534632682800293,
          4.273166179656982,
          4.830092906951904,
          5.0678887367248535,
          10.316533088684082,
          4.471126556396484,
          3.3805716037750244,
          7.478780269622803,
          10.409701347351074,
          8.229001998901367,
          5.34818172454834,
          6.221218109130859,
          6.158235549926758,
          5.969749927520752,
          10.96921443939209,
          7.4087700843811035,
          10.683616638183594,
          4.156444549560547,
          9.764130592346191,
          10.518543243408203,
          10.356672286987305,
          6.572389602661133,
          4.686755180358887,
          6.611401557922363,
          4.812249660491943,
          7.538382053375244,
          4.485656261444092,
          6.544342041015625,
          5.84459114074707,
          5.079441070556641,
          6.391736030578613,
          8.111680030822754,
          9.320033073425293,
          5.26505708694458,
          7.166682720184326,
          5.139103412628174,
          9.90009880065918,
          5.613536834716797,
          6.712881088256836,
          10.014633178710938,
          10.062572479248047,
          9.11237621307373,
          10.747087478637695,
          5.214895248413086,
          4.73134183883667,
          5.7731146812438965,
          4.355362892150879,
          7.231360912322998,
          10.845731735229492,
          7.117403030395508,
          9.106941223144531,
          10.25032901763916,
          6.802820682525635,
          6.11747932434082,
          9.127652168273926,
          4.16762638092041,
          5.424200057983398,
          4.21758508682251,
          10.15435791015625,
          9.202229499816895,
          5.120461940765381,
          4.369324207305908,
          10.051390647888184,
          3.9502384662628174,
          7.073721408843994,
          3.3954038619995117,
          6.617470741271973,
          10.588092803955078,
          9.63759994506836,
          6.500828742980957,
          4.306674480438232,
          5.831808090209961,
          9.318557739257812,
          6.408215522766113,
          3.9038338661193848,
          9.542139053344727,
          4.523567199707031,
          9.842100143432617,
          4.643749237060547,
          9.736044883728027,
          7.786820888519287,
          9.61237907409668,
          8.18430233001709,
          5.033379554748535,
          5.552555084228516,
          6.380748748779297,
          6.905511856079102,
          7.993143081665039,
          8.22520637512207,
          3.778759241104126,
          7.871683597564697,
          9.44952392578125,
          6.3570051193237305,
          10.55713939666748,
          7.219738960266113,
          9.57629680633545,
          4.1231303215026855,
          6.731471538543701,
          3.853304862976074,
          10.146808624267578,
          7.182339668273926,
          10.26344108581543,
          7.427303791046143,
          4.811324119567871,
          3.3542463779449463,
          8.935776710510254,
          7.292502403259277,
          10.686668395996094,
          10.568659782409668,
          8.296751976013184,
          11.46548843383789,
          8.885675430297852,
          9.35574722290039,
          10.83849048614502,
          4.508200168609619,
          10.245991706848145,
          9.661202430725098,
          4.328407287597656,
          6.2951250076293945,
          4.023663520812988,
          10.644758224487305,
          9.063268661499023,
          10.914816856384277,
          4.613925933837891,
          9.426309585571289,
          7.429112911224365,
          5.457799911499023,
          9.746663093566895,
          4.165778160095215,
          5.455068588256836,
          5.701527118682861,
          4.9772772789001465,
          4.322817802429199,
          10.393021583557129,
          6.708565711975098,
          6.663726806640625,
          4.999536991119385,
          5.854063987731934,
          6.0411376953125,
          7.953627109527588,
          4.036026954650879,
          8.091473579406738,
          9.220754623413086,
          6.571720123291016,
          9.665431022644043,
          7.823816776275635,
          9.720623016357422,
          5.759089946746826,
          4.0819268226623535,
          4.170777797698975,
          6.80155086517334,
          5.2454705238342285,
          9.692508697509766,
          8.549418449401855,
          3.9560155868530273,
          7.116323471069336,
          4.99222469329834,
          5.1043701171875,
          8.637133598327637,
          7.607820987701416,
          8.779502868652344,
          9.56689167022705,
          8.894400596618652,
          7.0749382972717285,
          6.483897686004639,
          7.0708088874816895,
          7.563694000244141,
          4.646265983581543,
          4.2353291511535645,
          9.639717102050781,
          6.850252151489258,
          9.801506996154785,
          8.083134651184082,
          5.067467212677002,
          4.172016143798828,
          5.703715801239014,
          7.335933208465576,
          7.658590316772461,
          5.333711624145508,
          8.382597923278809,
          8.399088859558105,
          8.296350479125977,
          6.084916591644287,
          8.07681941986084,
          6.273523330688477,
          10.035799026489258,
          10.356029510498047,
          5.70954704284668,
          10.143199920654297,
          8.166293144226074,
          5.615499973297119,
          11.065779685974121,
          5.544625759124756,
          9.74995231628418,
          7.976774215698242,
          5.870201587677002,
          9.324645042419434,
          8.043747901916504,
          8.998620986938477,
          9.843437194824219,
          10.598498344421387,
          6.5706706047058105,
          6.028261184692383,
          8.145700454711914,
          5.3357977867126465,
          5.840065956115723,
          10.531797409057617,
          6.092116832733154,
          6.521300792694092,
          10.017265319824219,
          5.380764484405518,
          7.918895721435547,
          6.604496479034424,
          3.4309499263763428,
          6.668728828430176,
          5.290102005004883,
          4.134422779083252,
          4.019327163696289,
          3.726452589035034,
          4.983527660369873,
          4.8013596534729,
          4.221184253692627,
          6.528439044952393,
          5.419067859649658,
          6.888454914093018,
          7.519257545471191,
          5.039601802825928,
          10.361988067626953,
          5.258848667144775,
          5.707522392272949,
          9.498396873474121,
          10.434722900390625,
          5.949667453765869,
          4.439154624938965,
          5.707851886749268,
          5.069451332092285,
          9.63779354095459,
          10.397507667541504,
          8.54982852935791,
          4.776589393615723,
          7.7272047996521,
          5.09782075881958,
          6.578824996948242,
          9.731432914733887,
          6.316258907318115,
          9.700332641601562,
          10.552868843078613,
          5.907682418823242,
          7.165614604949951,
          10.179308891296387,
          5.64656925201416,
          7.746114253997803,
          4.00661563873291,
          6.079964637756348,
          6.91446590423584,
          7.874292850494385,
          7.275059223175049,
          4.07922887802124,
          4.47351598739624,
          9.127458572387695,
          7.983654499053955,
          6.089158058166504,
          5.15927791595459,
          6.787224292755127,
          5.8943257331848145,
          5.533618927001953,
          5.5176472663879395,
          10.015183448791504,
          2.533968448638916,
          5.46750020980835,
          7.800328254699707,
          5.72422456741333,
          10.336408615112305,
          5.54813289642334,
          7.789888381958008,
          10.131824493408203,
          5.113929748535156,
          8.709482192993164,
          4.064036846160889,
          6.26064395904541,
          4.58035945892334,
          6.163297176361084,
          8.977347373962402,
          10.566524505615234,
          9.088380813598633,
          4.533649921417236,
          8.852075576782227,
          10.12680721282959,
          6.988535404205322,
          5.651176929473877,
          8.179762840270996,
          7.354844093322754,
          9.209794044494629,
          7.761292934417725,
          10.506396293640137,
          10.850849151611328,
          10.545198440551758,
          10.674227714538574,
          8.910346031188965,
          10.11634349822998,
          3.8670549392700195,
          5.188599109649658,
          10.318603515625,
          5.5683913230896,
          4.061332702636719,
          11.217466354370117,
          5.18131685256958,
          6.735783576965332,
          10.579676628112793,
          8.04869270324707,
          6.651016712188721,
          6.9463887214660645,
          4.532875061035156,
          6.1141581535339355,
          10.378560066223145,
          7.830648422241211,
          4.459444046020508,
          5.98980712890625,
          6.6451497077941895,
          9.43183422088623,
          10.693388938903809,
          3.8171157836914062,
          6.862182140350342,
          5.133908271789551,
          10.959043502807617,
          8.143941879272461,
          7.591035842895508,
          7.601871967315674,
          5.674200057983398,
          5.029460906982422,
          6.772645473480225,
          6.670199394226074,
          4.494958400726318,
          5.740155220031738,
          8.303622245788574,
          5.3589091300964355,
          6.085305213928223,
          7.404746055603027,
          9.223801612854004,
          8.422517776489258,
          9.715978622436523,
          4.178073406219482,
          8.261114120483398,
          10.055788040161133,
          10.299173355102539,
          8.26904582977295,
          10.206938743591309,
          6.975741863250732,
          7.6171793937683105,
          4.176785945892334,
          5.904141426086426,
          6.487618923187256,
          5.8298492431640625,
          7.431266784667969,
          9.386977195739746,
          9.644621849060059,
          4.0295586585998535,
          7.738112449645996,
          6.80074405670166,
          9.026545524597168,
          4.14042854309082,
          10.491157531738281,
          6.753698348999023,
          5.782389163970947,
          8.1080322265625,
          10.230053901672363,
          6.07304048538208,
          4.667429447174072,
          5.881528377532959,
          9.954001426696777,
          5.581239700317383,
          4.479472637176514,
          6.6874213218688965,
          7.9649248123168945,
          5.652257919311523,
          10.299670219421387,
          4.543310642242432,
          11.084359169006348,
          5.499664306640625,
          5.750571250915527,
          9.328998565673828,
          7.186312198638916,
          4.123725891113281,
          9.674824714660645,
          6.464397430419922,
          4.748197078704834,
          7.783215522766113,
          3.817580461502075,
          5.589266777038574,
          9.607293128967285,
          10.411893844604492,
          10.3270902633667,
          8.053661346435547,
          5.110902309417725,
          2.5210742950439453,
          9.713553428649902,
          5.426075458526611,
          6.006754398345947,
          7.079410552978516,
          9.645176887512207,
          6.285120487213135,
          10.521058082580566,
          3.746938705444336,
          5.361976146697998,
          4.4392924308776855,
          6.334770679473877,
          6.092138290405273,
          5.655178070068359,
          3.814549446105957,
          8.99643611907959,
          4.010824680328369,
          4.637093544006348,
          10.248213768005371,
          10.253487586975098,
          4.02803897857666,
          5.899720668792725,
          4.396139621734619,
          8.269391059875488,
          4.228026390075684,
          8.217681884765625,
          5.438911437988281,
          10.391802787780762,
          6.553114891052246,
          7.013921737670898,
          8.242969512939453,
          6.265289306640625,
          5.602494716644287,
          7.7400078773498535,
          6.088126182556152,
          10.195589065551758,
          5.8643388748168945,
          10.207879066467285,
          3.386282444000244,
          4.880777359008789,
          4.132950782775879,
          7.3371710777282715,
          4.063937187194824,
          4.5482707023620605,
          8.553614616394043,
          5.338890552520752,
          9.741124153137207,
          10.451040267944336,
          4.606112957000732,
          6.090623378753662,
          8.296497344970703,
          9.330806732177734,
          5.867378234863281,
          10.451533317565918,
          5.845238208770752,
          10.607428550720215,
          4.339066028594971,
          5.4005537033081055,
          9.58692455291748,
          8.365570068359375,
          7.439879894256592,
          9.95350456237793,
          6.95875883102417,
          8.122547149658203,
          7.590925216674805,
          5.7704949378967285,
          5.099456310272217,
          6.701602935791016,
          7.659690856933594,
          6.658914089202881,
          6.435384273529053,
          7.645431041717529,
          5.600490093231201,
          5.453747272491455,
          9.686915397644043,
          7.270080089569092,
          7.006701469421387,
          6.997572422027588,
          5.038918972015381,
          8.329708099365234,
          8.144657135009766,
          6.039700031280518,
          7.571746349334717,
          7.568450450897217,
          6.096879482269287,
          6.078110218048096,
          10.464360237121582,
          7.908956050872803,
          9.601670265197754,
          5.914135932922363,
          5.730042457580566,
          6.358871936798096,
          7.639474868774414,
          5.554272174835205,
          5.236781597137451,
          9.434558868408203,
          10.580167770385742,
          8.689312934875488,
          6.759538173675537,
          7.315662384033203,
          4.684373378753662,
          4.463778972625732,
          7.317673683166504,
          9.095229148864746,
          3.884119749069214,
          5.750339508056641,
          4.270712852478027,
          3.8626186847686768,
          10.356820106506348,
          10.840612411499023,
          4.146698474884033,
          6.965165138244629,
          8.796797752380371,
          5.862582683563232,
          10.288657188415527,
          6.439690589904785,
          8.470505714416504,
          10.524569511413574,
          7.049986362457275,
          10.148885726928711,
          8.40206527709961,
          9.369407653808594,
          9.259882926940918,
          8.286977767944336,
          8.885614395141602,
          9.763811111450195,
          10.81075382232666,
          10.155508995056152,
          4.4760918617248535,
          3.8821771144866943,
          9.324983596801758,
          8.366297721862793,
          3.3952364921569824,
          5.927253723144531,
          5.822711944580078,
          5.106566905975342,
          4.010715007781982,
          5.6987714767456055,
          7.955850124359131,
          6.862167835235596,
          6.413028717041016,
          9.43620777130127,
          4.595724582672119,
          6.457399845123291,
          5.4188055992126465,
          5.894556999206543,
          5.326751232147217,
          6.143168926239014,
          7.801480293273926,
          6.037622451782227,
          6.068256855010986,
          6.531691074371338,
          4.620527744293213,
          6.602055549621582,
          5.011950969696045,
          4.454470157623291,
          7.893609046936035,
          5.285926342010498,
          9.577997207641602,
          4.473954200744629,
          5.953606605529785,
          6.145015716552734,
          7.686455249786377,
          5.909386157989502,
          5.899893283843994,
          5.375967979431152,
          5.887397289276123,
          10.18260383605957,
          3.8258042335510254,
          4.361069202423096,
          8.511728286743164,
          4.29069709777832,
          6.715013027191162,
          9.582093238830566,
          10.079370498657227,
          5.67752742767334,
          11.012707710266113,
          7.861089706420898,
          4.476432800292969,
          4.776674270629883,
          9.454463958740234,
          4.396160125732422,
          10.6404447555542,
          5.82607889175415,
          8.992232322692871,
          8.059730529785156,
          10.3150053024292,
          4.5063652992248535,
          6.011716365814209,
          8.463242530822754,
          4.203819274902344,
          4.244274616241455,
          7.179553985595703,
          4.801209449768066,
          9.449493408203125,
          10.57833480834961,
          5.903388023376465,
          6.093985080718994,
          10.551949501037598,
          10.50094223022461,
          4.053104400634766,
          8.049460411071777,
          5.565344333648682,
          9.532489776611328,
          3.7853708267211914,
          6.3976731300354,
          5.349063396453857,
          4.029867649078369,
          8.494636535644531,
          7.303454399108887,
          6.932412624359131,
          7.774692535400391,
          10.110965728759766,
          3.448286294937134,
          7.8579182624816895,
          7.898387432098389,
          6.973124980926514,
          11.13341236114502,
          3.3704631328582764,
          3.8077805042266846,
          9.43293571472168,
          6.8844733238220215,
          9.4253568649292,
          8.276387214660645,
          6.569085121154785,
          7.738054275512695,
          4.8795695304870605,
          7.9392991065979,
          6.908531665802002,
          5.710284233093262,
          10.857796669006348,
          8.045928955078125,
          5.292987823486328,
          7.046360015869141,
          7.364498615264893,
          7.981187343597412,
          9.17199420928955,
          5.139124870300293,
          5.518249034881592,
          9.790111541748047,
          9.784235954284668,
          5.0071563720703125,
          9.605133056640625,
          10.74210262298584,
          3.7762322425842285,
          4.708283424377441,
          11.123665809631348,
          10.276803016662598,
          10.43967056274414,
          2.939326047897339,
          11.090425491333008,
          4.67844820022583,
          5.127222537994385,
          9.32557201385498,
          8.201683044433594,
          4.045273780822754,
          5.408899307250977,
          8.121687889099121,
          6.397214412689209,
          8.217975616455078,
          6.6295623779296875,
          5.642054080963135,
          9.251855850219727,
          4.665063381195068,
          4.583739280700684,
          4.494393825531006,
          8.144525527954102,
          6.04092264175415,
          10.656852722167969,
          5.694609642028809,
          8.961864471435547,
          5.47800350189209,
          6.308846473693848,
          11.249706268310547,
          7.83729887008667,
          7.662742614746094,
          9.455328941345215,
          7.736503601074219,
          4.706876754760742,
          4.448089122772217,
          10.140185356140137,
          6.465652942657471,
          10.274073600769043,
          9.73851203918457,
          3.923572063446045,
          5.404505729675293,
          10.092626571655273,
          6.959512233734131,
          8.247859001159668,
          5.14101505279541,
          6.865630149841309,
          8.89684009552002,
          5.896603584289551,
          4.013836860656738,
          9.351981163024902,
          10.0593900680542,
          9.059279441833496,
          9.69787311553955,
          5.16582727432251,
          10.293668746948242,
          9.927935600280762,
          11.148066520690918,
          3.675429344177246,
          4.632264614105225,
          4.221093654632568,
          3.9493274688720703,
          5.649892807006836,
          8.672497749328613,
          7.755819797515869,
          4.46383810043335,
          5.569405555725098,
          5.881737232208252,
          6.7067365646362305,
          3.3778703212738037,
          10.18044662475586,
          7.755918979644775,
          4.487532138824463,
          10.275148391723633,
          5.739748001098633,
          4.455042839050293,
          7.2771148681640625,
          6.106308460235596,
          5.962909698486328,
          10.476838111877441,
          7.623635292053223,
          8.202384948730469,
          10.754611015319824,
          6.168303966522217,
          7.966115951538086,
          9.808398246765137,
          5.69096565246582,
          9.799225807189941,
          7.211056709289551,
          6.010951995849609,
          9.102697372436523,
          5.9246416091918945,
          6.818452835083008,
          6.1668853759765625,
          6.762833595275879,
          9.847471237182617,
          10.191953659057617,
          9.63589859008789,
          7.079458713531494,
          4.63012170791626,
          4.725801944732666,
          5.488133907318115,
          9.039365768432617,
          6.767636299133301,
          3.9713470935821533,
          4.2233381271362305,
          4.013646125793457,
          3.8623290061950684,
          8.046338081359863,
          3.7068099975585938,
          8.323097229003906,
          4.347946643829346,
          10.581196784973145,
          9.5060453414917,
          6.552912712097168,
          10.027503967285156,
          6.894374847412109,
          5.25430965423584,
          3.7614307403564453,
          6.827268600463867,
          5.970608234405518,
          5.848220348358154,
          5.1087751388549805,
          7.942853927612305,
          8.330297470092773,
          8.221652030944824,
          6.122757911682129,
          9.135513305664062,
          7.63887357711792,
          7.405246257781982,
          9.727150917053223,
          10.069576263427734,
          3.458672046661377,
          3.8541088104248047,
          10.601930618286133,
          10.332297325134277,
          7.594839096069336,
          3.3468680381774902,
          5.8879075050354,
          6.8754191398620605,
          8.469298362731934,
          8.885820388793945,
          6.074851989746094,
          10.313700675964355,
          7.611614227294922,
          4.653504371643066,
          8.50056266784668,
          6.601540565490723,
          9.706104278564453,
          7.277516841888428,
          7.266185283660889,
          7.61927604675293,
          3.543196201324463,
          10.41372299194336,
          5.240894317626953,
          4.769814968109131,
          8.491118431091309,
          10.534114837646484,
          5.622481822967529,
          8.169025421142578,
          10.950523376464844,
          5.884626388549805,
          6.686718940734863,
          10.430488586425781,
          4.1486005783081055,
          5.517453670501709,
          5.871004581451416,
          7.729363918304443,
          5.8313398361206055,
          3.720621347427368,
          9.662638664245605,
          8.125103950500488,
          3.9377081394195557,
          8.917936325073242,
          4.616906642913818,
          10.187888145446777,
          10.715725898742676,
          9.20475959777832,
          5.354081630706787,
          5.567330360412598,
          4.181392669677734,
          7.144789218902588,
          6.865175724029541,
          4.110470771789551,
          2.5125322341918945,
          10.447660446166992,
          9.692828178405762,
          4.1764421463012695,
          6.729528427124023,
          6.076817989349365,
          5.584691047668457,
          6.34323787689209,
          9.6722412109375,
          6.613616466522217,
          9.56413745880127,
          4.579705715179443,
          4.212233066558838,
          7.163180828094482,
          5.598458766937256,
          2.503657341003418,
          5.454655170440674,
          7.696371078491211,
          7.648941516876221,
          9.249316215515137,
          3.4361608028411865,
          5.7212958335876465,
          3.469005584716797,
          10.596892356872559,
          5.128551959991455,
          8.988969802856445,
          8.071882247924805,
          9.374064445495605,
          6.2077250480651855,
          6.224161624908447,
          4.501181125640869,
          10.918624877929688,
          7.993020534515381,
          10.08802318572998,
          7.210692405700684,
          3.936856508255005,
          10.456035614013672,
          9.691614151000977,
          9.379024505615234,
          5.996295928955078,
          7.487582683563232,
          3.7688217163085938,
          8.223282814025879,
          7.952556610107422,
          5.832122802734375,
          10.174980163574219,
          3.8498618602752686,
          6.709371566772461,
          5.7071661949157715,
          4.9837117195129395,
          6.920777320861816,
          7.238525390625,
          5.313411712646484,
          10.42052936553955,
          6.780508995056152,
          7.013499736785889,
          4.952970504760742,
          4.927384853363037,
          4.882255554199219,
          6.453658580780029,
          5.868907928466797,
          10.59368896484375,
          5.8630499839782715,
          4.476702690124512,
          5.324954509735107,
          6.216588497161865,
          6.863407611846924,
          5.650526523590088,
          6.281013011932373,
          7.677454948425293,
          7.111229419708252,
          9.632770538330078,
          4.367929935455322,
          7.849685192108154,
          6.4766082763671875,
          6.2427077293396,
          8.524187088012695,
          5.460214614868164,
          7.007936477661133,
          7.615934371948242,
          8.411361694335938,
          5.432683944702148,
          9.638873100280762,
          4.700597763061523,
          10.464943885803223,
          6.0676679611206055,
          4.319302082061768,
          5.993006706237793,
          7.310763359069824,
          7.973264217376709,
          11.143588066101074,
          7.431859493255615,
          8.714264869689941,
          7.474274635314941,
          11.144641876220703,
          4.33706521987915,
          5.38308572769165,
          8.03911018371582,
          10.2572660446167,
          7.148251056671143,
          5.099388599395752,
          3.4290823936462402,
          4.308846950531006,
          4.7777509689331055,
          4.498430252075195,
          6.659687042236328,
          10.017709732055664,
          4.187595844268799,
          9.864989280700684,
          10.906888961791992,
          3.8157122135162354,
          10.394121170043945,
          5.471553802490234,
          9.36904239654541,
          10.429308891296387,
          5.47669792175293,
          9.123480796813965,
          5.725114345550537,
          10.484734535217285,
          10.476028442382812,
          7.093176364898682,
          7.406870365142822,
          4.146531581878662,
          9.747002601623535,
          5.157627582550049,
          10.337972640991211,
          10.454879760742188,
          10.511809349060059,
          5.011105060577393,
          9.703908920288086,
          9.880844116210938,
          7.003660202026367,
          5.923942565917969,
          10.675895690917969,
          4.350359916687012,
          7.843740940093994,
          5.283655643463135,
          9.357775688171387,
          8.982622146606445,
          3.822183609008789,
          5.89561128616333,
          10.20048713684082,
          7.43828010559082,
          9.308289527893066,
          5.842081069946289,
          4.48402214050293,
          5.191911220550537,
          4.6112895011901855,
          6.149613857269287,
          8.127069473266602,
          7.2743964195251465,
          5.97228479385376,
          7.929139614105225,
          9.416959762573242,
          5.381046772003174,
          10.50368881225586,
          6.139184951782227,
          6.356853008270264,
          10.386394500732422,
          7.044350624084473,
          6.666800498962402,
          8.256088256835938,
          9.600159645080566,
          8.653375625610352,
          10.126648902893066,
          10.555255889892578,
          6.699241638183594,
          5.850967884063721,
          6.8759446144104,
          7.992024898529053,
          5.106157302856445,
          7.716975688934326,
          7.511985778808594,
          10.671696662902832,
          5.656028747558594,
          4.412156105041504,
          5.86200475692749,
          3.7011427879333496,
          6.935295104980469,
          6.302558898925781,
          5.348667621612549,
          6.263518810272217,
          6.697288990020752,
          9.483932495117188,
          6.452995777130127,
          3.7997446060180664,
          4.272645473480225,
          8.337361335754395,
          8.41810131072998,
          7.819249629974365,
          8.173718452453613,
          9.43893051147461,
          5.665493488311768,
          5.873470306396484,
          5.648209095001221,
          5.6087799072265625,
          10.103864669799805,
          5.761919021606445,
          9.432381629943848,
          8.524145126342773,
          9.050036430358887,
          9.955903053283691,
          8.183961868286133,
          4.909664630889893,
          4.231180667877197,
          5.6268534660339355,
          9.56843376159668,
          9.304696083068848,
          10.867528915405273,
          4.520864486694336,
          10.19647216796875,
          5.689395904541016,
          3.9511144161224365,
          8.162612915039062,
          5.635097026824951,
          7.005782127380371,
          8.090986251831055,
          5.9524641036987305,
          5.3975911140441895,
          7.416507720947266,
          7.8017377853393555,
          7.575257778167725,
          8.247177124023438,
          4.49259090423584,
          10.149603843688965,
          6.773679256439209,
          4.0890116691589355,
          8.899872779846191,
          7.538198471069336,
          8.128073692321777,
          10.652706146240234,
          9.079758644104004,
          6.2692131996154785,
          9.348217964172363,
          10.615549087524414,
          7.278655529022217,
          4.137653827667236,
          7.932500839233398,
          10.51140308380127,
          4.171327590942383,
          7.9096832275390625,
          5.7614827156066895,
          4.881734371185303,
          9.267073631286621,
          5.52646541595459,
          4.104948997497559,
          4.3677449226379395,
          4.5629167556762695,
          4.3899993896484375,
          5.825743675231934,
          6.834114074707031,
          9.339380264282227,
          6.976267337799072,
          7.505433082580566,
          9.239145278930664,
          9.125103950500488,
          9.716917991638184,
          10.448103904724121,
          5.383005142211914,
          5.984238147735596,
          7.066568851470947,
          4.626051902770996,
          3.960848093032837,
          5.1210784912109375,
          8.056859016418457,
          6.253360271453857,
          7.14478063583374,
          6.348877906799316,
          8.164180755615234,
          3.6082255840301514,
          2.520700216293335,
          4.081989288330078,
          8.898652076721191,
          9.599475860595703,
          6.752523899078369,
          4.486609935760498,
          5.357906818389893,
          3.8271400928497314,
          7.590188980102539,
          10.221951484680176,
          6.799330711364746,
          6.505930423736572,
          5.596543788909912,
          5.414342880249023,
          3.8495659828186035,
          5.796051025390625,
          4.746323585510254,
          9.143040657043457,
          7.217648029327393,
          4.260153293609619,
          4.870055675506592,
          3.850756883621216,
          5.344473361968994,
          6.677178859710693,
          9.176387786865234,
          10.001365661621094,
          10.184219360351562,
          5.650399208068848,
          3.432584047317505,
          6.69684362411499,
          8.464889526367188,
          7.340704441070557,
          9.987726211547852,
          9.6680269241333,
          6.88274621963501,
          5.7252583503723145,
          7.057557582855225,
          7.256637096405029,
          8.284603118896484,
          8.191027641296387,
          11.095059394836426,
          9.830206871032715,
          4.923603534698486,
          6.629846572875977,
          4.045685291290283,
          8.289802551269531,
          6.557042598724365,
          10.006882667541504,
          7.00115442276001,
          8.504013061523438,
          4.839210033416748,
          10.351414680480957,
          6.883641242980957,
          5.086977958679199,
          6.80645227432251,
          8.174628257751465,
          4.259181976318359,
          5.840799331665039,
          8.292760848999023,
          10.492047309875488,
          8.6647367477417,
          6.008566379547119,
          6.679843425750732,
          9.510931015014648,
          7.268840312957764,
          10.90137004852295,
          5.526711463928223,
          7.5842204093933105,
          4.771646022796631,
          8.728461265563965,
          4.151172161102295,
          5.561999320983887,
          9.480924606323242,
          10.372079849243164,
          6.73830509185791,
          8.20327377319336,
          7.2492475509643555,
          5.799746513366699,
          5.747023582458496,
          3.4700305461883545,
          4.4361419677734375,
          5.920726776123047,
          6.2638983726501465,
          7.67604398727417,
          5.753307819366455,
          8.127840042114258,
          4.62869119644165,
          9.495387077331543,
          8.442305564880371,
          6.203717231750488,
          4.696844577789307,
          8.4261474609375,
          6.965020179748535,
          7.369557857513428,
          10.557494163513184
         ],
         "xaxis": "x",
         "y": [
          3.121846914291382,
          1.579257845878601,
          2.104678153991699,
          4.625543594360352,
          6.168485641479492,
          5.464412212371826,
          2.4273123741149902,
          2.4617726802825928,
          4.466583728790283,
          7.046812534332275,
          1.6912708282470703,
          3.0325005054473877,
          4.547638416290283,
          5.138516902923584,
          4.836079120635986,
          5.396378517150879,
          0.7791110277175903,
          1.059057354927063,
          3.8601133823394775,
          2.5826334953308105,
          5.411801815032959,
          0.6390045881271362,
          0.7090978622436523,
          5.172480583190918,
          0.5248194336891174,
          5.230696678161621,
          3.5716941356658936,
          3.2178869247436523,
          0.34907105565071106,
          1.201581358909607,
          5.171059608459473,
          4.6928486824035645,
          6.612627029418945,
          0.17269714176654816,
          4.2461419105529785,
          1.9532581567764282,
          0.7174940705299377,
          3.703254222869873,
          5.271682262420654,
          2.4631800651550293,
          5.657252311706543,
          3.790403127670288,
          2.0028302669525146,
          2.7791526317596436,
          2.365393877029419,
          2.5410547256469727,
          4.376054763793945,
          2.3061225414276123,
          2.9907193183898926,
          6.442897796630859,
          2.4165456295013428,
          4.235910892486572,
          2.4242782592773438,
          1.4121145009994507,
          4.406065940856934,
          6.236610412597656,
          0.8935231566429138,
          3.3557589054107666,
          2.0430285930633545,
          3.4818220138549805,
          3.5953075885772705,
          4.906508445739746,
          0.757860541343689,
          0.9810836911201477,
          5.128425121307373,
          2.7359514236450195,
          4.097529888153076,
          0.30482542514801025,
          1.728643536567688,
          1.053727388381958,
          0.8026311993598938,
          3.559962749481201,
          3.550642251968384,
          3.7750792503356934,
          3.9784014225006104,
          2.153174638748169,
          0.5529399514198303,
          1.829737663269043,
          0.703709065914154,
          1.925747036933899,
          6.496772289276123,
          0.3180506229400635,
          4.932199001312256,
          2.02463436126709,
          1.1167981624603271,
          0.6640177965164185,
          3.1570568084716797,
          2.599787712097168,
          3.4588801860809326,
          1.245856523513794,
          3.1964879035949707,
          2.5162699222564697,
          1.0117664337158203,
          2.0894908905029297,
          0.34383344650268555,
          0.41973063349723816,
          1.8615224361419678,
          1.7587236166000366,
          2.7831368446350098,
          4.214898109436035,
          3.2261128425598145,
          3.4234073162078857,
          0.885011613368988,
          6.239211559295654,
          0.5562108159065247,
          3.9427356719970703,
          1.0247050523757935,
          1.9512498378753662,
          2.55035138130188,
          5.408204555511475,
          5.895260810852051,
          1.7544916868209839,
          5.145007133483887,
          3.167771816253662,
          3.0700020790100098,
          0.7272948622703552,
          3.443955659866333,
          3.018876791000366,
          4.677092552185059,
          2.219252586364746,
          5.596050262451172,
          2.5985639095306396,
          2.5413618087768555,
          0.7955406904220581,
          5.234419345855713,
          0.1333010494709015,
          -0.1100672036409378,
          2.0583698749542236,
          3.9157087802886963,
          -0.32749611139297485,
          0.5757012963294983,
          4.002726078033447,
          5.4021501541137695,
          1.4947012662887573,
          1.2261455059051514,
          1.9063336849212646,
          1.4492896795272827,
          0.11186685413122177,
          5.75103759765625,
          3.8884685039520264,
          2.8993711471557617,
          6.764750003814697,
          5.039559364318848,
          6.128953456878662,
          4.381058216094971,
          3.9826345443725586,
          6.8181562423706055,
          0.8091453909873962,
          0.6370315551757812,
          4.260462284088135,
          4.419349670410156,
          1.220679521560669,
          2.5953564643859863,
          0.8717678785324097,
          3.0072295665740967,
          1.993064045906067,
          3.676558494567871,
          0.6704776883125305,
          5.08866548538208,
          5.090126991271973,
          4.911652088165283,
          6.804941654205322,
          0.41424867510795593,
          0.9753201603889465,
          2.3328473567962646,
          5.031332492828369,
          2.7665553092956543,
          5.165936470031738,
          2.960258960723877,
          3.7868118286132812,
          7.032837867736816,
          4.4341912269592285,
          0.8384677767753601,
          0.6700125932693481,
          0.000007433347036567284,
          2.444720506668091,
          1.032761573791504,
          1.2593410015106201,
          1.8100552558898926,
          0.27181607484817505,
          -0.43400850892066956,
          3.1376380920410156,
          -0.4570395350456238,
          4.689602375030518,
          2.7790815830230713,
          2.0994226932525635,
          5.417346000671387,
          1.2446794509887695,
          0.12585647404193878,
          4.995245456695557,
          1.522407054901123,
          -0.21786828339099884,
          1.2051093578338623,
          2.8954553604125977,
          6.680148124694824,
          0.7812201380729675,
          6.703369617462158,
          6.6310200691223145,
          4.050472259521484,
          0.5369579195976257,
          4.566944599151611,
          2.006287097930908,
          3.0033493041992188,
          5.475293159484863,
          2.149876117706299,
          1.237115740776062,
          5.197761535644531,
          5.350662708282471,
          3.5393130779266357,
          2.6597249507904053,
          0.7785701155662537,
          2.8907365798950195,
          1.5546013116836548,
          0.18347667157649994,
          2.6949551105499268,
          4.8109307289123535,
          3.415693998336792,
          3.196321964263916,
          1.967082142829895,
          4.867076396942139,
          0.7539852261543274,
          1.332701325416565,
          4.914702415466309,
          6.374443531036377,
          5.768063545227051,
          1.4665894508361816,
          -0.011698910966515541,
          0.3940277397632599,
          3.075544834136963,
          1.7905428409576416,
          2.4193899631500244,
          2.0660512447357178,
          6.699747085571289,
          -0.3103976845741272,
          4.4688873291015625,
          0.14866162836551666,
          2.0574615001678467,
          4.256171703338623,
          5.438910007476807,
          2.007535934448242,
          1.9187878370285034,
          0.7107349634170532,
          4.420196056365967,
          1.3486788272857666,
          2.9149484634399414,
          5.737998962402344,
          5.58195686340332,
          2.7081212997436523,
          0.6293911933898926,
          4.312305927276611,
          0.5877859592437744,
          3.0067036151885986,
          0.4064461588859558,
          5.2511701583862305,
          -0.03627381473779678,
          1.0537267923355103,
          5.449490547180176,
          5.215825080871582,
          1.6461703777313232,
          3.826850414276123,
          3.528773307800293,
          5.072473049163818,
          2.073809862136841,
          2.0954248905181885,
          3.941312074661255,
          5.194738864898682,
          4.581958293914795,
          4.596064567565918,
          0.33395200967788696,
          4.453643798828125,
          2.595926523208618,
          2.805173397064209,
          1.5733717679977417,
          2.5042598247528076,
          0.8397895693778992,
          1.3317852020263672,
          0.8817490935325623,
          4.822537422180176,
          0.6254111528396606,
          1.2573580741882324,
          2.3863205909729004,
          1.5709868669509888,
          1.4624375104904175,
          5.431726455688477,
          0.8736404180526733,
          5.091239929199219,
          3.781684637069702,
          0.6901324391365051,
          1.3027093410491943,
          2.058985471725464,
          1.6503880023956299,
          3.245056390762329,
          3.9391117095947266,
          0.6838940382003784,
          5.7059221267700195,
          2.543973207473755,
          1.0740207433700562,
          4.3227643966674805,
          7.165807723999023,
          1.7984579801559448,
          0.6839736700057983,
          2.5681934356689453,
          1.634466290473938,
          3.1062681674957275,
          3.65346360206604,
          1.115329384803772,
          6.234879970550537,
          5.275900363922119,
          2.0573511123657227,
          4.619055271148682,
          4.323178291320801,
          1.839910864830017,
          2.0266478061676025,
          4.385854721069336,
          1.1678645610809326,
          6.712381839752197,
          2.127500057220459,
          0.5191361904144287,
          4.533568382263184,
          -0.2909465432167053,
          0.38601812720298767,
          4.3926568031311035,
          2.132017135620117,
          1.432157278060913,
          5.211533069610596,
          1.1660196781158447,
          4.387487411499023,
          2.4464895725250244,
          0.9556460380554199,
          1.4824259281158447,
          0.1482679396867752,
          2.257415771484375,
          2.9987432956695557,
          3.6364266872406006,
          0.7919344902038574,
          1.3845155239105225,
          6.573877811431885,
          0.5987892746925354,
          1.7764328718185425,
          4.491953372955322,
          0.11465442180633545,
          3.40693736076355,
          3.758302927017212,
          1.4774266481399536,
          2.312659740447998,
          -0.15054385364055634,
          1.1149468421936035,
          0.7968000173568726,
          0.6220970749855042,
          3.194997549057007,
          0.18054957687854767,
          3.3579905033111572,
          1.031835675239563,
          4.12181282043457,
          6.531248092651367,
          6.64328670501709,
          1.1680456399917603,
          3.0798635482788086,
          0.8821113109588623,
          3.24752140045166,
          6.631664752960205,
          0.22923380136489868,
          -0.08907296508550644,
          1.6098154783248901,
          4.793726921081543,
          -0.10620830953121185,
          1.6141842603683472,
          3.4230668544769287,
          1.206528663635254,
          4.271301746368408,
          1.6688863039016724,
          1.0246093273162842,
          5.728943824768066,
          3.3446857929229736,
          0.34831294417381287,
          4.4715752601623535,
          5.220951080322266,
          3.6237576007843018,
          5.782831192016602,
          0.9700945019721985,
          1.2889057397842407,
          4.227263927459717,
          4.641271114349365,
          2.0458836555480957,
          -0.029332909733057022,
          4.252105236053467,
          5.815088748931885,
          2.8648509979248047,
          6.048619270324707,
          1.4341447353363037,
          3.7264037132263184,
          1.7601412534713745,
          -0.2508036196231842,
          3.7994399070739746,
          4.123856544494629,
          2.2895126342773438,
          5.724791049957275,
          2.7936911582946777,
          3.5242743492126465,
          0.03728842735290527,
          1.4695342779159546,
          6.241432189941406,
          2.0758872032165527,
          3.3584494590759277,
          0.43067264556884766,
          5.262475967407227,
          -0.270473837852478,
          2.068105936050415,
          3.0783987045288086,
          6.70128870010376,
          4.588383197784424,
          5.6977949142456055,
          3.1963160037994385,
          2.069089412689209,
          2.561460018157959,
          2.508411169052124,
          1.5550484657287598,
          2.0477421283721924,
          6.051018238067627,
          4.002810955047607,
          3.151193141937256,
          0.7906458973884583,
          -0.21293732523918152,
          -0.07526709884405136,
          4.357693672180176,
          6.8734331130981445,
          5.531425476074219,
          3.1366097927093506,
          5.235575199127197,
          4.429689884185791,
          1.8742387294769287,
          2.7931854724884033,
          1.8760930299758911,
          5.909590721130371,
          3.172966480255127,
          5.239058494567871,
          5.777639389038086,
          5.694054126739502,
          0.5452112555503845,
          3.9483726024627686,
          5.745095729827881,
          2.6285762786865234,
          3.728926181793213,
          4.250870704650879,
          4.0680999755859375,
          3.2375648021698,
          2.345792055130005,
          4.341729164123535,
          6.389436721801758,
          2.550816535949707,
          4.275448799133301,
          3.9360783100128174,
          2.9719700813293457,
          0.9070313572883606,
          2.934227466583252,
          2.1414573192596436,
          4.886078834533691,
          0.3635898530483246,
          3.9570391178131104,
          2.8124871253967285,
          2.693079948425293,
          1.8543652296066284,
          1.7248947620391846,
          -0.009328391402959824,
          1.2345478534698486,
          5.1496100425720215,
          3.103015899658203,
          4.613022804260254,
          4.550987720489502,
          1.2618529796600342,
          2.9952244758605957,
          1.9033252000808716,
          5.614170551300049,
          3.7620465755462646,
          5.5130767822265625,
          2.3540873527526855,
          6.122006416320801,
          0.6807790398597717,
          4.362528324127197,
          5.692960262298584,
          2.4613289833068848,
          2.3459460735321045,
          4.752716541290283,
          0.9974636435508728,
          1.1245307922363281,
          5.6864213943481445,
          3.0163278579711914,
          1.1542571783065796,
          4.441375732421875,
          4.845963478088379,
          2.5176093578338623,
          4.762912273406982,
          3.5934884548187256,
          6.274448871612549,
          3.3757498264312744,
          5.259670257568359,
          5.169890403747559,
          3.5062060356140137,
          5.344238758087158,
          2.315047025680542,
          5.429476737976074,
          0.5262896418571472,
          3.2143497467041016,
          1.157740592956543,
          2.001005172729492,
          4.884091377258301,
          1.250664234161377,
          5.062919616699219,
          0.827080488204956,
          3.354341506958008,
          -0.10663185268640518,
          3.528348207473755,
          0.48029738664627075,
          1.8951349258422852,
          0.9667062759399414,
          1.7802815437316895,
          5.330557823181152,
          0.16701799631118774,
          4.54307746887207,
          2.9045474529266357,
          6.5750627517700195,
          3.1310300827026367,
          -0.10991436243057251,
          4.845057010650635,
          2.0729079246520996,
          3.369137763977051,
          2.4486935138702393,
          -0.012513703666627407,
          0.6615698933601379,
          1.0039244890213013,
          4.312837600708008,
          2.1075592041015625,
          1.546952486038208,
          2.1676559448242188,
          2.077004909515381,
          1.4695950746536255,
          4.35747766494751,
          1.712831974029541,
          6.035355567932129,
          1.6806915998458862,
          1.3524214029312134,
          3.449810743331909,
          2.3471431732177734,
          1.7974975109100342,
          1.809410572052002,
          1.8935058116912842,
          1.877536654472351,
          1.1585280895233154,
          4.140872955322266,
          3.7072925567626953,
          1.0053794384002686,
          6.575543403625488,
          3.7412350177764893,
          2.6926629543304443,
          4.539601802825928,
          0.029341597110033035,
          4.415409088134766,
          1.0004549026489258,
          2.321457624435425,
          3.8246166706085205,
          1.2641159296035767,
          1.4829374551773071,
          0.5862584114074707,
          3.636178731918335,
          4.507004737854004,
          2.345263957977295,
          2.9676434993743896,
          2.0336427688598633,
          5.678516864776611,
          2.0515425205230713,
          1.1393837928771973,
          2.9796407222747803,
          3.7768990993499756,
          2.6462936401367188,
          3.0475006103515625,
          1.2070151567459106,
          2.3299407958984375,
          3.033416748046875,
          5.214127540588379,
          4.46041202545166,
          4.024528503417969,
          3.7396576404571533,
          2.989051103591919,
          1.4543471336364746,
          1.9491742849349976,
          1.4056556224822998,
          5.88640022277832,
          1.6503347158432007,
          3.2028160095214844,
          2.59938907623291,
          2.9734957218170166,
          0.6635332703590393,
          2.064640522003174,
          0.9747278690338135,
          4.84237813949585,
          1.135137677192688,
          1.234462857246399,
          0.858837902545929,
          2.103421926498413,
          0.5013158917427063,
          5.095790863037109,
          1.9489872455596924,
          1.6022446155548096,
          2.11329984664917,
          4.788906574249268,
          1.0916279554367065,
          4.259763717651367,
          2.560948371887207,
          2.0287187099456787,
          1.334216833114624,
          1.829609990119934,
          1.5943646430969238,
          2.546701431274414,
          5.7242751121521,
          2.897825002670288,
          1.3475260734558105,
          6.207669734954834,
          2.120771646499634,
          1.2461609840393066,
          3.140705108642578,
          1.0250848531723022,
          3.2652106285095215,
          3.5998117923736572,
          1.4868603944778442,
          3.9861395359039307,
          4.355562686920166,
          0.5657736659049988,
          3.338857412338257,
          5.080168724060059,
          3.98163104057312,
          0.9450804591178894,
          3.334012746810913,
          5.712698459625244,
          2.215873956680298,
          3.08632230758667,
          0.8140120506286621,
          0.9851189851760864,
          4.60524320602417,
          0.8435274362564087,
          3.1403069496154785,
          6.613808631896973,
          6.379554748535156,
          5.09176778793335,
          2.2835941314697266,
          5.203307151794434,
          1.9028184413909912,
          1.401248574256897,
          2.2360575199127197,
          1.2193822860717773,
          1.1817106008529663,
          5.212789535522461,
          3.942309856414795,
          0.7346346974372864,
          0.7765726447105408,
          1.2502410411834717,
          0.42415377497673035,
          4.487263202667236,
          4.479313850402832,
          3.9001593589782715,
          1.2421156167984009,
          1.0164885520935059,
          6.43872594833374,
          4.36838436126709,
          0.23930875957012177,
          4.353579044342041,
          1.1963447332382202,
          6.270486831665039,
          4.368656158447266,
          4.739380836486816,
          2.0976109504699707,
          4.275554656982422,
          2.0664095878601074,
          2.1749258041381836,
          1.8093791007995605,
          4.1263628005981445,
          3.5955920219421387,
          1.2862880229949951,
          0.5115712881088257,
          2.135150909423828,
          5.103372573852539,
          2.733006238937378,
          4.3219122886657715,
          0.511569619178772,
          6.291249752044678,
          -0.2024378776550293,
          -0.25859320163726807,
          -0.2683771252632141,
          0.2064308524131775,
          3.169745445251465,
          2.806065082550049,
          3.130810499191284,
          2.446605920791626,
          2.9889426231384277,
          1.9014703035354614,
          5.208505630493164,
          0.5349085927009583,
          1.416276454925537,
          3.5976853370666504,
          3.735043525695801,
          1.228779673576355,
          2.0683557987213135,
          1.88643217086792,
          1.4788451194763184,
          4.212907791137695,
          1.540554165840149,
          3.7715468406677246,
          4.526637554168701,
          -0.08851471543312073,
          0.926820695400238,
          2.868683338165283,
          1.3500198125839233,
          3.643710136413574,
          2.387082099914551,
          2.1974098682403564,
          1.3849401473999023,
          1.8246599435806274,
          3.3902344703674316,
          3.5979816913604736,
          7.17132568359375,
          1.9844993352890015,
          1.9819238185882568,
          4.3507184982299805,
          2.8080837726593018,
          1.198074221611023,
          0.42676225304603577,
          5.1007981300354,
          5.202847957611084,
          3.877239942550659,
          1.6621226072311401,
          3.620208263397217,
          0.794721782207489,
          2.0951428413391113,
          -0.2624962031841278,
          3.271615505218506,
          3.9302425384521484,
          4.456915378570557,
          7.138184547424316,
          1.8205617666244507,
          1.1759214401245117,
          1.8645652532577515,
          1.8546124696731567,
          3.1902074813842773,
          5.383477687835693,
          0.7821608185768127,
          5.086294174194336,
          2.133683919906616,
          1.3851079940795898,
          2.162346363067627,
          0.6074598431587219,
          2.3778223991394043,
          4.576967716217041,
          4.267825603485107,
          2.947908401489258,
          1.0778659582138062,
          2.6212291717529297,
          3.684307098388672,
          3.411905288696289,
          0.6187731027603149,
          2.5570638179779053,
          1.1556246280670166,
          2.142653226852417,
          5.272054195404053,
          2.320791482925415,
          3.3577420711517334,
          3.2231531143188477,
          6.4921650886535645,
          6.249361038208008,
          4.212716579437256,
          2.540255546569824,
          2.528414487838745,
          2.3430299758911133,
          1.013913869857788,
          3.4365861415863037,
          0.9026120901107788,
          5.367917060852051,
          1.383070468902588,
          3.2438266277313232,
          4.187828063964844,
          1.210053563117981,
          2.697242498397827,
          0.3600345849990845,
          2.2873215675354004,
          3.8063740730285645,
          1.4087985754013062,
          1.9191633462905884,
          4.300527095794678,
          2.5103540420532227,
          1.5780816078186035,
          5.182332515716553,
          1.135541319847107,
          0.9788908362388611,
          3.4344563484191895,
          2.1392736434936523,
          3.823951244354248,
          0.7628811597824097,
          5.080245494842529,
          3.404670476913452,
          6.319401264190674,
          0.5030430555343628,
          0.5656788349151611,
          0.8394771814346313,
          3.416562557220459,
          2.100654363632202,
          4.475376129150391,
          0.4003428816795349,
          2.3060288429260254,
          2.8017921447753906,
          3.2679662704467773,
          2.5580899715423584,
          7.089454174041748,
          2.433759927749634,
          1.6144088506698608,
          2.144286632537842,
          3.6168813705444336,
          1.0591853857040405,
          0.7050660252571106,
          3.812382221221924,
          4.63696813583374,
          0.8588473200798035,
          3.176313638687134,
          2.820875883102417,
          1.708475947380066,
          1.0026569366455078,
          6.63191032409668,
          1.8243404626846313,
          4.5755510330200195,
          -0.0646548718214035,
          1.3563861846923828,
          0.7008754014968872,
          5.713107585906982,
          0.6255432367324829,
          0.9214942455291748,
          3.145972490310669,
          4.795566558837891,
          4.341617107391357,
          2.1342694759368896,
          1.573427438735962,
          1.122965931892395,
          4.2590107917785645,
          6.959092140197754,
          1.6065512895584106,
          0.5322898626327515,
          -0.11755599826574326,
          0.8069267868995667,
          4.277822494506836,
          4.500372886657715,
          1.2195554971694946,
          4.837493896484375,
          0.866618812084198,
          6.080357074737549,
          3.962693214416504,
          0.54914790391922,
          0.3107326328754425,
          1.0209296941757202,
          1.1869450807571411,
          0.8161792159080505,
          3.420750379562378,
          2.4304680824279785,
          6.423275470733643,
          1.7882369756698608,
          4.573892593383789,
          2.689979314804077,
          4.387250900268555,
          2.341383695602417,
          1.9361389875411987,
          3.794463872909546,
          3.7698137760162354,
          4.476080417633057,
          4.835548400878906,
          2.758946657180786,
          4.230400085449219,
          0.9465993046760559,
          5.3970489501953125,
          3.4040966033935547,
          1.1141762733459473,
          2.1202242374420166,
          1.9150758981704712,
          0.5811135172843933,
          1.651214838027954,
          1.7383995056152344,
          2.850675582885742,
          1.5932366847991943,
          3.9647655487060547,
          5.6073713302612305,
          3.336779832839966,
          4.489373207092285,
          2.742357015609741,
          1.7465100288391113,
          6.560609817504883,
          1.928996205329895,
          5.851808071136475,
          2.1953487396240234,
          0.5110120177268982,
          2.0084333419799805,
          2.3964080810546875,
          4.557195663452148,
          0.6940115690231323,
          2.829854726791382,
          3.1065192222595215,
          3.0430333614349365,
          0.8232097029685974,
          2.0124781131744385,
          0.89271479845047,
          1.1607259511947632,
          3.2484686374664307,
          5.5777974128723145,
          0.7971462607383728,
          -0.24256464838981628,
          5.0772013664245605,
          5.237769603729248,
          1.6282429695129395,
          4.4402923583984375,
          -0.2772035598754883,
          5.419487953186035,
          2.250605583190918,
          0.4051286280155182,
          4.303887844085693,
          0.8787233829498291,
          1.7458117008209229,
          3.120847463607788,
          4.482359409332275,
          0.8550254702568054,
          3.4925851821899414,
          3.176997661590576,
          3.9423718452453613,
          3.6616976261138916,
          2.0935871601104736,
          1.6234827041625977,
          2.4989004135131836,
          3.66106915473938,
          3.6163454055786133,
          5.130651950836182,
          5.162490367889404,
          5.9684858322143555,
          3.094727039337158,
          2.9509706497192383,
          2.736307144165039,
          0.7898759245872498,
          4.885672092437744,
          1.1584149599075317,
          5.777973175048828,
          0.9528627395629883,
          2.9969191551208496,
          1.9778056144714355,
          3.404029607772827,
          6.490932941436768,
          2.1778573989868164,
          0.8652911186218262,
          4.3389081954956055,
          4.544070243835449,
          2.0096700191497803,
          5.201239585876465,
          0.7888464331626892,
          4.3965911865234375,
          3.4231841564178467,
          4.211973190307617,
          5.121006488800049,
          3.8715975284576416,
          1.498481035232544,
          2.9611735343933105,
          3.417646646499634,
          0.5708754658699036,
          0.9046950936317444,
          3.5157859325408936,
          3.528381586074829,
          3.7577216625213623,
          2.7943899631500244,
          1.0545768737792969,
          0.4503445625305176,
          3.537646532058716,
          1.3351507186889648,
          2.3117153644561768,
          4.310001850128174,
          1.5659347772598267,
          1.9381054639816284,
          0.6689368486404419,
          1.5999265909194946,
          2.2639753818511963,
          -0.057984523475170135,
          1.1785885095596313,
          1.8530373573303223,
          2.1254007816314697,
          5.145183086395264,
          2.347223997116089,
          2.709325075149536,
          2.349188804626465,
          6.829875946044922,
          2.1654322147369385,
          3.5239782333374023,
          6.8295578956604,
          6.368656635284424,
          3.126225233078003,
          4.043435573577881,
          2.64790415763855,
          -0.29863324761390686,
          3.299884796142578,
          2.683375358581543,
          6.448464393615723,
          6.545534133911133,
          0.8609615564346313,
          2.70066499710083,
          0.8923138976097107,
          3.3967723846435547,
          1.7673912048339844,
          4.207129001617432,
          5.22052526473999,
          2.740269184112549,
          3.3092103004455566,
          1.2260212898254395,
          0.5222582221031189,
          3.2275068759918213,
          6.683506488800049,
          0.9162488579750061,
          2.12359881401062,
          1.1390445232391357,
          5.2618255615234375,
          2.6104660034179688,
          0.2549631893634796,
          3.83664870262146,
          1.8717529773712158,
          1.5705381631851196,
          3.4462027549743652,
          2.0946741104125977,
          1.4656851291656494,
          0.5561671257019043,
          -0.25003451108932495,
          4.547679901123047,
          3.957263469696045,
          1.760004997253418,
          4.303144454956055,
          1.7260468006134033,
          4.531562328338623,
          4.02031135559082,
          3.7962024211883545,
          0.7784705758094788,
          6.489164352416992,
          0.039761558175086975,
          3.9461681842803955,
          4.257352352142334,
          5.115262985229492,
          2.870535373687744,
          5.0490875244140625,
          2.7185795307159424,
          2.9967894554138184,
          4.671176433563232,
          1.062801480293274,
          4.233254432678223,
          4.407281875610352,
          2.1851298809051514,
          3.0828440189361572,
          2.5330722332000732,
          1.7576346397399902,
          5.920907497406006,
          2.346513509750366,
          0.8061205744743347,
          4.240402698516846,
          5.145423412322998,
          1.3975553512573242,
          2.435945987701416,
          2.265671730041504,
          2.088535785675049,
          0.07882736623287201,
          4.1142964363098145,
          2.9436070919036865,
          7.249090194702148,
          2.9181203842163086,
          0.42211225628852844,
          5.756835460662842,
          2.4633893966674805,
          3.645580530166626,
          5.106135845184326,
          2.051312208175659,
          5.480477333068848,
          3.6005589962005615,
          3.876042127609253,
          3.0093209743499756,
          0.47236746549606323,
          2.6527981758117676,
          2.5363056659698486,
          5.35659646987915,
          3.6847569942474365,
          1.224326252937317,
          5.481010913848877,
          4.281083583831787,
          4.055629253387451,
          4.456180095672607,
          0.5365641713142395,
          4.697766304016113,
          7.034738063812256,
          5.607779026031494,
          2.9701313972473145,
          1.701910138130188,
          2.9698290824890137,
          3.751314878463745,
          5.7024922370910645,
          2.60451078414917,
          4.323221206665039,
          0.5710769295692444,
          3.293398380279541,
          1.8090509176254272,
          5.167085647583008,
          2.6329798698425293,
          2.721337080001831,
          1.1684274673461914,
          0.00838678888976574,
          3.5341010093688965,
          0.5105762481689453,
          1.926500916481018,
          0.5174826383590698,
          1.4792201519012451,
          5.287618637084961,
          3.99406361579895,
          3.087874412536621,
          0.9311355352401733,
          5.51476526260376,
          2.7815048694610596,
          4.127545356750488,
          2.200578212738037,
          0.978338897228241,
          2.3470754623413086,
          4.669215202331543,
          1.3461456298828125,
          1.2418349981307983,
          -0.216605082154274,
          1.888873815536499,
          5.995978832244873,
          6.050070285797119,
          0.6507235765457153,
          2.046689748764038,
          1.2148423194885254,
          4.06261682510376,
          6.558650970458984,
          4.21438455581665,
          6.0849504470825195,
          5.760201454162598,
          4.59076452255249,
          4.58884334564209,
          4.457501411437988,
          3.268371105194092,
          5.337732315063477,
          4.634690284729004,
          2.7968509197235107,
          1.2038441896438599,
          1.4868496656417847,
          1.9203346967697144,
          2.674004316329956,
          2.094517946243286,
          3.6926968097686768,
          1.8983359336853027,
          5.72126579284668,
          2.81550669670105,
          2.075124740600586,
          2.790367603302002,
          4.1012701988220215,
          1.5195595026016235,
          1.4147498607635498,
          2.0134966373443604,
          1.7985161542892456,
          2.0664756298065186,
          0.6429767608642578,
          4.156559467315674,
          1.2670791149139404,
          0.8883028030395508,
          6.874337673187256,
          2.2669103145599365,
          1.3725450038909912,
          2.9212443828582764,
          5.347456455230713,
          4.523334980010986,
          5.021810531616211,
          0.6175953149795532,
          -0.20400163531303406,
          2.1212711334228516,
          1.2970563173294067,
          1.962162971496582,
          3.9707884788513184,
          4.529849529266357,
          0.7512163519859314,
          1.0174522399902344,
          5.219698905944824,
          1.2328048944473267,
          0.5743222832679749,
          -0.13727742433547974,
          4.525946140289307,
          1.1246016025543213,
          4.355842590332031,
          4.188709735870361,
          2.8684134483337402,
          3.3053386211395264,
          1.8726609945297241,
          3.88889217376709,
          0.41145452857017517,
          3.17008376121521,
          2.2228050231933594,
          3.1090586185455322,
          7.168947696685791,
          5.543529510498047,
          2.02213191986084,
          5.2292327880859375,
          5.190366268157959,
          1.2410808801651,
          3.1909492015838623,
          5.037101745605469,
          0.7936094403266907,
          0.7542235255241394,
          4.061190128326416,
          0.6800026297569275,
          5.487094879150391,
          5.129087448120117,
          3.385080099105835,
          2.429964542388916,
          1.5683743953704834,
          1.3131495714187622,
          3.0596213340759277,
          1.6520819664001465,
          2.827317953109741,
          1.2128820419311523,
          2.8237264156341553,
          2.572592258453369,
          2.655524730682373,
          0.4860130548477173,
          0.4949313998222351,
          3.830530881881714,
          6.35186767578125,
          4.236223220825195,
          1.9923652410507202,
          0.8927364349365234,
          3.158236265182495,
          6.826264381408691,
          1.1676558256149292,
          5.361196041107178,
          5.1515607833862305,
          2.4130823612213135,
          1.9491171836853027,
          3.196155309677124,
          4.295473575592041,
          5.095807075500488,
          1.5522520542144775,
          3.4032721519470215,
          5.132397651672363,
          2.7504115104675293,
          0.8256604671478271,
          1.1869257688522339,
          2.705235242843628,
          0.8169629573822021,
          4.8512115478515625,
          5.752070426940918,
          4.54337739944458,
          3.3463611602783203,
          1.0129622220993042,
          1.2408498525619507,
          0.7306031584739685,
          1.480378270149231,
          2.9534168243408203,
          2.057647228240967,
          2.727825164794922,
          6.000889301300049,
          5.142857551574707,
          2.415339469909668,
          2.928687810897827,
          6.30948543548584,
          0.674185037612915,
          0.9061294198036194,
          1.9894237518310547,
          3.1410508155822754,
          4.6735005378723145,
          0.960668683052063,
          0.16650980710983276,
          4.005114555358887,
          4.422733306884766,
          2.5811402797698975,
          2.1751790046691895,
          2.097308874130249,
          1.519154667854309,
          2.9796199798583984,
          1.8939011096954346,
          4.483018398284912,
          3.7296884059906006,
          0.4134587049484253,
          3.9687259197235107,
          5.377790451049805,
          0.5144976377487183,
          5.425576686859131,
          0.03384013846516609,
          2.640763998031616,
          4.655436038970947,
          5.03145170211792,
          2.9515271186828613,
          6.45988130569458,
          2.8963396549224854,
          3.5834107398986816,
          0.8097426891326904,
          3.73000431060791,
          3.6632893085479736,
          5.108243465423584,
          2.2619495391845703,
          2.5096328258514404,
          5.161848545074463,
          3.1585147380828857,
          3.379073143005371,
          2.406864881515503,
          1.9077359437942505,
          0.877446174621582,
          1.149706244468689,
          5.3041768074035645,
          2.396389961242676,
          6.1219682693481445,
          1.8391458988189697,
          6.384110927581787,
          1.7243520021438599,
          2.373739004135132,
          6.456916332244873,
          1.558410882949829,
          5.185384750366211,
          -0.41515129804611206,
          4.250305652618408,
          2.4205291271209717,
          2.100325345993042,
          3.2484424114227295,
          3.43898868560791,
          4.439868927001953,
          4.2381205558776855,
          1.2954524755477905,
          4.029132843017578,
          0.2751641571521759,
          1.4097429513931274,
          2.2730941772460938,
          2.0783796310424805,
          4.195291519165039,
          0.022649066522717476,
          5.405010223388672,
          1.6619701385498047,
          3.084324598312378,
          3.106067657470703,
          3.6182010173797607,
          6.615612983703613,
          3.873972177505493,
          1.4124882221221924,
          6.6144866943359375,
          2.4674341678619385,
          1.7727351188659668,
          1.9680413007736206,
          4.305635929107666,
          6.45914888381958,
          2.712644100189209,
          5.785487651824951,
          1.192274808883667,
          1.2771676778793335,
          3.541025161743164,
          3.024801731109619,
          1.939072847366333,
          1.8856152296066284,
          3.269818067550659,
          2.066200017929077,
          3.920222520828247,
          2.666749954223633,
          4.319927215576172,
          5.387997627258301,
          1.1939465999603271,
          6.347978115081787,
          0.9298510551452637,
          0.6706529855728149,
          2.6888339519500732,
          5.069039821624756,
          5.151986122131348,
          2.441626787185669,
          4.471277236938477,
          2.875354766845703,
          1.945847749710083,
          1.895936131477356,
          3.6464297771453857,
          2.8464739322662354,
          0.7062899470329285,
          1.002070426940918,
          1.9307420253753662,
          1.8982670307159424,
          1.8182122707366943,
          5.220981597900391,
          4.44972038269043,
          4.4938764572143555,
          1.71511971950531,
          3.080355405807495,
          0.8138102293014526,
          0.93263179063797,
          0.5167209506034851,
          4.927433013916016,
          3.6733837127685547,
          2.9763290882110596,
          5.490896224975586,
          0.2593249976634979,
          1.19991135597229,
          6.5818400382995605,
          1.344390869140625,
          1.839861512184143,
          2.375230312347412,
          2.1525073051452637,
          4.9403533935546875,
          2.413595199584961,
          0.5472862720489502,
          2.8810813426971436,
          2.0560479164123535,
          0.19500821828842163,
          1.3598066568374634,
          1.0684504508972168,
          3.036827325820923,
          1.7727181911468506,
          3.8293821811676025,
          1.7952256202697754,
          0.5424591302871704,
          3.4968180656433105,
          4.349577903747559,
          6.058431148529053,
          4.387526035308838,
          3.3551928997039795,
          6.477059841156006,
          2.96012544631958,
          4.752689361572266,
          2.9847052097320557,
          3.294080972671509,
          7.092172622680664,
          1.5209511518478394,
          1.5391268730163574,
          1.789444088935852,
          3.5666592121124268,
          5.231354713439941,
          2.4260098934173584,
          1.2376724481582642,
          2.0763306617736816,
          0.6040030717849731,
          3.0205259323120117,
          1.4066600799560547,
          3.074204683303833,
          0.8567165732383728,
          3.1993954181671143,
          5.109347820281982,
          5.112581253051758,
          4.521160125732422,
          3.0588746070861816,
          1.9929381608963013,
          2.2388205528259277,
          0.7862602472305298,
          3.178323745727539,
          2.2422704696655273,
          5.424036979675293,
          2.5116188526153564,
          1.5334244966506958,
          4.4104108810424805,
          2.58144211769104,
          5.147654056549072,
          2.0904176235198975,
          1.8960200548171997,
          1.158943772315979,
          0.40193724632263184,
          1.3838647603988647,
          0.7907750606536865,
          5.177914142608643,
          5.797236919403076,
          3.2769672870635986,
          4.533447265625,
          6.815470218658447,
          4.245591640472412,
          0.9056667685508728,
          3.6415059566497803,
          5.091014862060547,
          0.71979820728302,
          3.64469313621521,
          0.6657809019088745,
          3.7194390296936035,
          4.2854766845703125,
          3.263737916946411,
          3.211336135864258,
          1.6162666082382202,
          3.724055528640747,
          1.701282024383545,
          5.2436676025390625,
          4.39313268661499,
          2.1472318172454834,
          1.6340231895446777,
          2.537858486175537,
          4.777801513671875,
          2.38867449760437,
          4.427462577819824,
          1.4111748933792114,
          6.372645854949951,
          1.5458025932312012,
          5.161921977996826,
          2.484079599380493,
          0.003756575519219041,
          2.1081342697143555,
          3.4765424728393555,
          2.473332166671753,
          6.623341083526611,
          6.146633148193359,
          4.40024471282959,
          1.442259669303894,
          3.398244857788086,
          2.8615846633911133,
          5.0037689208984375,
          1.6197398900985718,
          0.5137450098991394,
          1.5664829015731812,
          1.9389585256576538,
          2.2577314376831055,
          2.203530788421631,
          1.5630937814712524,
          3.1441593170166016,
          1.9576654434204102,
          3.0140254497528076,
          2.718109130859375,
          3.020761489868164,
          4.190907955169678,
          4.302341461181641,
          6.792522430419922,
          2.594913959503174,
          4.126303672790527,
          0.1991993933916092,
          2.9513144493103027,
          5.051693439483643,
          4.582781791687012,
          3.658816337585449,
          4.368124961853027,
          1.0523895025253296,
          1.299635410308838,
          5.532938003540039,
          1.8913280963897705,
          6.69282865524292,
          0.13358376920223236,
          1.3812503814697266,
          1.241424560546875,
          1.0959025621414185,
          5.138558864593506,
          5.179322242736816,
          1.0209120512008667,
          2.9849350452423096,
          0.6583171486854553,
          2.270397663116455,
          1.1613194942474365,
          1.4734634160995483,
          0.5804478526115417,
          3.065556764602661,
          4.377978801727295,
          5.446134090423584,
          4.549917697906494,
          6.630427360534668,
          1.2674287557601929,
          4.603902816772461,
          3.025411367416382,
          0.8079075217247009,
          3.3350958824157715,
          1.7377707958221436,
          5.451381683349609,
          1.2872804403305054,
          2.869558095932007,
          4.205928325653076,
          4.325148582458496,
          1.4408819675445557,
          2.574047803878784,
          0.8994033932685852,
          0.39797455072402954,
          1.2622723579406738,
          6.2101545333862305,
          3.6296653747558594,
          1.4057966470718384,
          2.854875087738037,
          3.490605592727661,
          5.274819850921631,
          0.21252429485321045,
          3.559764862060547,
          1.021706461906433,
          3.7692246437072754,
          0.6114952564239502,
          1.8290382623672485,
          3.627195119857788,
          3.333621025085449,
          1.595747947692871,
          4.465019226074219,
          2.099686861038208,
          4.4992780685424805,
          5.33248233795166,
          2.6824252605438232,
          1.8466130495071411,
          1.9496572017669678,
          4.896937847137451,
          1.5160636901855469,
          4.381327152252197,
          2.4619266986846924,
          0.5639186501502991,
          1.1678439378738403,
          1.1357483863830566,
          6.596538543701172,
          5.336767673492432,
          6.561275959014893,
          0.00026075143250636756,
          0.8549506068229675,
          0.8921951055526733,
          1.5200368165969849,
          2.2505698204040527,
          3.2926549911499023,
          1.9402860403060913,
          3.5330193042755127,
          4.035795211791992,
          1.4051847457885742,
          2.5881052017211914,
          2.42370867729187,
          1.0620253086090088,
          4.451870918273926,
          4.451771259307861,
          4.02614164352417,
          3.5237202644348145,
          3.664576768875122,
          1.9818707704544067,
          3.7827184200286865,
          5.523175239562988,
          0.8746972680091858,
          0.7143813967704773,
          6.639904975891113,
          4.543097496032715,
          4.897345542907715,
          3.6376070976257324,
          5.6421308517456055,
          2.913482904434204,
          5.23838996887207,
          3.5632965564727783,
          4.31427526473999,
          6.287720203399658,
          4.190896987915039,
          5.281545162200928,
          0.5315214991569519,
          2.7717504501342773,
          0.5204334855079651,
          3.7214808464050293,
          4.066294193267822,
          2.1908044815063477,
          2.298271417617798,
          1.4002621173858643,
          3.5482096672058105,
          6.407345294952393,
          1.7844517230987549,
          3.6507487297058105,
          4.484096050262451,
          1.242447018623352,
          4.179359436035156,
          4.1012139320373535,
          3.301131248474121,
          3.371381998062134,
          0.12491092085838318,
          2.7409019470214844,
          -0.28618189692497253,
          4.328157901763916,
          1.9227155447006226,
          0.6369275450706482,
          1.8325823545455933,
          6.643314838409424,
          2.597759485244751,
          3.615046262741089,
          4.471487045288086,
          0.19322845339775085,
          1.6664729118347168,
          1.580974817276001,
          6.57451057434082,
          2.2911438941955566,
          1.6178562641143799,
          5.123673439025879,
          2.585308074951172,
          1.483227252960205,
          1.3024897575378418,
          3.0011017322540283,
          2.5542056560516357,
          4.261261463165283,
          3.686114549636841,
          3.1657464504241943,
          3.744290590286255,
          3.8201065063476562,
          4.382693290710449,
          4.796009540557861,
          2.6091654300689697,
          7.134000778198242,
          6.07381534576416,
          0.8144283294677734,
          2.486887216567993,
          2.1190428733825684,
          4.309247016906738,
          2.0636398792266846,
          4.545490264892578,
          1.0819693803787231,
          2.475611686706543,
          0.38390544056892395,
          1.1023123264312744,
          6.245900630950928,
          -0.11602184176445007,
          1.5688003301620483,
          0.18035368621349335,
          4.288324356079102,
          5.248959541320801,
          1.5867289304733276,
          3.7673585414886475,
          6.045080184936523,
          2.061201810836792,
          4.2964935302734375,
          2.083688497543335,
          2.2867774963378906,
          4.3374433517456055,
          2.202634811401367,
          4.3728179931640625,
          3.5272176265716553,
          2.110722303390503,
          1.9796055555343628,
          3.6398229598999023,
          2.229809522628784,
          2.9320878982543945,
          1.4491416215896606,
          5.355024337768555,
          4.517650127410889,
          5.13491678237915,
          4.33772087097168,
          2.0036509037017822,
          4.385342121124268,
          3.164583921432495,
          1.8374443054199219,
          2.7423207759857178,
          5.116572856903076,
          5.248254776000977,
          3.8743317127227783,
          1.6128877401351929,
          5.040900707244873,
          4.591118812561035,
          4.258835315704346,
          1.4452669620513916,
          4.497763633728027,
          3.2406575679779053,
          5.524125576019287,
          2.5869905948638916,
          2.3850960731506348,
          -0.252058207988739,
          2.051823139190674,
          1.2473409175872803,
          0.0658167153596878,
          -0.12848061323165894,
          2.5409035682678223,
          3.681889057159424,
          1.2013936042785645,
          1.1029483079910278,
          4.641429424285889,
          2.031574010848999,
          6.364165306091309,
          5.150465488433838,
          7.180731296539307,
          3.763645887374878,
          5.100640773773193,
          6.514211177825928,
          0.24475298821926117,
          3.764108657836914,
          1.9599144458770752,
          0.8611413836479187,
          4.507649898529053,
          4.820540904998779,
          0.24204625189304352,
          2.072237253189087,
          3.690230369567871,
          2.0726099014282227,
          0.34758520126342773,
          1.1623506546020508,
          2.2374229431152344,
          3.159217119216919,
          2.502424716949463,
          4.641322135925293,
          2.080700635910034,
          2.2937400341033936,
          2.2987060546875,
          0.7442117929458618,
          2.1266250610351562,
          2.2701079845428467,
          1.529282569885254,
          3.053864002227783,
          4.612685203552246,
          0.7215906381607056,
          1.50627601146698,
          1.5610761642456055,
          2.662139654159546,
          0.8450143337249756,
          4.890529155731201,
          2.5028750896453857,
          0.2593880891799927,
          3.6054983139038086,
          2.40496563911438,
          3.154733180999756,
          3.554537773132324,
          0.15779708325862885,
          0.8330129981040955,
          2.312390089035034,
          2.575467586517334,
          5.138662815093994,
          0.6249452233314514,
          1.9425560235977173,
          4.28757381439209,
          5.041662216186523,
          4.332348346710205,
          6.008098125457764,
          1.6119451522827148,
          1.8734750747680664,
          2.8538966178894043,
          2.8021018505096436,
          1.12632417678833,
          4.106414794921875,
          2.593161106109619,
          1.6569372415542603,
          1.7347352504730225,
          1.7640104293823242,
          0.6307970285415649,
          0.8011801242828369,
          2.6506292819976807,
          2.1876542568206787,
          4.408877849578857,
          5.3743109703063965,
          5.596896171569824,
          1.751725435256958,
          0.701733410358429,
          3.6062207221984863,
          2.4669699668884277,
          1.6068129539489746,
          3.9225330352783203,
          0.549055814743042,
          3.017322301864624,
          1.6325150728225708,
          2.7920520305633545,
          3.266403913497925,
          6.3728766441345215,
          2.874765634536743,
          2.0371224880218506,
          3.9147238731384277,
          0.9280540943145752,
          1.3417311906814575,
          0.40411633253097534,
          0.7378193736076355,
          3.1373801231384277,
          2.241957187652588,
          7.172929286956787,
          4.460117340087891,
          1.949512004852295,
          5.831514835357666,
          1.8682376146316528,
          1.462792158126831,
          4.229917526245117,
          3.429884195327759,
          4.317559719085693,
          5.240244388580322,
          1.3658636808395386,
          2.3769114017486572,
          3.083718776702881,
          5.115736484527588,
          2.0743439197540283,
          0.8706033825874329,
          0.24158763885498047,
          1.6443135738372803,
          4.028374671936035,
          1.4377398490905762,
          5.180408954620361,
          1.429836392402649,
          5.647017478942871,
          0.621737003326416,
          2.180401086807251,
          1.9036650657653809,
          2.0314407348632812,
          4.9202351570129395,
          -0.1978069394826889,
          3.2101094722747803,
          5.975043773651123,
          4.542110443115234,
          0.8213464617729187,
          4.884311676025391,
          3.420323610305786,
          3.6364917755126953,
          4.427646160125732,
          0.6086835861206055,
          0.15271474421024323,
          1.5198204517364502,
          1.0908112525939941,
          5.644573211669922,
          1.8818942308425903,
          6.309757709503174,
          5.232844352722168,
          2.8207225799560547,
          1.6419514417648315,
          1.1317903995513916,
          5.128148555755615,
          4.017451286315918,
          0.32157933712005615,
          6.13425874710083,
          1.0704816579818726,
          4.2146711349487305,
          5.088494300842285,
          5.132167816162109,
          4.5679473876953125,
          6.3692851066589355,
          0.6081690192222595,
          5.0307722091674805,
          2.253175735473633,
          1.5401884317398071,
          4.846939563751221,
          5.082381725311279,
          4.734355449676514,
          -0.427559494972229,
          1.4711127281188965,
          2.129936695098877,
          1.9192869663238525,
          2.0855841636657715,
          1.0282893180847168,
          2.20288348197937,
          0.6891656517982483,
          3.662152051925659,
          1.2479485273361206,
          5.444931507110596,
          1.4651391506195068,
          2.2014312744140625,
          2.9685802459716797,
          2.351043224334717,
          1.111301302909851,
          -0.2568625807762146,
          0.37483882904052734,
          1.2558091878890991,
          4.471920967102051,
          1.5001437664031982,
          4.513144016265869,
          6.328669548034668,
          4.283710479736328,
          2.806471586227417,
          2.5202267169952393,
          2.4293580055236816,
          2.9495201110839844,
          1.9789047241210938,
          3.562016010284424,
          6.679716110229492,
          1.7197378873825073,
          2.316899299621582,
          2.237238883972168,
          4.506208419799805,
          2.805715322494507,
          1.6036428213119507,
          3.330906391143799,
          2.5715174674987793,
          7.170636177062988,
          4.365017414093018,
          4.2912421226501465,
          3.955118179321289,
          2.0891036987304688,
          4.562797546386719,
          2.1062474250793457,
          6.503464698791504,
          1.4922329187393188,
          1.2920836210250854,
          1.9343998432159424,
          0.621985912322998,
          2.060927629470825,
          1.2455650568008423,
          2.093881368637085,
          3.4735167026519775,
          3.236361026763916,
          2.140615463256836,
          7.1473708152771,
          0.7015296816825867,
          2.4706156253814697,
          3.609766721725464,
          -0.2729629874229431,
          2.393233299255371,
          2.3530614376068115,
          6.555893898010254,
          4.601661205291748,
          2.698971748352051,
          1.795838475227356,
          2.7972800731658936,
          4.147810459136963,
          0.45500582456588745,
          1.831504464149475,
          0.7250170111656189,
          1.2233043909072876,
          -0.17389030754566193,
          2.8516640663146973,
          1.8558146953582764,
          3.5973143577575684,
          4.738041400909424,
          3.5883350372314453,
          3.7848846912384033,
          5.442906856536865,
          0.4594901204109192,
          1.0159958600997925,
          0.8685809969902039,
          -0.05712916702032089,
          2.9330427646636963,
          2.7382726669311523,
          3.3932085037231445,
          3.6380808353424072,
          4.242502689361572,
          1.4551035165786743,
          4.442739963531494,
          3.126028060913086,
          0.19712281227111816,
          3.303762197494507,
          3.543084144592285,
          0.13221725821495056,
          2.2270562648773193,
          0.0983961895108223,
          3.37097430229187,
          3.337555408477783,
          0.5940704941749573,
          1.771559476852417,
          2.865577220916748,
          -0.2817685008049011,
          5.091622352600098,
          0.4642901122570038,
          3.477691650390625,
          3.5498664379119873,
          0.6586432456970215,
          2.8298709392547607,
          6.5304670333862305,
          2.2427055835723877,
          3.2278213500976562,
          -0.007124082650989294,
          5.13424015045166,
          6.597266674041748,
          2.24369478225708,
          2.8153538703918457,
          2.3440306186676025,
          0.9777324199676514,
          3.3722784519195557,
          1.9554131031036377,
          4.437989711761475,
          4.06170654296875,
          4.970417022705078,
          3.5998611450195312,
          0.12783251702785492,
          6.310513496398926,
          2.2545385360717773,
          4.524560451507568,
          6.419161319732666,
          2.1083900928497314,
          1.7129199504852295,
          1.457431435585022,
          2.4880051612854004,
          2.4115755558013916,
          2.1889007091522217,
          5.700770854949951,
          5.661625862121582,
          2.321742057800293,
          5.671111583709717,
          5.470418453216553,
          2.0709335803985596,
          2.0382697582244873
         ],
         "yaxis": "y"
        }
       ],
       "layout": {
        "height": 800,
        "legend": {
         "tracegroupgap": 0
        },
        "margin": {
         "t": 60
        },
        "template": {
         "data": {
          "bar": [
           {
            "error_x": {
             "color": "#2a3f5f"
            },
            "error_y": {
             "color": "#2a3f5f"
            },
            "marker": {
             "line": {
              "color": "#E5ECF6",
              "width": 0.5
             },
             "pattern": {
              "fillmode": "overlay",
              "size": 10,
              "solidity": 0.2
             }
            },
            "type": "bar"
           }
          ],
          "barpolar": [
           {
            "marker": {
             "line": {
              "color": "#E5ECF6",
              "width": 0.5
             },
             "pattern": {
              "fillmode": "overlay",
              "size": 10,
              "solidity": 0.2
             }
            },
            "type": "barpolar"
           }
          ],
          "carpet": [
           {
            "aaxis": {
             "endlinecolor": "#2a3f5f",
             "gridcolor": "white",
             "linecolor": "white",
             "minorgridcolor": "white",
             "startlinecolor": "#2a3f5f"
            },
            "baxis": {
             "endlinecolor": "#2a3f5f",
             "gridcolor": "white",
             "linecolor": "white",
             "minorgridcolor": "white",
             "startlinecolor": "#2a3f5f"
            },
            "type": "carpet"
           }
          ],
          "choropleth": [
           {
            "colorbar": {
             "outlinewidth": 0,
             "ticks": ""
            },
            "type": "choropleth"
           }
          ],
          "contour": [
           {
            "colorbar": {
             "outlinewidth": 0,
             "ticks": ""
            },
            "colorscale": [
             [
              0,
              "#0d0887"
             ],
             [
              0.1111111111111111,
              "#46039f"
             ],
             [
              0.2222222222222222,
              "#7201a8"
             ],
             [
              0.3333333333333333,
              "#9c179e"
             ],
             [
              0.4444444444444444,
              "#bd3786"
             ],
             [
              0.5555555555555556,
              "#d8576b"
             ],
             [
              0.6666666666666666,
              "#ed7953"
             ],
             [
              0.7777777777777778,
              "#fb9f3a"
             ],
             [
              0.8888888888888888,
              "#fdca26"
             ],
             [
              1,
              "#f0f921"
             ]
            ],
            "type": "contour"
           }
          ],
          "contourcarpet": [
           {
            "colorbar": {
             "outlinewidth": 0,
             "ticks": ""
            },
            "type": "contourcarpet"
           }
          ],
          "heatmap": [
           {
            "colorbar": {
             "outlinewidth": 0,
             "ticks": ""
            },
            "colorscale": [
             [
              0,
              "#0d0887"
             ],
             [
              0.1111111111111111,
              "#46039f"
             ],
             [
              0.2222222222222222,
              "#7201a8"
             ],
             [
              0.3333333333333333,
              "#9c179e"
             ],
             [
              0.4444444444444444,
              "#bd3786"
             ],
             [
              0.5555555555555556,
              "#d8576b"
             ],
             [
              0.6666666666666666,
              "#ed7953"
             ],
             [
              0.7777777777777778,
              "#fb9f3a"
             ],
             [
              0.8888888888888888,
              "#fdca26"
             ],
             [
              1,
              "#f0f921"
             ]
            ],
            "type": "heatmap"
           }
          ],
          "heatmapgl": [
           {
            "colorbar": {
             "outlinewidth": 0,
             "ticks": ""
            },
            "colorscale": [
             [
              0,
              "#0d0887"
             ],
             [
              0.1111111111111111,
              "#46039f"
             ],
             [
              0.2222222222222222,
              "#7201a8"
             ],
             [
              0.3333333333333333,
              "#9c179e"
             ],
             [
              0.4444444444444444,
              "#bd3786"
             ],
             [
              0.5555555555555556,
              "#d8576b"
             ],
             [
              0.6666666666666666,
              "#ed7953"
             ],
             [
              0.7777777777777778,
              "#fb9f3a"
             ],
             [
              0.8888888888888888,
              "#fdca26"
             ],
             [
              1,
              "#f0f921"
             ]
            ],
            "type": "heatmapgl"
           }
          ],
          "histogram": [
           {
            "marker": {
             "pattern": {
              "fillmode": "overlay",
              "size": 10,
              "solidity": 0.2
             }
            },
            "type": "histogram"
           }
          ],
          "histogram2d": [
           {
            "colorbar": {
             "outlinewidth": 0,
             "ticks": ""
            },
            "colorscale": [
             [
              0,
              "#0d0887"
             ],
             [
              0.1111111111111111,
              "#46039f"
             ],
             [
              0.2222222222222222,
              "#7201a8"
             ],
             [
              0.3333333333333333,
              "#9c179e"
             ],
             [
              0.4444444444444444,
              "#bd3786"
             ],
             [
              0.5555555555555556,
              "#d8576b"
             ],
             [
              0.6666666666666666,
              "#ed7953"
             ],
             [
              0.7777777777777778,
              "#fb9f3a"
             ],
             [
              0.8888888888888888,
              "#fdca26"
             ],
             [
              1,
              "#f0f921"
             ]
            ],
            "type": "histogram2d"
           }
          ],
          "histogram2dcontour": [
           {
            "colorbar": {
             "outlinewidth": 0,
             "ticks": ""
            },
            "colorscale": [
             [
              0,
              "#0d0887"
             ],
             [
              0.1111111111111111,
              "#46039f"
             ],
             [
              0.2222222222222222,
              "#7201a8"
             ],
             [
              0.3333333333333333,
              "#9c179e"
             ],
             [
              0.4444444444444444,
              "#bd3786"
             ],
             [
              0.5555555555555556,
              "#d8576b"
             ],
             [
              0.6666666666666666,
              "#ed7953"
             ],
             [
              0.7777777777777778,
              "#fb9f3a"
             ],
             [
              0.8888888888888888,
              "#fdca26"
             ],
             [
              1,
              "#f0f921"
             ]
            ],
            "type": "histogram2dcontour"
           }
          ],
          "mesh3d": [
           {
            "colorbar": {
             "outlinewidth": 0,
             "ticks": ""
            },
            "type": "mesh3d"
           }
          ],
          "parcoords": [
           {
            "line": {
             "colorbar": {
              "outlinewidth": 0,
              "ticks": ""
             }
            },
            "type": "parcoords"
           }
          ],
          "pie": [
           {
            "automargin": true,
            "type": "pie"
           }
          ],
          "scatter": [
           {
            "fillpattern": {
             "fillmode": "overlay",
             "size": 10,
             "solidity": 0.2
            },
            "type": "scatter"
           }
          ],
          "scatter3d": [
           {
            "line": {
             "colorbar": {
              "outlinewidth": 0,
              "ticks": ""
             }
            },
            "marker": {
             "colorbar": {
              "outlinewidth": 0,
              "ticks": ""
             }
            },
            "type": "scatter3d"
           }
          ],
          "scattercarpet": [
           {
            "marker": {
             "colorbar": {
              "outlinewidth": 0,
              "ticks": ""
             }
            },
            "type": "scattercarpet"
           }
          ],
          "scattergeo": [
           {
            "marker": {
             "colorbar": {
              "outlinewidth": 0,
              "ticks": ""
             }
            },
            "type": "scattergeo"
           }
          ],
          "scattergl": [
           {
            "marker": {
             "colorbar": {
              "outlinewidth": 0,
              "ticks": ""
             }
            },
            "type": "scattergl"
           }
          ],
          "scattermapbox": [
           {
            "marker": {
             "colorbar": {
              "outlinewidth": 0,
              "ticks": ""
             }
            },
            "type": "scattermapbox"
           }
          ],
          "scatterpolar": [
           {
            "marker": {
             "colorbar": {
              "outlinewidth": 0,
              "ticks": ""
             }
            },
            "type": "scatterpolar"
           }
          ],
          "scatterpolargl": [
           {
            "marker": {
             "colorbar": {
              "outlinewidth": 0,
              "ticks": ""
             }
            },
            "type": "scatterpolargl"
           }
          ],
          "scatterternary": [
           {
            "marker": {
             "colorbar": {
              "outlinewidth": 0,
              "ticks": ""
             }
            },
            "type": "scatterternary"
           }
          ],
          "surface": [
           {
            "colorbar": {
             "outlinewidth": 0,
             "ticks": ""
            },
            "colorscale": [
             [
              0,
              "#0d0887"
             ],
             [
              0.1111111111111111,
              "#46039f"
             ],
             [
              0.2222222222222222,
              "#7201a8"
             ],
             [
              0.3333333333333333,
              "#9c179e"
             ],
             [
              0.4444444444444444,
              "#bd3786"
             ],
             [
              0.5555555555555556,
              "#d8576b"
             ],
             [
              0.6666666666666666,
              "#ed7953"
             ],
             [
              0.7777777777777778,
              "#fb9f3a"
             ],
             [
              0.8888888888888888,
              "#fdca26"
             ],
             [
              1,
              "#f0f921"
             ]
            ],
            "type": "surface"
           }
          ],
          "table": [
           {
            "cells": {
             "fill": {
              "color": "#EBF0F8"
             },
             "line": {
              "color": "white"
             }
            },
            "header": {
             "fill": {
              "color": "#C8D4E3"
             },
             "line": {
              "color": "white"
             }
            },
            "type": "table"
           }
          ]
         },
         "layout": {
          "annotationdefaults": {
           "arrowcolor": "#2a3f5f",
           "arrowhead": 0,
           "arrowwidth": 1
          },
          "autotypenumbers": "strict",
          "coloraxis": {
           "colorbar": {
            "outlinewidth": 0,
            "ticks": ""
           }
          },
          "colorscale": {
           "diverging": [
            [
             0,
             "#8e0152"
            ],
            [
             0.1,
             "#c51b7d"
            ],
            [
             0.2,
             "#de77ae"
            ],
            [
             0.3,
             "#f1b6da"
            ],
            [
             0.4,
             "#fde0ef"
            ],
            [
             0.5,
             "#f7f7f7"
            ],
            [
             0.6,
             "#e6f5d0"
            ],
            [
             0.7,
             "#b8e186"
            ],
            [
             0.8,
             "#7fbc41"
            ],
            [
             0.9,
             "#4d9221"
            ],
            [
             1,
             "#276419"
            ]
           ],
           "sequential": [
            [
             0,
             "#0d0887"
            ],
            [
             0.1111111111111111,
             "#46039f"
            ],
            [
             0.2222222222222222,
             "#7201a8"
            ],
            [
             0.3333333333333333,
             "#9c179e"
            ],
            [
             0.4444444444444444,
             "#bd3786"
            ],
            [
             0.5555555555555556,
             "#d8576b"
            ],
            [
             0.6666666666666666,
             "#ed7953"
            ],
            [
             0.7777777777777778,
             "#fb9f3a"
            ],
            [
             0.8888888888888888,
             "#fdca26"
            ],
            [
             1,
             "#f0f921"
            ]
           ],
           "sequentialminus": [
            [
             0,
             "#0d0887"
            ],
            [
             0.1111111111111111,
             "#46039f"
            ],
            [
             0.2222222222222222,
             "#7201a8"
            ],
            [
             0.3333333333333333,
             "#9c179e"
            ],
            [
             0.4444444444444444,
             "#bd3786"
            ],
            [
             0.5555555555555556,
             "#d8576b"
            ],
            [
             0.6666666666666666,
             "#ed7953"
            ],
            [
             0.7777777777777778,
             "#fb9f3a"
            ],
            [
             0.8888888888888888,
             "#fdca26"
            ],
            [
             1,
             "#f0f921"
            ]
           ]
          },
          "colorway": [
           "#636efa",
           "#EF553B",
           "#00cc96",
           "#ab63fa",
           "#FFA15A",
           "#19d3f3",
           "#FF6692",
           "#B6E880",
           "#FF97FF",
           "#FECB52"
          ],
          "font": {
           "color": "#2a3f5f"
          },
          "geo": {
           "bgcolor": "white",
           "lakecolor": "white",
           "landcolor": "#E5ECF6",
           "showlakes": true,
           "showland": true,
           "subunitcolor": "white"
          },
          "hoverlabel": {
           "align": "left"
          },
          "hovermode": "closest",
          "mapbox": {
           "style": "light"
          },
          "paper_bgcolor": "white",
          "plot_bgcolor": "#E5ECF6",
          "polar": {
           "angularaxis": {
            "gridcolor": "white",
            "linecolor": "white",
            "ticks": ""
           },
           "bgcolor": "#E5ECF6",
           "radialaxis": {
            "gridcolor": "white",
            "linecolor": "white",
            "ticks": ""
           }
          },
          "scene": {
           "xaxis": {
            "backgroundcolor": "#E5ECF6",
            "gridcolor": "white",
            "gridwidth": 2,
            "linecolor": "white",
            "showbackground": true,
            "ticks": "",
            "zerolinecolor": "white"
           },
           "yaxis": {
            "backgroundcolor": "#E5ECF6",
            "gridcolor": "white",
            "gridwidth": 2,
            "linecolor": "white",
            "showbackground": true,
            "ticks": "",
            "zerolinecolor": "white"
           },
           "zaxis": {
            "backgroundcolor": "#E5ECF6",
            "gridcolor": "white",
            "gridwidth": 2,
            "linecolor": "white",
            "showbackground": true,
            "ticks": "",
            "zerolinecolor": "white"
           }
          },
          "shapedefaults": {
           "line": {
            "color": "#2a3f5f"
           }
          },
          "ternary": {
           "aaxis": {
            "gridcolor": "white",
            "linecolor": "white",
            "ticks": ""
           },
           "baxis": {
            "gridcolor": "white",
            "linecolor": "white",
            "ticks": ""
           },
           "bgcolor": "#E5ECF6",
           "caxis": {
            "gridcolor": "white",
            "linecolor": "white",
            "ticks": ""
           }
          },
          "title": {
           "x": 0.05
          },
          "xaxis": {
           "automargin": true,
           "gridcolor": "white",
           "linecolor": "white",
           "ticks": "",
           "title": {
            "standoff": 15
           },
           "zerolinecolor": "white",
           "zerolinewidth": 2
          },
          "yaxis": {
           "automargin": true,
           "gridcolor": "white",
           "linecolor": "white",
           "ticks": "",
           "title": {
            "standoff": 15
           },
           "zerolinecolor": "white",
           "zerolinewidth": 2
          }
         }
        },
        "width": 800,
        "xaxis": {
         "anchor": "y",
         "domain": [
          0,
          1
         ],
         "title": {
          "text": "x"
         }
        },
        "yaxis": {
         "anchor": "x",
         "domain": [
          0,
          1
         ],
         "title": {
          "text": "y"
         }
        }
       }
      }
     },
     "metadata": {},
     "output_type": "display_data"
    }
   ],
   "source": [
    "uembs = UMAP(n_neighbors=20, min_dist=0.1).fit_transform(embs)\n",
    "\n",
    "print(uembs.shape)\n",
    "\n",
    "fig = px.scatter(x=uembs[:,0], y=uembs[:,1])\n",
    "\n",
    "fig.update_layout(width=800, height=800)\n",
    "fig.update_traces(marker=dict(size=2))\n",
    "\n",
    "# plotting to show how the embeddings are when just dimensionality reduction is used\n",
    "fig_show_save(fig, \"umap-scatter\")"
   ]
  },
  {
   "cell_type": "markdown",
   "metadata": {},
   "source": [
    "## Clustering 2D data"
   ]
  },
  {
   "cell_type": "markdown",
   "metadata": {},
   "source": []
  },
  {
   "cell_type": "code",
   "execution_count": 13,
   "metadata": {},
   "outputs": [
    {
     "name": "stdout",
     "output_type": "stream",
     "text": [
      "\n",
      "    2D\n",
      "    Number of clusters: 43\n",
      "    Number of rows as outliers: 966\n",
      "\n"
     ]
    }
   ],
   "source": [
    "clusters_2d = HDBSCAN(min_cluster_size=10, cluster_selection_method=\"leaf\").fit(uembs)\n",
    "\n",
    "\n",
    "print(f\"\"\"\n",
    "    2D\n",
    "    Number of clusters: {len(set(clusters_2d.labels_)) - 1}\n",
    "    Number of rows as outliers: {clusters_2d.labels_.tolist().count(-1)}\n",
    "\"\"\")"
   ]
  },
  {
   "cell_type": "markdown",
   "metadata": {},
   "source": [
    "# Results"
   ]
  },
  {
   "cell_type": "markdown",
   "metadata": {},
   "source": [
    "## Plotting the results"
   ]
  },
  {
   "cell_type": "markdown",
   "metadata": {},
   "source": []
  },
  {
   "cell_type": "code",
   "execution_count": 14,
   "metadata": {},
   "outputs": [
    {
     "data": {
      "text/plain": [
       "{-1,\n",
       " 0,\n",
       " 1,\n",
       " 2,\n",
       " 3,\n",
       " 4,\n",
       " 5,\n",
       " 6,\n",
       " 7,\n",
       " 8,\n",
       " 9,\n",
       " 10,\n",
       " 11,\n",
       " 12,\n",
       " 13,\n",
       " 14,\n",
       " 15,\n",
       " 16,\n",
       " 17,\n",
       " 18,\n",
       " 19,\n",
       " 20,\n",
       " 21,\n",
       " 22,\n",
       " 23,\n",
       " 24,\n",
       " 25,\n",
       " 26,\n",
       " 27,\n",
       " 28,\n",
       " 29,\n",
       " 30,\n",
       " 31,\n",
       " 32,\n",
       " 33,\n",
       " 34,\n",
       " 35,\n",
       " 36,\n",
       " 37,\n",
       " 38,\n",
       " 39,\n",
       " 40,\n",
       " 41,\n",
       " 42}"
      ]
     },
     "execution_count": 14,
     "metadata": {},
     "output_type": "execute_result"
    }
   ],
   "source": [
    "set(clusters_2d.labels_)"
   ]
  },
  {
   "cell_type": "markdown",
   "metadata": {},
   "source": []
  },
  {
   "cell_type": "code",
   "execution_count": 15,
   "metadata": {},
   "outputs": [
    {
     "data": {
      "application/vnd.plotly.v1+json": {
       "config": {
        "plotlyServerURL": "https://plot.ly"
       },
       "data": [
        {
         "customdata": [
          [
           "heaven michaels julia official video",
           20
          ],
          [
           "2018 game highlights plays vs",
           5
          ],
          [
           "love sight answering reacting youtube",
           42
          ],
          [
           "dean nba press conference bryant",
           4
          ],
          [
           "official theaters trailer hd 2018",
           18
          ],
          [
           "hufflepuff advice young self best",
           41
          ],
          [
           "cat earth caught bacteriophage deadliest",
           31
          ],
          [
           "kevin hart fit conan loud",
           12
          ],
          [
           "game emblem basically characters clash",
           15
          ],
          [
           "video official lyric ft music",
           28
          ],
          [
           "cast riverdale lawrence jennifer dating",
           33
          ],
          [
           "2018 raw mcmahon april reigns",
           1
          ],
          [
           "video official lyric ft music",
           28
          ],
          [
           "moore open snl cold misconduct",
           29
          ],
          [
           "2018 raw mcmahon april reigns",
           1
          ],
          [
           "kaling mindy wedding invited wasnt",
           26
          ],
          [
           "cake make making gampp yolanda",
           10
          ],
          [
           "2018 raw mcmahon april reigns",
           1
          ],
          [
           "makeup tutorial kylie collection cosmetics",
           9
          ],
          [
           "spider lucas tour studios movie",
           17
          ],
          [
           "love sight answering reacting youtube",
           42
          ],
          [
           "2018 raw mcmahon april reigns",
           1
          ],
          [
           "computer smartphone look apple new",
           3
          ],
          [
           "fail huge jump things used",
           32
          ],
          [
           "spider lucas tour studios movie",
           17
          ],
          [
           "trailer official 2018 teaser season",
           21
          ],
          [
           "2018 game highlights plays vs",
           5
          ],
          [
           "love sight answering reacting youtube",
           42
          ],
          [
           "snl wedding royal conan meghan",
           30
          ],
          [
           "wore week day outfits mom",
           8
          ],
          [
           "computer smartphone look apple new",
           3
          ],
          [
           "cat earth caught bacteriophage deadliest",
           31
          ],
          [
           "2018 falcon heavy 02062018 landing",
           40
          ],
          [
           "game emblem basically characters clash",
           15
          ],
          [
           "ft live coming acoustic ed",
           34
          ],
          [
           "video official lyric ft music",
           28
          ],
          [
           "kaling mindy wedding invited wasnt",
           26
          ],
          [
           "ft live coming acoustic ed",
           34
          ],
          [
           "video official lyric ft music",
           28
          ],
          [
           "video official lyric ft music",
           28
          ],
          [
           "hd official trailer venom teaser",
           22
          ],
          [
           "cake make making gampp yolanda",
           10
          ],
          [
           "ft live coming acoustic ed",
           34
          ],
          [
           "drank just drinks energy blood",
           7
          ],
          [
           "video official lyric ft music",
           28
          ],
          [
           "slow check tsa motion glass",
           39
          ],
          [
           "marzia felix proposal mancuso rudy",
           2
          ],
          [
           "wore week day outfits mom",
           8
          ],
          [
           "cake make making gampp yolanda",
           10
          ],
          [
           "hufflepuff advice young self best",
           41
          ],
          [
           "hufflepuff advice young self best",
           41
          ],
          [
           "fail huge jump things used",
           32
          ],
          [
           "computer smartphone look apple new",
           3
          ],
          [
           "marzia felix proposal mancuso rudy",
           2
          ],
          [
           "suck episode cooking 1784 recipe",
           11
          ],
          [
           "video official lyric ft music",
           28
          ],
          [
           "rocks wish make surprise museum",
           36
          ],
          [
           "ball density hydraulic rubiks 4k",
           38
          ],
          [
           "2018 raw mcmahon april reigns",
           1
          ],
          [
           "moore open snl cold misconduct",
           29
          ],
          [
           "cat earth caught bacteriophage deadliest",
           31
          ],
          [
           "marzia felix proposal mancuso rudy",
           2
          ],
          [
           "video official lyric ft music",
           28
          ],
          [
           "video official lyric ft music",
           28
          ],
          [
           "2018 raw mcmahon april reigns",
           1
          ],
          [
           "makeup tutorial kylie collection cosmetics",
           9
          ],
          [
           "makeup tutorial kylie collection cosmetics",
           9
          ],
          [
           "rooster teeth animated adventures millie",
           16
          ],
          [
           "makeup tutorial kylie collection cosmetics",
           9
          ],
          [
           "video official lyric ft music",
           28
          ],
          [
           "rooster teeth animated adventures millie",
           16
          ],
          [
           "honest trailers star wars jedi",
           19
          ],
          [
           "video official lyric ft music",
           28
          ],
          [
           "makeup tutorial kylie collection cosmetics",
           9
          ],
          [
           "rooster teeth animated adventures millie",
           16
          ],
          [
           "cat earth caught bacteriophage deadliest",
           31
          ],
          [
           "trailer official 2018 teaser season",
           21
          ],
          [
           "spider lucas tour studios movie",
           17
          ],
          [
           "video official lyric ft music",
           28
          ],
          [
           "2018 game highlights plays vs",
           5
          ],
          [
           "2018 game highlights plays vs",
           5
          ],
          [
           "cast riverdale lawrence jennifer dating",
           33
          ],
          [
           "love sight answering reacting youtube",
           42
          ],
          [
           "suck episode cooking 1784 recipe",
           11
          ],
          [
           "game emblem basically characters clash",
           15
          ],
          [
           "honest trailers star wars jedi",
           19
          ],
          [
           "makeup tutorial kylie collection cosmetics",
           9
          ],
          [
           "cat earth caught bacteriophage deadliest",
           31
          ],
          [
           "official theaters trailer hd 2018",
           18
          ],
          [
           "snl wedding royal conan meghan",
           30
          ],
          [
           "makeup tutorial kylie collection cosmetics",
           9
          ],
          [
           "bbq best fries meat great",
           6
          ],
          [
           "wore week day outfits mom",
           8
          ],
          [
           "cake make making gampp yolanda",
           10
          ],
          [
           "self robot skydio drone flying",
           27
          ],
          [
           "snl wedding royal conan meghan",
           30
          ],
          [
           "shopping sneaker complex goes broke",
           0
          ],
          [
           "jenner reveal pregnancy transgender keeping",
           23
          ],
          [
           "makeup tutorial kylie collection cosmetics",
           9
          ],
          [
           "game emblem basically characters clash",
           15
          ],
          [
           "makeup tutorial kylie collection cosmetics",
           9
          ],
          [
           "hd official trailer venom teaser",
           22
          ],
          [
           "video official lyric ft music",
           28
          ],
          [
           "hd official trailer venom teaser",
           22
          ],
          [
           "hd official trailer venom teaser",
           22
          ],
          [
           "makeup tutorial kylie collection cosmetics",
           9
          ],
          [
           "snl wedding royal conan meghan",
           30
          ],
          [
           "rocks wish make surprise museum",
           36
          ],
          [
           "drank just drinks energy blood",
           7
          ],
          [
           "wore week day outfits mom",
           8
          ],
          [
           "fail huge jump things used",
           32
          ],
          [
           "makeup tutorial kylie collection cosmetics",
           9
          ],
          [
           "2018 game highlights plays vs",
           5
          ],
          [
           "cat earth caught bacteriophage deadliest",
           31
          ],
          [
           "rocks wish make surprise museum",
           36
          ],
          [
           "2018 game highlights plays vs",
           5
          ],
          [
           "trailer official 2018 teaser season",
           21
          ],
          [
           "jenner reveal pregnancy transgender keeping",
           23
          ],
          [
           "makeup tutorial kylie collection cosmetics",
           9
          ],
          [
           "makeup tutorial kylie collection cosmetics",
           9
          ],
          [
           "trailer official 2018 teaser season",
           21
          ],
          [
           "2018 game highlights plays vs",
           5
          ],
          [
           "makeup tutorial kylie collection cosmetics",
           9
          ],
          [
           "store challenge diy dollar making",
           37
          ],
          [
           "rooster teeth animated adventures millie",
           16
          ],
          [
           "honest trailers star wars jedi",
           19
          ],
          [
           "ft live coming acoustic ed",
           34
          ],
          [
           "dean nba press conference bryant",
           4
          ],
          [
           "cake make making gampp yolanda",
           10
          ],
          [
           "spider lucas tour studios movie",
           17
          ],
          [
           "makeup tutorial kylie collection cosmetics",
           9
          ],
          [
           "makeup tutorial kylie collection cosmetics",
           9
          ],
          [
           "honest trailers star wars jedi",
           19
          ],
          [
           "makeup tutorial kylie collection cosmetics",
           9
          ],
          [
           "honest trailers star wars jedi",
           19
          ],
          [
           "ft live coming acoustic ed",
           34
          ],
          [
           "computer smartphone look apple new",
           3
          ],
          [
           "kaling mindy wedding invited wasnt",
           26
          ],
          [
           "game emblem basically characters clash",
           15
          ],
          [
           "shopping sneaker complex goes broke",
           0
          ],
          [
           "rooster teeth animated adventures millie",
           16
          ],
          [
           "honest trailers star wars jedi",
           19
          ],
          [
           "black hole blue star bomb",
           13
          ],
          [
           "spider lucas tour studios movie",
           17
          ],
          [
           "cake make making gampp yolanda",
           10
          ],
          [
           "spider lucas tour studios movie",
           17
          ],
          [
           "ball density hydraulic rubiks 4k",
           38
          ],
          [
           "wore week day outfits mom",
           8
          ],
          [
           "video official lyric ft music",
           28
          ],
          [
           "drank just drinks energy blood",
           7
          ],
          [
           "audio ellie goulding vincent rita",
           35
          ],
          [
           "video official lyric ft music",
           28
          ],
          [
           "honest trailers star wars jedi",
           19
          ],
          [
           "suck episode cooking 1784 recipe",
           11
          ],
          [
           "jenner reveal pregnancy transgender keeping",
           23
          ],
          [
           "love sight answering reacting youtube",
           42
          ],
          [
           "2018 falcon heavy 02062018 landing",
           40
          ],
          [
           "video official lyric ft music",
           28
          ],
          [
           "kevin hart fit conan loud",
           12
          ],
          [
           "official theaters trailer hd 2018",
           18
          ],
          [
           "video official lyric ft music",
           28
          ],
          [
           "2018 raw mcmahon april reigns",
           1
          ],
          [
           "ft live coming acoustic ed",
           34
          ],
          [
           "2018 game highlights plays vs",
           5
          ],
          [
           "love sight answering reacting youtube",
           42
          ],
          [
           "drank just drinks energy blood",
           7
          ],
          [
           "live kesha left ariana tears",
           25
          ],
          [
           "makeup tutorial kylie collection cosmetics",
           9
          ],
          [
           "2018 game highlights plays vs",
           5
          ],
          [
           "makeup tutorial kylie collection cosmetics",
           9
          ],
          [
           "cake make making gampp yolanda",
           10
          ],
          [
           "snl wedding royal conan meghan",
           30
          ],
          [
           "jenner reveal pregnancy transgender keeping",
           23
          ],
          [
           "wore week day outfits mom",
           8
          ],
          [
           "snl wedding royal conan meghan",
           30
          ],
          [
           "wore week day outfits mom",
           8
          ],
          [
           "hufflepuff advice young self best",
           41
          ],
          [
           "makeup tutorial kylie collection cosmetics",
           9
          ],
          [
           "ball density hydraulic rubiks 4k",
           38
          ],
          [
           "cat earth caught bacteriophage deadliest",
           31
          ],
          [
           "kaling mindy wedding invited wasnt",
           26
          ],
          [
           "hd official trailer venom teaser",
           22
          ],
          [
           "nintendo 2018 day e3 super",
           14
          ],
          [
           "makeup tutorial kylie collection cosmetics",
           9
          ],
          [
           "computer smartphone look apple new",
           3
          ],
          [
           "live kesha left ariana tears",
           25
          ],
          [
           "makeup tutorial kylie collection cosmetics",
           9
          ],
          [
           "drank just drinks energy blood",
           7
          ],
          [
           "video official lyric ft music",
           28
          ],
          [
           "video official lyric ft music",
           28
          ],
          [
           "2017 2018 oscars cardi grammy",
           24
          ],
          [
           "cat earth caught bacteriophage deadliest",
           31
          ],
          [
           "video official lyric ft music",
           28
          ],
          [
           "snl wedding royal conan meghan",
           30
          ],
          [
           "trailer official 2018 teaser season",
           21
          ],
          [
           "hd official trailer venom teaser",
           22
          ],
          [
           "bbq best fries meat great",
           6
          ],
          [
           "trailer official 2018 teaser season",
           21
          ],
          [
           "makeup tutorial kylie collection cosmetics",
           9
          ],
          [
           "snl wedding royal conan meghan",
           30
          ],
          [
           "makeup tutorial kylie collection cosmetics",
           9
          ],
          [
           "jenner reveal pregnancy transgender keeping",
           23
          ],
          [
           "bbq best fries meat great",
           6
          ],
          [
           "honest trailers star wars jedi",
           19
          ],
          [
           "cat earth caught bacteriophage deadliest",
           31
          ],
          [
           "makeup tutorial kylie collection cosmetics",
           9
          ],
          [
           "moore open snl cold misconduct",
           29
          ],
          [
           "spider lucas tour studios movie",
           17
          ],
          [
           "shopping sneaker complex goes broke",
           0
          ],
          [
           "makeup tutorial kylie collection cosmetics",
           9
          ],
          [
           "wore week day outfits mom",
           8
          ],
          [
           "2018 falcon heavy 02062018 landing",
           40
          ],
          [
           "rocks wish make surprise museum",
           36
          ],
          [
           "makeup tutorial kylie collection cosmetics",
           9
          ],
          [
           "computer smartphone look apple new",
           3
          ],
          [
           "love sight answering reacting youtube",
           42
          ],
          [
           "cast riverdale lawrence jennifer dating",
           33
          ],
          [
           "makeup tutorial kylie collection cosmetics",
           9
          ],
          [
           "trailer official 2018 teaser season",
           21
          ],
          [
           "shopping sneaker complex goes broke",
           0
          ],
          [
           "2017 2018 oscars cardi grammy",
           24
          ],
          [
           "cake make making gampp yolanda",
           10
          ],
          [
           "honest trailers star wars jedi",
           19
          ],
          [
           "makeup tutorial kylie collection cosmetics",
           9
          ],
          [
           "live kesha left ariana tears",
           25
          ],
          [
           "marzia felix proposal mancuso rudy",
           2
          ],
          [
           "hd official trailer venom teaser",
           22
          ],
          [
           "snl wedding royal conan meghan",
           30
          ],
          [
           "live kesha left ariana tears",
           25
          ],
          [
           "audio ellie goulding vincent rita",
           35
          ],
          [
           "trailer official 2018 teaser season",
           21
          ],
          [
           "rooster teeth animated adventures millie",
           16
          ],
          [
           "video official lyric ft music",
           28
          ],
          [
           "makeup tutorial kylie collection cosmetics",
           9
          ],
          [
           "makeup tutorial kylie collection cosmetics",
           9
          ],
          [
           "spider lucas tour studios movie",
           17
          ],
          [
           "official theaters trailer hd 2018",
           18
          ],
          [
           "self robot skydio drone flying",
           27
          ],
          [
           "2018 raw mcmahon april reigns",
           1
          ],
          [
           "black hole blue star bomb",
           13
          ],
          [
           "fail huge jump things used",
           32
          ],
          [
           "self robot skydio drone flying",
           27
          ],
          [
           "2018 raw mcmahon april reigns",
           1
          ],
          [
           "suck episode cooking 1784 recipe",
           11
          ],
          [
           "computer smartphone look apple new",
           3
          ],
          [
           "computer smartphone look apple new",
           3
          ],
          [
           "kevin hart fit conan loud",
           12
          ],
          [
           "love sight answering reacting youtube",
           42
          ],
          [
           "2018 game highlights plays vs",
           5
          ],
          [
           "trailer official 2018 teaser season",
           21
          ],
          [
           "love sight answering reacting youtube",
           42
          ],
          [
           "spider lucas tour studios movie",
           17
          ],
          [
           "cast riverdale lawrence jennifer dating",
           33
          ],
          [
           "cast riverdale lawrence jennifer dating",
           33
          ],
          [
           "moore open snl cold misconduct",
           29
          ],
          [
           "makeup tutorial kylie collection cosmetics",
           9
          ],
          [
           "ball density hydraulic rubiks 4k",
           38
          ],
          [
           "makeup tutorial kylie collection cosmetics",
           9
          ],
          [
           "game emblem basically characters clash",
           15
          ],
          [
           "2018 game highlights plays vs",
           5
          ],
          [
           "cat earth caught bacteriophage deadliest",
           31
          ],
          [
           "rooster teeth animated adventures millie",
           16
          ],
          [
           "trailer official 2018 teaser season",
           21
          ],
          [
           "snl wedding royal conan meghan",
           30
          ],
          [
           "honest trailers star wars jedi",
           19
          ],
          [
           "video official lyric ft music",
           28
          ],
          [
           "trailer official 2018 teaser season",
           21
          ],
          [
           "2018 raw mcmahon april reigns",
           1
          ],
          [
           "kaling mindy wedding invited wasnt",
           26
          ],
          [
           "2018 raw mcmahon april reigns",
           1
          ],
          [
           "rocks wish make surprise museum",
           36
          ],
          [
           "honest trailers star wars jedi",
           19
          ],
          [
           "wore week day outfits mom",
           8
          ],
          [
           "cat earth caught bacteriophage deadliest",
           31
          ],
          [
           "makeup tutorial kylie collection cosmetics",
           9
          ],
          [
           "makeup tutorial kylie collection cosmetics",
           9
          ],
          [
           "hufflepuff advice young self best",
           41
          ],
          [
           "makeup tutorial kylie collection cosmetics",
           9
          ],
          [
           "2017 2018 oscars cardi grammy",
           24
          ],
          [
           "trailer official 2018 teaser season",
           21
          ],
          [
           "cat earth caught bacteriophage deadliest",
           31
          ],
          [
           "makeup tutorial kylie collection cosmetics",
           9
          ],
          [
           "2018 game highlights plays vs",
           5
          ],
          [
           "ft live coming acoustic ed",
           34
          ],
          [
           "cat earth caught bacteriophage deadliest",
           31
          ],
          [
           "makeup tutorial kylie collection cosmetics",
           9
          ],
          [
           "love sight answering reacting youtube",
           42
          ],
          [
           "dean nba press conference bryant",
           4
          ],
          [
           "trailer official 2018 teaser season",
           21
          ],
          [
           "hufflepuff advice young self best",
           41
          ],
          [
           "kaling mindy wedding invited wasnt",
           26
          ],
          [
           "rooster teeth animated adventures millie",
           16
          ],
          [
           "nintendo 2018 day e3 super",
           14
          ],
          [
           "makeup tutorial kylie collection cosmetics",
           9
          ],
          [
           "black hole blue star bomb",
           13
          ],
          [
           "bbq best fries meat great",
           6
          ],
          [
           "drank just drinks energy blood",
           7
          ],
          [
           "spider lucas tour studios movie",
           17
          ],
          [
           "ft live coming acoustic ed",
           34
          ],
          [
           "live kesha left ariana tears",
           25
          ],
          [
           "cast riverdale lawrence jennifer dating",
           33
          ],
          [
           "slow check tsa motion glass",
           39
          ],
          [
           "live kesha left ariana tears",
           25
          ],
          [
           "slow check tsa motion glass",
           39
          ],
          [
           "honest trailers star wars jedi",
           19
          ],
          [
           "kevin hart fit conan loud",
           12
          ],
          [
           "self robot skydio drone flying",
           27
          ],
          [
           "fail huge jump things used",
           32
          ],
          [
           "shopping sneaker complex goes broke",
           0
          ],
          [
           "2018 game highlights plays vs",
           5
          ],
          [
           "bbq best fries meat great",
           6
          ],
          [
           "drank just drinks energy blood",
           7
          ],
          [
           "video official lyric ft music",
           28
          ],
          [
           "moore open snl cold misconduct",
           29
          ],
          [
           "love sight answering reacting youtube",
           42
          ],
          [
           "2018 game highlights plays vs",
           5
          ],
          [
           "spider lucas tour studios movie",
           17
          ],
          [
           "ft live coming acoustic ed",
           34
          ],
          [
           "hufflepuff advice young self best",
           41
          ],
          [
           "bbq best fries meat great",
           6
          ],
          [
           "marzia felix proposal mancuso rudy",
           2
          ],
          [
           "jenner reveal pregnancy transgender keeping",
           23
          ],
          [
           "dean nba press conference bryant",
           4
          ],
          [
           "cake make making gampp yolanda",
           10
          ],
          [
           "moore open snl cold misconduct",
           29
          ],
          [
           "computer smartphone look apple new",
           3
          ],
          [
           "video official lyric ft music",
           28
          ],
          [
           "store challenge diy dollar making",
           37
          ],
          [
           "video official lyric ft music",
           28
          ],
          [
           "kevin hart fit conan loud",
           12
          ],
          [
           "video official lyric ft music",
           28
          ],
          [
           "cat earth caught bacteriophage deadliest",
           31
          ],
          [
           "trailer official 2018 teaser season",
           21
          ],
          [
           "video official lyric ft music",
           28
          ],
          [
           "makeup tutorial kylie collection cosmetics",
           9
          ],
          [
           "video official lyric ft music",
           28
          ],
          [
           "kevin hart fit conan loud",
           12
          ],
          [
           "wore week day outfits mom",
           8
          ],
          [
           "bbq best fries meat great",
           6
          ],
          [
           "kevin hart fit conan loud",
           12
          ],
          [
           "2018 game highlights plays vs",
           5
          ],
          [
           "trailer official 2018 teaser season",
           21
          ],
          [
           "2018 game highlights plays vs",
           5
          ],
          [
           "store challenge diy dollar making",
           37
          ],
          [
           "spider lucas tour studios movie",
           17
          ],
          [
           "ft live coming acoustic ed",
           34
          ],
          [
           "live kesha left ariana tears",
           25
          ],
          [
           "spider lucas tour studios movie",
           17
          ],
          [
           "jenner reveal pregnancy transgender keeping",
           23
          ],
          [
           "love sight answering reacting youtube",
           42
          ],
          [
           "snl wedding royal conan meghan",
           30
          ],
          [
           "video official lyric ft music",
           28
          ],
          [
           "makeup tutorial kylie collection cosmetics",
           9
          ],
          [
           "makeup tutorial kylie collection cosmetics",
           9
          ],
          [
           "makeup tutorial kylie collection cosmetics",
           9
          ],
          [
           "cat earth caught bacteriophage deadliest",
           31
          ],
          [
           "marzia felix proposal mancuso rudy",
           2
          ],
          [
           "jenner reveal pregnancy transgender keeping",
           23
          ],
          [
           "kaling mindy wedding invited wasnt",
           26
          ],
          [
           "computer smartphone look apple new",
           3
          ],
          [
           "wore week day outfits mom",
           8
          ],
          [
           "ft live coming acoustic ed",
           34
          ],
          [
           "rocks wish make surprise museum",
           36
          ],
          [
           "spider lucas tour studios movie",
           17
          ],
          [
           "audio ellie goulding vincent rita",
           35
          ],
          [
           "2018 falcon heavy 02062018 landing",
           40
          ],
          [
           "black hole blue star bomb",
           13
          ],
          [
           "makeup tutorial kylie collection cosmetics",
           9
          ],
          [
           "cat earth caught bacteriophage deadliest",
           31
          ],
          [
           "kaling mindy wedding invited wasnt",
           26
          ],
          [
           "video official lyric ft music",
           28
          ],
          [
           "cat earth caught bacteriophage deadliest",
           31
          ],
          [
           "official theaters trailer hd 2018",
           18
          ],
          [
           "ft live coming acoustic ed",
           34
          ],
          [
           "snl wedding royal conan meghan",
           30
          ],
          [
           "bbq best fries meat great",
           6
          ],
          [
           "hufflepuff advice young self best",
           41
          ],
          [
           "wore week day outfits mom",
           8
          ],
          [
           "live kesha left ariana tears",
           25
          ],
          [
           "makeup tutorial kylie collection cosmetics",
           9
          ],
          [
           "cat earth caught bacteriophage deadliest",
           31
          ],
          [
           "2018 game highlights plays vs",
           5
          ],
          [
           "official theaters trailer hd 2018",
           18
          ],
          [
           "rocks wish make surprise museum",
           36
          ],
          [
           "cat earth caught bacteriophage deadliest",
           31
          ],
          [
           "video official lyric ft music",
           28
          ],
          [
           "game emblem basically characters clash",
           15
          ],
          [
           "store challenge diy dollar making",
           37
          ],
          [
           "store challenge diy dollar making",
           37
          ],
          [
           "suck episode cooking 1784 recipe",
           11
          ],
          [
           "wore week day outfits mom",
           8
          ],
          [
           "video official lyric ft music",
           28
          ],
          [
           "ball density hydraulic rubiks 4k",
           38
          ],
          [
           "love sight answering reacting youtube",
           42
          ],
          [
           "love sight answering reacting youtube",
           42
          ],
          [
           "2017 2018 oscars cardi grammy",
           24
          ],
          [
           "cat earth caught bacteriophage deadliest",
           31
          ],
          [
           "trailer official 2018 teaser season",
           21
          ],
          [
           "bbq best fries meat great",
           6
          ],
          [
           "cat earth caught bacteriophage deadliest",
           31
          ],
          [
           "jenner reveal pregnancy transgender keeping",
           23
          ],
          [
           "self robot skydio drone flying",
           27
          ],
          [
           "video official lyric ft music",
           28
          ],
          [
           "cake make making gampp yolanda",
           10
          ],
          [
           "dean nba press conference bryant",
           4
          ],
          [
           "ball density hydraulic rubiks 4k",
           38
          ],
          [
           "jenner reveal pregnancy transgender keeping",
           23
          ],
          [
           "2018 raw mcmahon april reigns",
           1
          ],
          [
           "bbq best fries meat great",
           6
          ],
          [
           "wore week day outfits mom",
           8
          ],
          [
           "cat earth caught bacteriophage deadliest",
           31
          ],
          [
           "honest trailers star wars jedi",
           19
          ],
          [
           "trailer official 2018 teaser season",
           21
          ],
          [
           "video official lyric ft music",
           28
          ],
          [
           "video official lyric ft music",
           28
          ],
          [
           "kaling mindy wedding invited wasnt",
           26
          ],
          [
           "dean nba press conference bryant",
           4
          ],
          [
           "cake make making gampp yolanda",
           10
          ],
          [
           "fail huge jump things used",
           32
          ],
          [
           "official theaters trailer hd 2018",
           18
          ],
          [
           "love sight answering reacting youtube",
           42
          ],
          [
           "ft live coming acoustic ed",
           34
          ],
          [
           "bbq best fries meat great",
           6
          ],
          [
           "video official lyric ft music",
           28
          ],
          [
           "snl wedding royal conan meghan",
           30
          ],
          [
           "cat earth caught bacteriophage deadliest",
           31
          ],
          [
           "wore week day outfits mom",
           8
          ],
          [
           "trailer official 2018 teaser season",
           21
          ],
          [
           "rocks wish make surprise museum",
           36
          ],
          [
           "2018 game highlights plays vs",
           5
          ],
          [
           "makeup tutorial kylie collection cosmetics",
           9
          ],
          [
           "wore week day outfits mom",
           8
          ],
          [
           "cat earth caught bacteriophage deadliest",
           31
          ],
          [
           "dean nba press conference bryant",
           4
          ],
          [
           "video official lyric ft music",
           28
          ],
          [
           "2018 game highlights plays vs",
           5
          ],
          [
           "official theaters trailer hd 2018",
           18
          ],
          [
           "heaven michaels julia official video",
           20
          ],
          [
           "video official lyric ft music",
           28
          ],
          [
           "makeup tutorial kylie collection cosmetics",
           9
          ],
          [
           "black hole blue star bomb",
           13
          ],
          [
           "wore week day outfits mom",
           8
          ],
          [
           "makeup tutorial kylie collection cosmetics",
           9
          ],
          [
           "makeup tutorial kylie collection cosmetics",
           9
          ],
          [
           "video official lyric ft music",
           28
          ],
          [
           "wore week day outfits mom",
           8
          ],
          [
           "wore week day outfits mom",
           8
          ],
          [
           "2017 2018 oscars cardi grammy",
           24
          ],
          [
           "trailer official 2018 teaser season",
           21
          ],
          [
           "rocks wish make surprise museum",
           36
          ],
          [
           "nintendo 2018 day e3 super",
           14
          ],
          [
           "ft live coming acoustic ed",
           34
          ],
          [
           "computer smartphone look apple new",
           3
          ],
          [
           "2018 game highlights plays vs",
           5
          ],
          [
           "cast riverdale lawrence jennifer dating",
           33
          ],
          [
           "spider lucas tour studios movie",
           17
          ],
          [
           "wore week day outfits mom",
           8
          ],
          [
           "cat earth caught bacteriophage deadliest",
           31
          ],
          [
           "ft live coming acoustic ed",
           34
          ],
          [
           "heaven michaels julia official video",
           20
          ],
          [
           "ft live coming acoustic ed",
           34
          ],
          [
           "slow check tsa motion glass",
           39
          ],
          [
           "trailer official 2018 teaser season",
           21
          ],
          [
           "rocks wish make surprise museum",
           36
          ],
          [
           "rocks wish make surprise museum",
           36
          ],
          [
           "love sight answering reacting youtube",
           42
          ],
          [
           "black hole blue star bomb",
           13
          ],
          [
           "video official lyric ft music",
           28
          ],
          [
           "marzia felix proposal mancuso rudy",
           2
          ],
          [
           "video official lyric ft music",
           28
          ],
          [
           "drank just drinks energy blood",
           7
          ],
          [
           "honest trailers star wars jedi",
           19
          ],
          [
           "makeup tutorial kylie collection cosmetics",
           9
          ],
          [
           "2018 game highlights plays vs",
           5
          ],
          [
           "makeup tutorial kylie collection cosmetics",
           9
          ],
          [
           "cake make making gampp yolanda",
           10
          ],
          [
           "spider lucas tour studios movie",
           17
          ],
          [
           "black hole blue star bomb",
           13
          ],
          [
           "self robot skydio drone flying",
           27
          ],
          [
           "computer smartphone look apple new",
           3
          ],
          [
           "ft live coming acoustic ed",
           34
          ],
          [
           "honest trailers star wars jedi",
           19
          ],
          [
           "2018 raw mcmahon april reigns",
           1
          ],
          [
           "self robot skydio drone flying",
           27
          ],
          [
           "video official lyric ft music",
           28
          ],
          [
           "nintendo 2018 day e3 super",
           14
          ],
          [
           "video official lyric ft music",
           28
          ],
          [
           "cast riverdale lawrence jennifer dating",
           33
          ],
          [
           "cat earth caught bacteriophage deadliest",
           31
          ],
          [
           "snl wedding royal conan meghan",
           30
          ],
          [
           "2018 raw mcmahon april reigns",
           1
          ],
          [
           "wore week day outfits mom",
           8
          ],
          [
           "2018 game highlights plays vs",
           5
          ],
          [
           "dean nba press conference bryant",
           4
          ],
          [
           "rooster teeth animated adventures millie",
           16
          ],
          [
           "video official lyric ft music",
           28
          ],
          [
           "computer smartphone look apple new",
           3
          ],
          [
           "kaling mindy wedding invited wasnt",
           26
          ],
          [
           "ft live coming acoustic ed",
           34
          ],
          [
           "video official lyric ft music",
           28
          ],
          [
           "heaven michaels julia official video",
           20
          ],
          [
           "makeup tutorial kylie collection cosmetics",
           9
          ],
          [
           "bbq best fries meat great",
           6
          ],
          [
           "ft live coming acoustic ed",
           34
          ],
          [
           "live kesha left ariana tears",
           25
          ],
          [
           "trailer official 2018 teaser season",
           21
          ],
          [
           "makeup tutorial kylie collection cosmetics",
           9
          ],
          [
           "marzia felix proposal mancuso rudy",
           2
          ],
          [
           "fail huge jump things used",
           32
          ],
          [
           "trailer official 2018 teaser season",
           21
          ],
          [
           "trailer official 2018 teaser season",
           21
          ],
          [
           "dean nba press conference bryant",
           4
          ],
          [
           "cat earth caught bacteriophage deadliest",
           31
          ],
          [
           "bbq best fries meat great",
           6
          ],
          [
           "cake make making gampp yolanda",
           10
          ],
          [
           "marzia felix proposal mancuso rudy",
           2
          ],
          [
           "hd official trailer venom teaser",
           22
          ],
          [
           "video official lyric ft music",
           28
          ],
          [
           "bbq best fries meat great",
           6
          ],
          [
           "fail huge jump things used",
           32
          ],
          [
           "makeup tutorial kylie collection cosmetics",
           9
          ],
          [
           "makeup tutorial kylie collection cosmetics",
           9
          ],
          [
           "2018 falcon heavy 02062018 landing",
           40
          ],
          [
           "dean nba press conference bryant",
           4
          ],
          [
           "hufflepuff advice young self best",
           41
          ],
          [
           "trailer official 2018 teaser season",
           21
          ],
          [
           "makeup tutorial kylie collection cosmetics",
           9
          ],
          [
           "snl wedding royal conan meghan",
           30
          ],
          [
           "spider lucas tour studios movie",
           17
          ],
          [
           "moore open snl cold misconduct",
           29
          ],
          [
           "moore open snl cold misconduct",
           29
          ],
          [
           "spider lucas tour studios movie",
           17
          ],
          [
           "video official lyric ft music",
           28
          ],
          [
           "2018 game highlights plays vs",
           5
          ],
          [
           "cast riverdale lawrence jennifer dating",
           33
          ],
          [
           "trailer official 2018 teaser season",
           21
          ],
          [
           "live kesha left ariana tears",
           25
          ],
          [
           "spider lucas tour studios movie",
           17
          ],
          [
           "2018 raw mcmahon april reigns",
           1
          ],
          [
           "jenner reveal pregnancy transgender keeping",
           23
          ],
          [
           "live kesha left ariana tears",
           25
          ],
          [
           "ft live coming acoustic ed",
           34
          ],
          [
           "makeup tutorial kylie collection cosmetics",
           9
          ],
          [
           "cast riverdale lawrence jennifer dating",
           33
          ],
          [
           "official theaters trailer hd 2018",
           18
          ],
          [
           "cat earth caught bacteriophage deadliest",
           31
          ],
          [
           "love sight answering reacting youtube",
           42
          ],
          [
           "computer smartphone look apple new",
           3
          ],
          [
           "rooster teeth animated adventures millie",
           16
          ],
          [
           "cake make making gampp yolanda",
           10
          ],
          [
           "spider lucas tour studios movie",
           17
          ],
          [
           "rooster teeth animated adventures millie",
           16
          ],
          [
           "2018 game highlights plays vs",
           5
          ],
          [
           "official theaters trailer hd 2018",
           18
          ],
          [
           "honest trailers star wars jedi",
           19
          ],
          [
           "cat earth caught bacteriophage deadliest",
           31
          ],
          [
           "2018 falcon heavy 02062018 landing",
           40
          ],
          [
           "honest trailers star wars jedi",
           19
          ],
          [
           "fail huge jump things used",
           32
          ],
          [
           "dean nba press conference bryant",
           4
          ],
          [
           "video official lyric ft music",
           28
          ],
          [
           "fail huge jump things used",
           32
          ],
          [
           "makeup tutorial kylie collection cosmetics",
           9
          ],
          [
           "video official lyric ft music",
           28
          ],
          [
           "makeup tutorial kylie collection cosmetics",
           9
          ],
          [
           "self robot skydio drone flying",
           27
          ],
          [
           "wore week day outfits mom",
           8
          ],
          [
           "snl wedding royal conan meghan",
           30
          ],
          [
           "wore week day outfits mom",
           8
          ],
          [
           "drank just drinks energy blood",
           7
          ],
          [
           "makeup tutorial kylie collection cosmetics",
           9
          ],
          [
           "trailer official 2018 teaser season",
           21
          ],
          [
           "trailer official 2018 teaser season",
           21
          ],
          [
           "video official lyric ft music",
           28
          ],
          [
           "shopping sneaker complex goes broke",
           0
          ],
          [
           "drank just drinks energy blood",
           7
          ],
          [
           "trailer official 2018 teaser season",
           21
          ],
          [
           "2018 game highlights plays vs",
           5
          ],
          [
           "trailer official 2018 teaser season",
           21
          ],
          [
           "black hole blue star bomb",
           13
          ],
          [
           "kevin hart fit conan loud",
           12
          ],
          [
           "self robot skydio drone flying",
           27
          ],
          [
           "nintendo 2018 day e3 super",
           14
          ],
          [
           "hufflepuff advice young self best",
           41
          ],
          [
           "honest trailers star wars jedi",
           19
          ],
          [
           "cast riverdale lawrence jennifer dating",
           33
          ],
          [
           "love sight answering reacting youtube",
           42
          ],
          [
           "snl wedding royal conan meghan",
           30
          ],
          [
           "ft live coming acoustic ed",
           34
          ],
          [
           "ft live coming acoustic ed",
           34
          ],
          [
           "video official lyric ft music",
           28
          ],
          [
           "computer smartphone look apple new",
           3
          ],
          [
           "drank just drinks energy blood",
           7
          ],
          [
           "video official lyric ft music",
           28
          ],
          [
           "fail huge jump things used",
           32
          ],
          [
           "2018 game highlights plays vs",
           5
          ],
          [
           "moore open snl cold misconduct",
           29
          ],
          [
           "makeup tutorial kylie collection cosmetics",
           9
          ],
          [
           "makeup tutorial kylie collection cosmetics",
           9
          ],
          [
           "store challenge diy dollar making",
           37
          ],
          [
           "wore week day outfits mom",
           8
          ],
          [
           "ft live coming acoustic ed",
           34
          ],
          [
           "nintendo 2018 day e3 super",
           14
          ],
          [
           "wore week day outfits mom",
           8
          ],
          [
           "2018 raw mcmahon april reigns",
           1
          ],
          [
           "suck episode cooking 1784 recipe",
           11
          ],
          [
           "makeup tutorial kylie collection cosmetics",
           9
          ],
          [
           "black hole blue star bomb",
           13
          ],
          [
           "snl wedding royal conan meghan",
           30
          ],
          [
           "cat earth caught bacteriophage deadliest",
           31
          ],
          [
           "rocks wish make surprise museum",
           36
          ],
          [
           "rooster teeth animated adventures millie",
           16
          ],
          [
           "makeup tutorial kylie collection cosmetics",
           9
          ],
          [
           "slow check tsa motion glass",
           39
          ],
          [
           "official theaters trailer hd 2018",
           18
          ],
          [
           "2018 raw mcmahon april reigns",
           1
          ],
          [
           "moore open snl cold misconduct",
           29
          ],
          [
           "heaven michaels julia official video",
           20
          ],
          [
           "self robot skydio drone flying",
           27
          ],
          [
           "moore open snl cold misconduct",
           29
          ],
          [
           "video official lyric ft music",
           28
          ],
          [
           "video official lyric ft music",
           28
          ],
          [
           "video official lyric ft music",
           28
          ],
          [
           "wore week day outfits mom",
           8
          ],
          [
           "bbq best fries meat great",
           6
          ],
          [
           "cake make making gampp yolanda",
           10
          ],
          [
           "video official lyric ft music",
           28
          ],
          [
           "rooster teeth animated adventures millie",
           16
          ],
          [
           "trailer official 2018 teaser season",
           21
          ],
          [
           "snl wedding royal conan meghan",
           30
          ],
          [
           "ft live coming acoustic ed",
           34
          ],
          [
           "wore week day outfits mom",
           8
          ],
          [
           "slow check tsa motion glass",
           39
          ],
          [
           "game emblem basically characters clash",
           15
          ],
          [
           "love sight answering reacting youtube",
           42
          ],
          [
           "cat earth caught bacteriophage deadliest",
           31
          ],
          [
           "2018 game highlights plays vs",
           5
          ],
          [
           "game emblem basically characters clash",
           15
          ],
          [
           "audio ellie goulding vincent rita",
           35
          ],
          [
           "cat earth caught bacteriophage deadliest",
           31
          ],
          [
           "honest trailers star wars jedi",
           19
          ],
          [
           "bbq best fries meat great",
           6
          ],
          [
           "wore week day outfits mom",
           8
          ],
          [
           "computer smartphone look apple new",
           3
          ],
          [
           "cat earth caught bacteriophage deadliest",
           31
          ],
          [
           "video official lyric ft music",
           28
          ],
          [
           "video official lyric ft music",
           28
          ],
          [
           "video official lyric ft music",
           28
          ],
          [
           "jenner reveal pregnancy transgender keeping",
           23
          ],
          [
           "fail huge jump things used",
           32
          ],
          [
           "shopping sneaker complex goes broke",
           0
          ],
          [
           "trailer official 2018 teaser season",
           21
          ],
          [
           "honest trailers star wars jedi",
           19
          ],
          [
           "love sight answering reacting youtube",
           42
          ],
          [
           "rocks wish make surprise museum",
           36
          ],
          [
           "wore week day outfits mom",
           8
          ],
          [
           "kevin hart fit conan loud",
           12
          ],
          [
           "ball density hydraulic rubiks 4k",
           38
          ],
          [
           "store challenge diy dollar making",
           37
          ],
          [
           "ft live coming acoustic ed",
           34
          ],
          [
           "self robot skydio drone flying",
           27
          ],
          [
           "nintendo 2018 day e3 super",
           14
          ],
          [
           "kaling mindy wedding invited wasnt",
           26
          ],
          [
           "cake make making gampp yolanda",
           10
          ],
          [
           "video official lyric ft music",
           28
          ],
          [
           "makeup tutorial kylie collection cosmetics",
           9
          ],
          [
           "trailer official 2018 teaser season",
           21
          ],
          [
           "cat earth caught bacteriophage deadliest",
           31
          ],
          [
           "video official lyric ft music",
           28
          ],
          [
           "computer smartphone look apple new",
           3
          ],
          [
           "love sight answering reacting youtube",
           42
          ],
          [
           "ball density hydraulic rubiks 4k",
           38
          ],
          [
           "game emblem basically characters clash",
           15
          ],
          [
           "ft live coming acoustic ed",
           34
          ],
          [
           "wore week day outfits mom",
           8
          ],
          [
           "moore open snl cold misconduct",
           29
          ],
          [
           "ft live coming acoustic ed",
           34
          ],
          [
           "trailer official 2018 teaser season",
           21
          ],
          [
           "ft live coming acoustic ed",
           34
          ],
          [
           "ball density hydraulic rubiks 4k",
           38
          ],
          [
           "heaven michaels julia official video",
           20
          ],
          [
           "moore open snl cold misconduct",
           29
          ],
          [
           "love sight answering reacting youtube",
           42
          ],
          [
           "love sight answering reacting youtube",
           42
          ],
          [
           "cat earth caught bacteriophage deadliest",
           31
          ],
          [
           "black hole blue star bomb",
           13
          ],
          [
           "rooster teeth animated adventures millie",
           16
          ],
          [
           "jenner reveal pregnancy transgender keeping",
           23
          ],
          [
           "rooster teeth animated adventures millie",
           16
          ],
          [
           "makeup tutorial kylie collection cosmetics",
           9
          ],
          [
           "jenner reveal pregnancy transgender keeping",
           23
          ],
          [
           "dean nba press conference bryant",
           4
          ],
          [
           "makeup tutorial kylie collection cosmetics",
           9
          ],
          [
           "hufflepuff advice young self best",
           41
          ],
          [
           "kaling mindy wedding invited wasnt",
           26
          ],
          [
           "trailer official 2018 teaser season",
           21
          ],
          [
           "jenner reveal pregnancy transgender keeping",
           23
          ],
          [
           "trailer official 2018 teaser season",
           21
          ],
          [
           "ft live coming acoustic ed",
           34
          ],
          [
           "dean nba press conference bryant",
           4
          ],
          [
           "trailer official 2018 teaser season",
           21
          ],
          [
           "jenner reveal pregnancy transgender keeping",
           23
          ],
          [
           "ft live coming acoustic ed",
           34
          ],
          [
           "marzia felix proposal mancuso rudy",
           2
          ],
          [
           "2018 falcon heavy 02062018 landing",
           40
          ],
          [
           "2018 raw mcmahon april reigns",
           1
          ],
          [
           "bbq best fries meat great",
           6
          ],
          [
           "trailer official 2018 teaser season",
           21
          ],
          [
           "suck episode cooking 1784 recipe",
           11
          ],
          [
           "love sight answering reacting youtube",
           42
          ],
          [
           "kevin hart fit conan loud",
           12
          ],
          [
           "cat earth caught bacteriophage deadliest",
           31
          ],
          [
           "ft live coming acoustic ed",
           34
          ],
          [
           "kaling mindy wedding invited wasnt",
           26
          ],
          [
           "makeup tutorial kylie collection cosmetics",
           9
          ],
          [
           "video official lyric ft music",
           28
          ],
          [
           "moore open snl cold misconduct",
           29
          ],
          [
           "kevin hart fit conan loud",
           12
          ],
          [
           "dean nba press conference bryant",
           4
          ],
          [
           "ft live coming acoustic ed",
           34
          ],
          [
           "bbq best fries meat great",
           6
          ],
          [
           "computer smartphone look apple new",
           3
          ],
          [
           "cat earth caught bacteriophage deadliest",
           31
          ],
          [
           "honest trailers star wars jedi",
           19
          ],
          [
           "bbq best fries meat great",
           6
          ],
          [
           "trailer official 2018 teaser season",
           21
          ],
          [
           "jenner reveal pregnancy transgender keeping",
           23
          ],
          [
           "hufflepuff advice young self best",
           41
          ],
          [
           "game emblem basically characters clash",
           15
          ],
          [
           "cat earth caught bacteriophage deadliest",
           31
          ],
          [
           "rocks wish make surprise museum",
           36
          ],
          [
           "jenner reveal pregnancy transgender keeping",
           23
          ],
          [
           "wore week day outfits mom",
           8
          ],
          [
           "cat earth caught bacteriophage deadliest",
           31
          ],
          [
           "2018 falcon heavy 02062018 landing",
           40
          ],
          [
           "2018 falcon heavy 02062018 landing",
           40
          ],
          [
           "dean nba press conference bryant",
           4
          ],
          [
           "slow check tsa motion glass",
           39
          ],
          [
           "trailer official 2018 teaser season",
           21
          ],
          [
           "cat earth caught bacteriophage deadliest",
           31
          ],
          [
           "cat earth caught bacteriophage deadliest",
           31
          ],
          [
           "cat earth caught bacteriophage deadliest",
           31
          ],
          [
           "official theaters trailer hd 2018",
           18
          ],
          [
           "2018 falcon heavy 02062018 landing",
           40
          ],
          [
           "ball density hydraulic rubiks 4k",
           38
          ],
          [
           "wore week day outfits mom",
           8
          ],
          [
           "live kesha left ariana tears",
           25
          ],
          [
           "video official lyric ft music",
           28
          ],
          [
           "cat earth caught bacteriophage deadliest",
           31
          ],
          [
           "audio ellie goulding vincent rita",
           35
          ],
          [
           "slow check tsa motion glass",
           39
          ],
          [
           "2018 raw mcmahon april reigns",
           1
          ],
          [
           "game emblem basically characters clash",
           15
          ],
          [
           "2018 game highlights plays vs",
           5
          ],
          [
           "cat earth caught bacteriophage deadliest",
           31
          ],
          [
           "video official lyric ft music",
           28
          ],
          [
           "slow check tsa motion glass",
           39
          ],
          [
           "ball density hydraulic rubiks 4k",
           38
          ],
          [
           "fail huge jump things used",
           32
          ],
          [
           "2018 raw mcmahon april reigns",
           1
          ],
          [
           "ft live coming acoustic ed",
           34
          ],
          [
           "wore week day outfits mom",
           8
          ],
          [
           "video official lyric ft music",
           28
          ],
          [
           "moore open snl cold misconduct",
           29
          ],
          [
           "2017 2018 oscars cardi grammy",
           24
          ],
          [
           "computer smartphone look apple new",
           3
          ],
          [
           "spider lucas tour studios movie",
           17
          ],
          [
           "bbq best fries meat great",
           6
          ],
          [
           "kaling mindy wedding invited wasnt",
           26
          ],
          [
           "video official lyric ft music",
           28
          ],
          [
           "computer smartphone look apple new",
           3
          ],
          [
           "snl wedding royal conan meghan",
           30
          ],
          [
           "marzia felix proposal mancuso rudy",
           2
          ],
          [
           "computer smartphone look apple new",
           3
          ],
          [
           "2018 raw mcmahon april reigns",
           1
          ],
          [
           "snl wedding royal conan meghan",
           30
          ],
          [
           "trailer official 2018 teaser season",
           21
          ],
          [
           "moore open snl cold misconduct",
           29
          ],
          [
           "makeup tutorial kylie collection cosmetics",
           9
          ],
          [
           "love sight answering reacting youtube",
           42
          ],
          [
           "hd official trailer venom teaser",
           22
          ],
          [
           "trailer official 2018 teaser season",
           21
          ],
          [
           "dean nba press conference bryant",
           4
          ],
          [
           "heaven michaels julia official video",
           20
          ],
          [
           "audio ellie goulding vincent rita",
           35
          ],
          [
           "ft live coming acoustic ed",
           34
          ],
          [
           "shopping sneaker complex goes broke",
           0
          ],
          [
           "audio ellie goulding vincent rita",
           35
          ],
          [
           "slow check tsa motion glass",
           39
          ],
          [
           "rocks wish make surprise museum",
           36
          ],
          [
           "2017 2018 oscars cardi grammy",
           24
          ],
          [
           "cast riverdale lawrence jennifer dating",
           33
          ],
          [
           "self robot skydio drone flying",
           27
          ],
          [
           "spider lucas tour studios movie",
           17
          ],
          [
           "snl wedding royal conan meghan",
           30
          ],
          [
           "rooster teeth animated adventures millie",
           16
          ],
          [
           "2017 2018 oscars cardi grammy",
           24
          ],
          [
           "game emblem basically characters clash",
           15
          ],
          [
           "nintendo 2018 day e3 super",
           14
          ],
          [
           "2018 falcon heavy 02062018 landing",
           40
          ],
          [
           "snl wedding royal conan meghan",
           30
          ],
          [
           "wore week day outfits mom",
           8
          ],
          [
           "honest trailers star wars jedi",
           19
          ],
          [
           "makeup tutorial kylie collection cosmetics",
           9
          ],
          [
           "jenner reveal pregnancy transgender keeping",
           23
          ],
          [
           "2018 raw mcmahon april reigns",
           1
          ],
          [
           "slow check tsa motion glass",
           39
          ],
          [
           "video official lyric ft music",
           28
          ],
          [
           "video official lyric ft music",
           28
          ],
          [
           "heaven michaels julia official video",
           20
          ],
          [
           "suck episode cooking 1784 recipe",
           11
          ],
          [
           "2018 game highlights plays vs",
           5
          ],
          [
           "hd official trailer venom teaser",
           22
          ],
          [
           "kevin hart fit conan loud",
           12
          ],
          [
           "cat earth caught bacteriophage deadliest",
           31
          ],
          [
           "fail huge jump things used",
           32
          ],
          [
           "2018 game highlights plays vs",
           5
          ],
          [
           "audio ellie goulding vincent rita",
           35
          ],
          [
           "cake make making gampp yolanda",
           10
          ],
          [
           "trailer official 2018 teaser season",
           21
          ],
          [
           "kaling mindy wedding invited wasnt",
           26
          ],
          [
           "jenner reveal pregnancy transgender keeping",
           23
          ],
          [
           "slow check tsa motion glass",
           39
          ],
          [
           "cat earth caught bacteriophage deadliest",
           31
          ],
          [
           "honest trailers star wars jedi",
           19
          ],
          [
           "makeup tutorial kylie collection cosmetics",
           9
          ],
          [
           "computer smartphone look apple new",
           3
          ],
          [
           "video official lyric ft music",
           28
          ],
          [
           "snl wedding royal conan meghan",
           30
          ],
          [
           "ft live coming acoustic ed",
           34
          ],
          [
           "cat earth caught bacteriophage deadliest",
           31
          ],
          [
           "spider lucas tour studios movie",
           17
          ],
          [
           "2018 game highlights plays vs",
           5
          ],
          [
           "heaven michaels julia official video",
           20
          ],
          [
           "spider lucas tour studios movie",
           17
          ],
          [
           "makeup tutorial kylie collection cosmetics",
           9
          ],
          [
           "wore week day outfits mom",
           8
          ],
          [
           "trailer official 2018 teaser season",
           21
          ],
          [
           "trailer official 2018 teaser season",
           21
          ],
          [
           "makeup tutorial kylie collection cosmetics",
           9
          ],
          [
           "video official lyric ft music",
           28
          ],
          [
           "video official lyric ft music",
           28
          ],
          [
           "heaven michaels julia official video",
           20
          ],
          [
           "love sight answering reacting youtube",
           42
          ],
          [
           "slow check tsa motion glass",
           39
          ],
          [
           "cat earth caught bacteriophage deadliest",
           31
          ],
          [
           "ball density hydraulic rubiks 4k",
           38
          ],
          [
           "ball density hydraulic rubiks 4k",
           38
          ],
          [
           "bbq best fries meat great",
           6
          ],
          [
           "computer smartphone look apple new",
           3
          ],
          [
           "snl wedding royal conan meghan",
           30
          ],
          [
           "kaling mindy wedding invited wasnt",
           26
          ],
          [
           "2018 falcon heavy 02062018 landing",
           40
          ],
          [
           "ft live coming acoustic ed",
           34
          ],
          [
           "video official lyric ft music",
           28
          ],
          [
           "hd official trailer venom teaser",
           22
          ],
          [
           "honest trailers star wars jedi",
           19
          ],
          [
           "fail huge jump things used",
           32
          ],
          [
           "kaling mindy wedding invited wasnt",
           26
          ],
          [
           "snl wedding royal conan meghan",
           30
          ],
          [
           "video official lyric ft music",
           28
          ],
          [
           "computer smartphone look apple new",
           3
          ],
          [
           "jenner reveal pregnancy transgender keeping",
           23
          ],
          [
           "computer smartphone look apple new",
           3
          ],
          [
           "trailer official 2018 teaser season",
           21
          ],
          [
           "hufflepuff advice young self best",
           41
          ],
          [
           "kaling mindy wedding invited wasnt",
           26
          ],
          [
           "kevin hart fit conan loud",
           12
          ],
          [
           "wore week day outfits mom",
           8
          ],
          [
           "2018 game highlights plays vs",
           5
          ],
          [
           "snl wedding royal conan meghan",
           30
          ],
          [
           "slow check tsa motion glass",
           39
          ],
          [
           "makeup tutorial kylie collection cosmetics",
           9
          ],
          [
           "makeup tutorial kylie collection cosmetics",
           9
          ],
          [
           "ft live coming acoustic ed",
           34
          ],
          [
           "hd official trailer venom teaser",
           22
          ],
          [
           "kaling mindy wedding invited wasnt",
           26
          ],
          [
           "2018 game highlights plays vs",
           5
          ],
          [
           "jenner reveal pregnancy transgender keeping",
           23
          ],
          [
           "audio ellie goulding vincent rita",
           35
          ],
          [
           "trailer official 2018 teaser season",
           21
          ],
          [
           "jenner reveal pregnancy transgender keeping",
           23
          ],
          [
           "cat earth caught bacteriophage deadliest",
           31
          ],
          [
           "dean nba press conference bryant",
           4
          ],
          [
           "kaling mindy wedding invited wasnt",
           26
          ],
          [
           "self robot skydio drone flying",
           27
          ],
          [
           "2018 falcon heavy 02062018 landing",
           40
          ],
          [
           "2018 game highlights plays vs",
           5
          ],
          [
           "official theaters trailer hd 2018",
           18
          ],
          [
           "trailer official 2018 teaser season",
           21
          ],
          [
           "love sight answering reacting youtube",
           42
          ],
          [
           "shopping sneaker complex goes broke",
           0
          ],
          [
           "2018 game highlights plays vs",
           5
          ],
          [
           "video official lyric ft music",
           28
          ],
          [
           "ball density hydraulic rubiks 4k",
           38
          ],
          [
           "makeup tutorial kylie collection cosmetics",
           9
          ],
          [
           "wore week day outfits mom",
           8
          ],
          [
           "trailer official 2018 teaser season",
           21
          ],
          [
           "makeup tutorial kylie collection cosmetics",
           9
          ],
          [
           "heaven michaels julia official video",
           20
          ],
          [
           "makeup tutorial kylie collection cosmetics",
           9
          ],
          [
           "dean nba press conference bryant",
           4
          ],
          [
           "game emblem basically characters clash",
           15
          ],
          [
           "trailer official 2018 teaser season",
           21
          ],
          [
           "shopping sneaker complex goes broke",
           0
          ],
          [
           "spider lucas tour studios movie",
           17
          ],
          [
           "spider lucas tour studios movie",
           17
          ],
          [
           "computer smartphone look apple new",
           3
          ],
          [
           "ft live coming acoustic ed",
           34
          ],
          [
           "rocks wish make surprise museum",
           36
          ],
          [
           "2017 2018 oscars cardi grammy",
           24
          ],
          [
           "nintendo 2018 day e3 super",
           14
          ],
          [
           "snl wedding royal conan meghan",
           30
          ],
          [
           "self robot skydio drone flying",
           27
          ],
          [
           "ft live coming acoustic ed",
           34
          ],
          [
           "2018 raw mcmahon april reigns",
           1
          ],
          [
           "honest trailers star wars jedi",
           19
          ],
          [
           "moore open snl cold misconduct",
           29
          ],
          [
           "snl wedding royal conan meghan",
           30
          ],
          [
           "spider lucas tour studios movie",
           17
          ],
          [
           "computer smartphone look apple new",
           3
          ],
          [
           "marzia felix proposal mancuso rudy",
           2
          ],
          [
           "honest trailers star wars jedi",
           19
          ],
          [
           "fail huge jump things used",
           32
          ],
          [
           "love sight answering reacting youtube",
           42
          ],
          [
           "makeup tutorial kylie collection cosmetics",
           9
          ],
          [
           "rocks wish make surprise museum",
           36
          ],
          [
           "video official lyric ft music",
           28
          ],
          [
           "makeup tutorial kylie collection cosmetics",
           9
          ],
          [
           "makeup tutorial kylie collection cosmetics",
           9
          ],
          [
           "fail huge jump things used",
           32
          ],
          [
           "wore week day outfits mom",
           8
          ],
          [
           "ft live coming acoustic ed",
           34
          ],
          [
           "trailer official 2018 teaser season",
           21
          ],
          [
           "game emblem basically characters clash",
           15
          ],
          [
           "official theaters trailer hd 2018",
           18
          ],
          [
           "trailer official 2018 teaser season",
           21
          ],
          [
           "nintendo 2018 day e3 super",
           14
          ],
          [
           "makeup tutorial kylie collection cosmetics",
           9
          ],
          [
           "makeup tutorial kylie collection cosmetics",
           9
          ],
          [
           "jenner reveal pregnancy transgender keeping",
           23
          ],
          [
           "cat earth caught bacteriophage deadliest",
           31
          ],
          [
           "ft live coming acoustic ed",
           34
          ],
          [
           "wore week day outfits mom",
           8
          ],
          [
           "kevin hart fit conan loud",
           12
          ],
          [
           "audio ellie goulding vincent rita",
           35
          ],
          [
           "2018 game highlights plays vs",
           5
          ],
          [
           "love sight answering reacting youtube",
           42
          ],
          [
           "computer smartphone look apple new",
           3
          ],
          [
           "ball density hydraulic rubiks 4k",
           38
          ],
          [
           "makeup tutorial kylie collection cosmetics",
           9
          ],
          [
           "video official lyric ft music",
           28
          ],
          [
           "ball density hydraulic rubiks 4k",
           38
          ],
          [
           "suck episode cooking 1784 recipe",
           11
          ],
          [
           "ft live coming acoustic ed",
           34
          ],
          [
           "spider lucas tour studios movie",
           17
          ],
          [
           "2018 raw mcmahon april reigns",
           1
          ],
          [
           "2018 game highlights plays vs",
           5
          ],
          [
           "trailer official 2018 teaser season",
           21
          ],
          [
           "ball density hydraulic rubiks 4k",
           38
          ],
          [
           "heaven michaels julia official video",
           20
          ],
          [
           "video official lyric ft music",
           28
          ],
          [
           "fail huge jump things used",
           32
          ],
          [
           "live kesha left ariana tears",
           25
          ],
          [
           "dean nba press conference bryant",
           4
          ],
          [
           "ft live coming acoustic ed",
           34
          ],
          [
           "suck episode cooking 1784 recipe",
           11
          ],
          [
           "cat earth caught bacteriophage deadliest",
           31
          ],
          [
           "trailer official 2018 teaser season",
           21
          ],
          [
           "slow check tsa motion glass",
           39
          ],
          [
           "rocks wish make surprise museum",
           36
          ],
          [
           "2018 falcon heavy 02062018 landing",
           40
          ],
          [
           "wore week day outfits mom",
           8
          ],
          [
           "jenner reveal pregnancy transgender keeping",
           23
          ],
          [
           "wore week day outfits mom",
           8
          ],
          [
           "official theaters trailer hd 2018",
           18
          ],
          [
           "2018 game highlights plays vs",
           5
          ],
          [
           "ft live coming acoustic ed",
           34
          ],
          [
           "rooster teeth animated adventures millie",
           16
          ],
          [
           "kaling mindy wedding invited wasnt",
           26
          ],
          [
           "dean nba press conference bryant",
           4
          ],
          [
           "marzia felix proposal mancuso rudy",
           2
          ],
          [
           "honest trailers star wars jedi",
           19
          ],
          [
           "love sight answering reacting youtube",
           42
          ],
          [
           "honest trailers star wars jedi",
           19
          ],
          [
           "suck episode cooking 1784 recipe",
           11
          ],
          [
           "rocks wish make surprise museum",
           36
          ],
          [
           "makeup tutorial kylie collection cosmetics",
           9
          ],
          [
           "computer smartphone look apple new",
           3
          ],
          [
           "kaling mindy wedding invited wasnt",
           26
          ],
          [
           "snl wedding royal conan meghan",
           30
          ],
          [
           "honest trailers star wars jedi",
           19
          ],
          [
           "trailer official 2018 teaser season",
           21
          ],
          [
           "2018 raw mcmahon april reigns",
           1
          ],
          [
           "moore open snl cold misconduct",
           29
          ],
          [
           "cake make making gampp yolanda",
           10
          ],
          [
           "trailer official 2018 teaser season",
           21
          ],
          [
           "game emblem basically characters clash",
           15
          ],
          [
           "2018 game highlights plays vs",
           5
          ],
          [
           "trailer official 2018 teaser season",
           21
          ],
          [
           "suck episode cooking 1784 recipe",
           11
          ],
          [
           "moore open snl cold misconduct",
           29
          ],
          [
           "hufflepuff advice young self best",
           41
          ],
          [
           "honest trailers star wars jedi",
           19
          ],
          [
           "jenner reveal pregnancy transgender keeping",
           23
          ],
          [
           "love sight answering reacting youtube",
           42
          ],
          [
           "store challenge diy dollar making",
           37
          ],
          [
           "video official lyric ft music",
           28
          ],
          [
           "love sight answering reacting youtube",
           42
          ],
          [
           "cake make making gampp yolanda",
           10
          ],
          [
           "jenner reveal pregnancy transgender keeping",
           23
          ],
          [
           "makeup tutorial kylie collection cosmetics",
           9
          ],
          [
           "cake make making gampp yolanda",
           10
          ],
          [
           "jenner reveal pregnancy transgender keeping",
           23
          ],
          [
           "2018 game highlights plays vs",
           5
          ],
          [
           "snl wedding royal conan meghan",
           30
          ],
          [
           "trailer official 2018 teaser season",
           21
          ],
          [
           "2017 2018 oscars cardi grammy",
           24
          ],
          [
           "ball density hydraulic rubiks 4k",
           38
          ],
          [
           "store challenge diy dollar making",
           37
          ],
          [
           "hufflepuff advice young self best",
           41
          ],
          [
           "love sight answering reacting youtube",
           42
          ],
          [
           "2017 2018 oscars cardi grammy",
           24
          ],
          [
           "official theaters trailer hd 2018",
           18
          ],
          [
           "spider lucas tour studios movie",
           17
          ],
          [
           "2018 falcon heavy 02062018 landing",
           40
          ],
          [
           "black hole blue star bomb",
           13
          ],
          [
           "love sight answering reacting youtube",
           42
          ],
          [
           "hufflepuff advice young self best",
           41
          ],
          [
           "wore week day outfits mom",
           8
          ],
          [
           "love sight answering reacting youtube",
           42
          ],
          [
           "shopping sneaker complex goes broke",
           0
          ],
          [
           "bbq best fries meat great",
           6
          ],
          [
           "marzia felix proposal mancuso rudy",
           2
          ],
          [
           "store challenge diy dollar making",
           37
          ],
          [
           "official theaters trailer hd 2018",
           18
          ],
          [
           "suck episode cooking 1784 recipe",
           11
          ],
          [
           "makeup tutorial kylie collection cosmetics",
           9
          ],
          [
           "hd official trailer venom teaser",
           22
          ],
          [
           "cake make making gampp yolanda",
           10
          ],
          [
           "drank just drinks energy blood",
           7
          ],
          [
           "makeup tutorial kylie collection cosmetics",
           9
          ],
          [
           "computer smartphone look apple new",
           3
          ],
          [
           "rooster teeth animated adventures millie",
           16
          ],
          [
           "video official lyric ft music",
           28
          ],
          [
           "video official lyric ft music",
           28
          ],
          [
           "makeup tutorial kylie collection cosmetics",
           9
          ],
          [
           "cat earth caught bacteriophage deadliest",
           31
          ],
          [
           "kaling mindy wedding invited wasnt",
           26
          ],
          [
           "snl wedding royal conan meghan",
           30
          ],
          [
           "audio ellie goulding vincent rita",
           35
          ],
          [
           "dean nba press conference bryant",
           4
          ],
          [
           "makeup tutorial kylie collection cosmetics",
           9
          ],
          [
           "self robot skydio drone flying",
           27
          ],
          [
           "kaling mindy wedding invited wasnt",
           26
          ],
          [
           "makeup tutorial kylie collection cosmetics",
           9
          ],
          [
           "live kesha left ariana tears",
           25
          ],
          [
           "makeup tutorial kylie collection cosmetics",
           9
          ],
          [
           "slow check tsa motion glass",
           39
          ],
          [
           "video official lyric ft music",
           28
          ],
          [
           "hufflepuff advice young self best",
           41
          ],
          [
           "fail huge jump things used",
           32
          ],
          [
           "makeup tutorial kylie collection cosmetics",
           9
          ],
          [
           "moore open snl cold misconduct",
           29
          ],
          [
           "cake make making gampp yolanda",
           10
          ],
          [
           "cat earth caught bacteriophage deadliest",
           31
          ],
          [
           "kaling mindy wedding invited wasnt",
           26
          ],
          [
           "video official lyric ft music",
           28
          ],
          [
           "trailer official 2018 teaser season",
           21
          ],
          [
           "makeup tutorial kylie collection cosmetics",
           9
          ],
          [
           "trailer official 2018 teaser season",
           21
          ],
          [
           "love sight answering reacting youtube",
           42
          ],
          [
           "cat earth caught bacteriophage deadliest",
           31
          ],
          [
           "2018 game highlights plays vs",
           5
          ],
          [
           "rooster teeth animated adventures millie",
           16
          ],
          [
           "moore open snl cold misconduct",
           29
          ],
          [
           "trailer official 2018 teaser season",
           21
          ],
          [
           "nintendo 2018 day e3 super",
           14
          ],
          [
           "trailer official 2018 teaser season",
           21
          ],
          [
           "love sight answering reacting youtube",
           42
          ],
          [
           "ft live coming acoustic ed",
           34
          ]
         ],
         "hovertemplate": "<b>Topics:</b> %{customdata[0]} <br><b>Cluster Id:</b> %{customdata[1]}<extra></extra>",
         "marker": {
          "color": [
           20,
           5,
           42,
           4,
           18,
           41,
           31,
           12,
           15,
           28,
           33,
           1,
           28,
           29,
           1,
           26,
           10,
           1,
           9,
           17,
           42,
           1,
           3,
           32,
           17,
           21,
           5,
           42,
           30,
           8,
           3,
           31,
           40,
           15,
           34,
           28,
           26,
           34,
           28,
           28,
           22,
           10,
           34,
           7,
           28,
           39,
           2,
           8,
           10,
           41,
           41,
           32,
           3,
           2,
           11,
           28,
           36,
           38,
           1,
           29,
           31,
           2,
           28,
           28,
           1,
           9,
           9,
           16,
           9,
           28,
           16,
           19,
           28,
           9,
           16,
           31,
           21,
           17,
           28,
           5,
           5,
           33,
           42,
           11,
           15,
           19,
           9,
           31,
           18,
           30,
           9,
           6,
           8,
           10,
           27,
           30,
           0,
           23,
           9,
           15,
           9,
           22,
           28,
           22,
           22,
           9,
           30,
           36,
           7,
           8,
           32,
           9,
           5,
           31,
           36,
           5,
           21,
           23,
           9,
           9,
           21,
           5,
           9,
           37,
           16,
           19,
           34,
           4,
           10,
           17,
           9,
           9,
           19,
           9,
           19,
           34,
           3,
           26,
           15,
           0,
           16,
           19,
           13,
           17,
           10,
           17,
           38,
           8,
           28,
           7,
           35,
           28,
           19,
           11,
           23,
           42,
           40,
           28,
           12,
           18,
           28,
           1,
           34,
           5,
           42,
           7,
           25,
           9,
           5,
           9,
           10,
           30,
           23,
           8,
           30,
           8,
           41,
           9,
           38,
           31,
           26,
           22,
           14,
           9,
           3,
           25,
           9,
           7,
           28,
           28,
           24,
           31,
           28,
           30,
           21,
           22,
           6,
           21,
           9,
           30,
           9,
           23,
           6,
           19,
           31,
           9,
           29,
           17,
           0,
           9,
           8,
           40,
           36,
           9,
           3,
           42,
           33,
           9,
           21,
           0,
           24,
           10,
           19,
           9,
           25,
           2,
           22,
           30,
           25,
           35,
           21,
           16,
           28,
           9,
           9,
           17,
           18,
           27,
           1,
           13,
           32,
           27,
           1,
           11,
           3,
           3,
           12,
           42,
           5,
           21,
           42,
           17,
           33,
           33,
           29,
           9,
           38,
           9,
           15,
           5,
           31,
           16,
           21,
           30,
           19,
           28,
           21,
           1,
           26,
           1,
           36,
           19,
           8,
           31,
           9,
           9,
           41,
           9,
           24,
           21,
           31,
           9,
           5,
           34,
           31,
           9,
           42,
           4,
           21,
           41,
           26,
           16,
           14,
           9,
           13,
           6,
           7,
           17,
           34,
           25,
           33,
           39,
           25,
           39,
           19,
           12,
           27,
           32,
           0,
           5,
           6,
           7,
           28,
           29,
           42,
           5,
           17,
           34,
           41,
           6,
           2,
           23,
           4,
           10,
           29,
           3,
           28,
           37,
           28,
           12,
           28,
           31,
           21,
           28,
           9,
           28,
           12,
           8,
           6,
           12,
           5,
           21,
           5,
           37,
           17,
           34,
           25,
           17,
           23,
           42,
           30,
           28,
           9,
           9,
           9,
           31,
           2,
           23,
           26,
           3,
           8,
           34,
           36,
           17,
           35,
           40,
           13,
           9,
           31,
           26,
           28,
           31,
           18,
           34,
           30,
           6,
           41,
           8,
           25,
           9,
           31,
           5,
           18,
           36,
           31,
           28,
           15,
           37,
           37,
           11,
           8,
           28,
           38,
           42,
           42,
           24,
           31,
           21,
           6,
           31,
           23,
           27,
           28,
           10,
           4,
           38,
           23,
           1,
           6,
           8,
           31,
           19,
           21,
           28,
           28,
           26,
           4,
           10,
           32,
           18,
           42,
           34,
           6,
           28,
           30,
           31,
           8,
           21,
           36,
           5,
           9,
           8,
           31,
           4,
           28,
           5,
           18,
           20,
           28,
           9,
           13,
           8,
           9,
           9,
           28,
           8,
           8,
           24,
           21,
           36,
           14,
           34,
           3,
           5,
           33,
           17,
           8,
           31,
           34,
           20,
           34,
           39,
           21,
           36,
           36,
           42,
           13,
           28,
           2,
           28,
           7,
           19,
           9,
           5,
           9,
           10,
           17,
           13,
           27,
           3,
           34,
           19,
           1,
           27,
           28,
           14,
           28,
           33,
           31,
           30,
           1,
           8,
           5,
           4,
           16,
           28,
           3,
           26,
           34,
           28,
           20,
           9,
           6,
           34,
           25,
           21,
           9,
           2,
           32,
           21,
           21,
           4,
           31,
           6,
           10,
           2,
           22,
           28,
           6,
           32,
           9,
           9,
           40,
           4,
           41,
           21,
           9,
           30,
           17,
           29,
           29,
           17,
           28,
           5,
           33,
           21,
           25,
           17,
           1,
           23,
           25,
           34,
           9,
           33,
           18,
           31,
           42,
           3,
           16,
           10,
           17,
           16,
           5,
           18,
           19,
           31,
           40,
           19,
           32,
           4,
           28,
           32,
           9,
           28,
           9,
           27,
           8,
           30,
           8,
           7,
           9,
           21,
           21,
           28,
           0,
           7,
           21,
           5,
           21,
           13,
           12,
           27,
           14,
           41,
           19,
           33,
           42,
           30,
           34,
           34,
           28,
           3,
           7,
           28,
           32,
           5,
           29,
           9,
           9,
           37,
           8,
           34,
           14,
           8,
           1,
           11,
           9,
           13,
           30,
           31,
           36,
           16,
           9,
           39,
           18,
           1,
           29,
           20,
           27,
           29,
           28,
           28,
           28,
           8,
           6,
           10,
           28,
           16,
           21,
           30,
           34,
           8,
           39,
           15,
           42,
           31,
           5,
           15,
           35,
           31,
           19,
           6,
           8,
           3,
           31,
           28,
           28,
           28,
           23,
           32,
           0,
           21,
           19,
           42,
           36,
           8,
           12,
           38,
           37,
           34,
           27,
           14,
           26,
           10,
           28,
           9,
           21,
           31,
           28,
           3,
           42,
           38,
           15,
           34,
           8,
           29,
           34,
           21,
           34,
           38,
           20,
           29,
           42,
           42,
           31,
           13,
           16,
           23,
           16,
           9,
           23,
           4,
           9,
           41,
           26,
           21,
           23,
           21,
           34,
           4,
           21,
           23,
           34,
           2,
           40,
           1,
           6,
           21,
           11,
           42,
           12,
           31,
           34,
           26,
           9,
           28,
           29,
           12,
           4,
           34,
           6,
           3,
           31,
           19,
           6,
           21,
           23,
           41,
           15,
           31,
           36,
           23,
           8,
           31,
           40,
           40,
           4,
           39,
           21,
           31,
           31,
           31,
           18,
           40,
           38,
           8,
           25,
           28,
           31,
           35,
           39,
           1,
           15,
           5,
           31,
           28,
           39,
           38,
           32,
           1,
           34,
           8,
           28,
           29,
           24,
           3,
           17,
           6,
           26,
           28,
           3,
           30,
           2,
           3,
           1,
           30,
           21,
           29,
           9,
           42,
           22,
           21,
           4,
           20,
           35,
           34,
           0,
           35,
           39,
           36,
           24,
           33,
           27,
           17,
           30,
           16,
           24,
           15,
           14,
           40,
           30,
           8,
           19,
           9,
           23,
           1,
           39,
           28,
           28,
           20,
           11,
           5,
           22,
           12,
           31,
           32,
           5,
           35,
           10,
           21,
           26,
           23,
           39,
           31,
           19,
           9,
           3,
           28,
           30,
           34,
           31,
           17,
           5,
           20,
           17,
           9,
           8,
           21,
           21,
           9,
           28,
           28,
           20,
           42,
           39,
           31,
           38,
           38,
           6,
           3,
           30,
           26,
           40,
           34,
           28,
           22,
           19,
           32,
           26,
           30,
           28,
           3,
           23,
           3,
           21,
           41,
           26,
           12,
           8,
           5,
           30,
           39,
           9,
           9,
           34,
           22,
           26,
           5,
           23,
           35,
           21,
           23,
           31,
           4,
           26,
           27,
           40,
           5,
           18,
           21,
           42,
           0,
           5,
           28,
           38,
           9,
           8,
           21,
           9,
           20,
           9,
           4,
           15,
           21,
           0,
           17,
           17,
           3,
           34,
           36,
           24,
           14,
           30,
           27,
           34,
           1,
           19,
           29,
           30,
           17,
           3,
           2,
           19,
           32,
           42,
           9,
           36,
           28,
           9,
           9,
           32,
           8,
           34,
           21,
           15,
           18,
           21,
           14,
           9,
           9,
           23,
           31,
           34,
           8,
           12,
           35,
           5,
           42,
           3,
           38,
           9,
           28,
           38,
           11,
           34,
           17,
           1,
           5,
           21,
           38,
           20,
           28,
           32,
           25,
           4,
           34,
           11,
           31,
           21,
           39,
           36,
           40,
           8,
           23,
           8,
           18,
           5,
           34,
           16,
           26,
           4,
           2,
           19,
           42,
           19,
           11,
           36,
           9,
           3,
           26,
           30,
           19,
           21,
           1,
           29,
           10,
           21,
           15,
           5,
           21,
           11,
           29,
           41,
           19,
           23,
           42,
           37,
           28,
           42,
           10,
           23,
           9,
           10,
           23,
           5,
           30,
           21,
           24,
           38,
           37,
           41,
           42,
           24,
           18,
           17,
           40,
           13,
           42,
           41,
           8,
           42,
           0,
           6,
           2,
           37,
           18,
           11,
           9,
           22,
           10,
           7,
           9,
           3,
           16,
           28,
           28,
           9,
           31,
           26,
           30,
           35,
           4,
           9,
           27,
           26,
           9,
           25,
           9,
           39,
           28,
           41,
           32,
           9,
           29,
           10,
           31,
           26,
           28,
           21,
           9,
           21,
           42,
           31,
           5,
           16,
           29,
           21,
           14,
           21,
           42,
           34
          ],
          "colorscale": [
           [
            0,
            "rgb(150,0,90)"
           ],
           [
            0.125,
            "rgb(0,0,200)"
           ],
           [
            0.25,
            "rgb(0,25,255)"
           ],
           [
            0.375,
            "rgb(0,152,255)"
           ],
           [
            0.5,
            "rgb(44,255,150)"
           ],
           [
            0.625,
            "rgb(151,255,0)"
           ],
           [
            0.75,
            "rgb(255,234,0)"
           ],
           [
            0.875,
            "rgb(255,111,0)"
           ],
           [
            1,
            "rgb(255,0,0)"
           ]
          ],
          "size": 2
         },
         "mode": "markers",
         "name": "Clustered",
         "type": "scattergl",
         "x": [
          9.760298728942871,
          10.242477416992188,
          6.747185230255127,
          9.73869800567627,
          5.320871829986572,
          6.902024269104004,
          6.021579742431641,
          8.856261253356934,
          4.542490482330322,
          10.304174423217773,
          8.214900970458984,
          9.083650588989258,
          10.189154624938965,
          8.410402297973633,
          9.46426010131836,
          8.309286117553711,
          4.151206016540527,
          9.349560737609863,
          6.403214931488037,
          5.647843837738037,
          7.243198871612549,
          9.49440860748291,
          3.4672818183898926,
          5.223675727844238,
          6.11309289932251,
          5.917203903198242,
          10.360363006591797,
          6.963009834289551,
          7.88327693939209,
          6.075063228607178,
          3.3925652503967285,
          5.91127872467041,
          4.5218000411987305,
          4.636571884155273,
          10.71480941772461,
          9.747257232666016,
          8.304939270019531,
          10.477423667907715,
          10.350208282470703,
          9.73471736907959,
          5.280506610870361,
          4.190738201141357,
          10.391878128051758,
          5.117681503295898,
          10.422991752624512,
          4.499588489532471,
          6.918128967285156,
          6.245672702789307,
          4.245870113372803,
          6.743032932281494,
          6.639882564544678,
          5.2582316398620605,
          3.892570734024048,
          6.781888484954834,
          3.8056821823120117,
          10.131443977355957,
          4.927586555480957,
          3.83876895904541,
          9.096282958984375,
          8.35599422454834,
          5.998442649841309,
          6.89918327331543,
          9.78681755065918,
          10.135721206665039,
          9.414397239685059,
          7.0462446212768555,
          6.87137508392334,
          6.603185176849365,
          6.813389301300049,
          10.298033714294434,
          6.578485488891602,
          5.713390827178955,
          10.554695129394531,
          7.036045074462891,
          6.427951812744141,
          5.854849815368652,
          5.562858581542969,
          6.181524753570557,
          9.699450492858887,
          10.33543586730957,
          10.637992858886719,
          8.349072456359863,
          8.019628524780273,
          3.7827236652374268,
          4.685702323913574,
          5.969542026519775,
          6.710442543029785,
          5.92629861831665,
          5.316236972808838,
          7.828989028930664,
          6.542082786560059,
          3.8415911197662354,
          6.594344139099121,
          4.235060214996338,
          3.8953421115875244,
          7.9765729904174805,
          2.5927538871765137,
          7.555307388305664,
          6.857960224151611,
          4.598386764526367,
          6.814049243927002,
          5.235239028930664,
          9.898026466369629,
          5.240053176879883,
          5.155713081359863,
          7.212648391723633,
          7.995545387268066,
          5.431654453277588,
          5.510525703430176,
          5.973979949951172,
          5.053642272949219,
          6.937555313110352,
          10.391975402832031,
          5.79793643951416,
          5.32009744644165,
          10.297590255737305,
          5.699863910675049,
          8.08523178100586,
          7.034233570098877,
          7.04438591003418,
          6.080589771270752,
          10.606653213500977,
          6.612185478210449,
          4.429966926574707,
          6.698425769805908,
          5.817494869232178,
          10.277779579162598,
          9.731457710266113,
          4.012179374694824,
          5.489424228668213,
          7.179359436035156,
          6.715795993804932,
          5.896829128265381,
          6.767373561859131,
          5.818477153778076,
          10.689908027648926,
          3.400010824203491,
          8.091803550720215,
          4.389063835144043,
          2.5347511768341064,
          7.00656270980835,
          5.962316989898682,
          5.0763444900512695,
          6.143971920013428,
          4.131927490234375,
          6.096353530883789,
          4.1214399337768555,
          5.975850582122803,
          10.144668579101562,
          5.2195658683776855,
          11.002756118774414,
          10.289887428283691,
          5.877495288848877,
          3.90854549407959,
          7.957526683807373,
          8.113480567932129,
          4.720606327056885,
          9.867022514343262,
          8.648883819580078,
          5.354007720947266,
          10.159381866455078,
          9.433799743652344,
          10.56564998626709,
          10.37309455871582,
          8.085759162902832,
          5.328367233276367,
          9.558621406555176,
          6.418755054473877,
          10.500377655029297,
          6.894871711730957,
          4.1593241691589355,
          7.972761154174805,
          8.031840324401855,
          6.048250675201416,
          7.905375003814697,
          6.265384197235107,
          7.119234085083008,
          6.586841583251953,
          4.380080699920654,
          5.581396579742432,
          8.456194877624512,
          5.333372592926025,
          4.421630382537842,
          6.976971626281738,
          3.534592866897583,
          9.86754035949707,
          6.730546951293945,
          5.4803996086120605,
          10.190018653869629,
          10.002721786499023,
          9.326870918273926,
          5.386445999145508,
          9.764931678771973,
          7.770383834838867,
          5.667598724365234,
          5.2000627517700195,
          4.167022705078125,
          6.03532600402832,
          6.3542633056640625,
          7.911942481994629,
          7.073151111602783,
          8.00015926361084,
          3.9223875999450684,
          5.795767307281494,
          5.622613430023193,
          6.901869773864746,
          8.253765106201172,
          6.011463642120361,
          2.5290467739105225,
          6.1850175857543945,
          5.9916534423828125,
          4.417412757873535,
          5.020869731903076,
          6.850192070007324,
          3.3997082710266113,
          6.939358711242676,
          8.24894905090332,
          7.264997482299805,
          5.592038631439209,
          2.5147199630737305,
          9.4380464553833,
          4.070731163024902,
          5.866759777069092,
          6.7419939041137695,
          9.554667472839355,
          6.98604679107666,
          5.21231746673584,
          7.903893947601318,
          9.561184883117676,
          10.97233772277832,
          5.513235092163086,
          6.443102836608887,
          9.965106964111328,
          6.844345569610596,
          6.6896138191223145,
          5.650250434875488,
          5.439541816711426,
          3.9199585914611816,
          9.438655853271484,
          4.956583499908447,
          5.006698131561279,
          3.9316022396087646,
          9.414400100708008,
          3.830974578857422,
          3.6490345001220703,
          3.4185080528259277,
          8.771581649780273,
          7.136049270629883,
          10.405071258544922,
          5.758497714996338,
          7.153285503387451,
          5.4298295974731445,
          8.365121841430664,
          8.239136695861816,
          8.0418701171875,
          6.612267971038818,
          4.13066291809082,
          7.302027225494385,
          4.489325046539307,
          10.2561674118042,
          5.994265556335449,
          6.677563190460205,
          5.643653869628906,
          8.145637512207031,
          5.664102077484131,
          9.801772117614746,
          5.539894104003906,
          9.43200969696045,
          8.310399055480957,
          9.126444816589355,
          5.34664249420166,
          6.0327277183532715,
          6.5333051681518555,
          5.934327602386475,
          6.3678131103515625,
          6.557469367980957,
          6.8997907638549805,
          7.0436906814575195,
          9.33984375,
          6.0701212882995605,
          6.0726847648620605,
          6.367565631866455,
          10.345059394836426,
          10.332054138183594,
          5.897356986999512,
          6.698960781097412,
          7.701340675354004,
          9.886303901672363,
          5.714654922485352,
          6.871354103088379,
          8.490514755249023,
          6.5723137855529785,
          4.399033546447754,
          6.731319427490234,
          4.903799533843994,
          3.9845049381256104,
          5.2307538986206055,
          6.158353328704834,
          10.506507873535156,
          9.642252922058105,
          8.360529899597168,
          4.501413822174072,
          9.838942527770996,
          4.495924472808838,
          5.926907062530518,
          8.846963882446289,
          4.082029819488525,
          5.289602279663086,
          2.509314775466919,
          10.389320373535156,
          3.9467172622680664,
          5.087899208068848,
          10.453916549682617,
          8.190841674804688,
          8.168496131896973,
          10.380938529968262,
          5.509231090545654,
          10.572226524353027,
          6.968163967132568,
          4.12713623046875,
          6.729229927062988,
          7.762646198272705,
          9.915119171142578,
          4.121086120605469,
          8.2482328414917,
          3.672146797180176,
          9.962626457214355,
          4.614755153656006,
          9.922476768493652,
          8.704262733459473,
          10.453041076660156,
          5.935345649719238,
          6.0942606925964355,
          10.251718521118164,
          7.244945049285889,
          10.4227876663208,
          8.8026123046875,
          6.67236328125,
          3.9613850116729736,
          9.011693954467773,
          10.22669506072998,
          5.719588756561279,
          10.244222640991211,
          4.459024429321289,
          5.999743938446045,
          10.375706672668457,
          9.822616577148438,
          6.045845031738281,
          7.9424614906311035,
          7.1574201583862305,
          8.143228530883789,
          10.03210735321045,
          6.708122253417969,
          7.042102336883545,
          6.718416213989258,
          5.49587869644165,
          6.65838098526001,
          8.108622550964355,
          8.14095401763916,
          3.3877756595611572,
          6.28432559967041,
          10.341692924499512,
          5.260404586791992,
          6.144311428070068,
          11.036933898925781,
          4.591859340667725,
          5.117548942565918,
          7.177075386047363,
          5.894035339355469,
          8.080902099609375,
          10.284286499023438,
          5.6264238357543945,
          5.290811061859131,
          10.498787879943848,
          8.193257331848145,
          4.028896808624268,
          6.821239948272705,
          5.992359638214111,
          9.934475898742676,
          6.752242088317871,
          5.761843204498291,
          10.454801559448242,
          5.325395107269287,
          5.116598606109619,
          5.929594039916992,
          10.185580253601074,
          4.570310592651367,
          4.545866966247559,
          4.548492431640625,
          3.764533281326294,
          6.0055108070373535,
          10.312763214111328,
          3.7736775875091553,
          8.085282325744629,
          7.150477409362793,
          9.61717414855957,
          5.973348140716553,
          5.764184474945068,
          3.9872207641601562,
          5.815403938293457,
          7.564345836639404,
          4.103155136108398,
          10.29052448272705,
          4.097012519836426,
          9.589908599853516,
          4.291147708892822,
          8.127470016479492,
          9.324580192565918,
          4.088738441467285,
          6.230634689331055,
          5.750360012054443,
          5.876961708068848,
          5.539597034454346,
          10.09535026550293,
          10.385261535644531,
          8.360897064208984,
          9.767021179199219,
          4.10216760635376,
          5.030423641204834,
          5.4239301681518555,
          7.069765090942383,
          10.576255798339844,
          3.962191343307495,
          10.344524383544922,
          7.98512601852417,
          6.022034645080566,
          6.21548318862915,
          5.706967830657959,
          5.203629970550537,
          10.389307022094727,
          6.855530738830566,
          6.1768479347229,
          5.510162830352783,
          9.604104042053223,
          10.250433921813965,
          10.361915588378906,
          5.500838279724121,
          9.662420272827148,
          10.066633224487305,
          6.854127883911133,
          4.962357997894287,
          6.08922004699707,
          6.541735649108887,
          7.208032131195068,
          9.887500762939453,
          6.176682472229004,
          6.163392543792725,
          9.585360527038574,
          5.871118068695068,
          5.205691814422607,
          4.534632682800293,
          10.316533088684082,
          3.3805716037750244,
          10.409701347351074,
          8.229001998901367,
          5.34818172454834,
          6.221218109130859,
          5.969749927520752,
          10.683616638183594,
          9.764130592346191,
          10.518543243408203,
          4.812249660491943,
          5.84459114074707,
          5.079441070556641,
          5.26505708694458,
          7.166682720184326,
          5.139103412628174,
          9.90009880065918,
          6.712881088256836,
          10.062572479248047,
          5.214895248413086,
          5.7731146812438965,
          7.231360912322998,
          10.25032901763916,
          6.802820682525635,
          4.16762638092041,
          5.424200057983398,
          5.120461940765381,
          3.9502384662628174,
          3.3954038619995117,
          10.588092803955078,
          5.831808090209961,
          9.318557739257812,
          3.9038338661193848,
          9.842100143432617,
          4.643749237060547,
          9.61237907409668,
          8.18430233001709,
          5.552555084228516,
          8.22520637512207,
          9.44952392578125,
          6.3570051193237305,
          10.55713939666748,
          9.57629680633545,
          6.731471538543701,
          10.26344108581543,
          3.3542463779449463,
          8.296751976013184,
          10.83849048614502,
          10.245991706848145,
          9.661202430725098,
          6.2951250076293945,
          4.023663520812988,
          10.644758224487305,
          9.746663093566895,
          5.701527118682861,
          6.708565711975098,
          6.663726806640625,
          4.999536991119385,
          5.854063987731934,
          6.0411376953125,
          9.665431022644043,
          5.759089946746826,
          4.0819268226623535,
          4.170777797698975,
          6.80155086517334,
          5.2454705238342285,
          9.692508697509766,
          3.9560155868530273,
          4.99222469329834,
          6.483897686004639,
          7.0708088874816895,
          4.646265983581543,
          9.639717102050781,
          6.850252151489258,
          5.703715801239014,
          7.335933208465576,
          7.658590316772461,
          5.333711624145508,
          8.382597923278809,
          8.296350479125977,
          6.273523330688477,
          10.035799026489258,
          10.356029510498047,
          8.166293144226074,
          5.544625759124756,
          9.74995231628418,
          5.870201587677002,
          9.324645042419434,
          8.043747901916504,
          9.843437194824219,
          10.598498344421387,
          6.5706706047058105,
          8.145700454711914,
          5.3357977867126465,
          5.840065956115723,
          7.918895721435547,
          3.4309499263763428,
          6.668728828430176,
          4.134422779083252,
          5.419067859649658,
          6.888454914093018,
          10.361988067626953,
          5.258848667144775,
          5.707522392272949,
          5.949667453765869,
          4.439154624938965,
          5.707851886749268,
          5.069451332092285,
          9.63779354095459,
          10.397507667541504,
          5.09782075881958,
          6.316258907318115,
          10.552868843078613,
          7.165614604949951,
          4.00661563873291,
          6.079964637756348,
          7.983654499053955,
          6.089158058166504,
          5.15927791595459,
          6.787224292755127,
          5.533618927001953,
          5.5176472663879395,
          10.015183448791504,
          2.533968448638916,
          5.46750020980835,
          5.72422456741333,
          10.336408615112305,
          5.54813289642334,
          5.113929748535156,
          8.709482192993164,
          4.064036846160889,
          4.58035945892334,
          6.988535404205322,
          5.651176929473877,
          8.179762840270996,
          7.354844093322754,
          7.761292934417725,
          10.545198440551758,
          10.674227714538574,
          10.11634349822998,
          3.8670549392700195,
          5.188599109649658,
          10.318603515625,
          5.18131685256958,
          10.579676628112793,
          8.04869270324707,
          6.651016712188721,
          6.9463887214660645,
          4.532875061035156,
          6.1141581535339355,
          10.378560066223145,
          4.459444046020508,
          5.98980712890625,
          9.43183422088623,
          3.8171157836914062,
          6.862182140350342,
          5.133908271789551,
          8.143941879272461,
          5.674200057983398,
          5.029460906982422,
          6.772645473480225,
          6.670199394226074,
          4.494958400726318,
          5.3589091300964355,
          9.223801612854004,
          8.422517776489258,
          9.715978622436523,
          4.178073406219482,
          8.261114120483398,
          10.055788040161133,
          10.299173355102539,
          10.206938743591309,
          5.8298492431640625,
          4.0295586585998535,
          4.14042854309082,
          10.491157531738281,
          6.753698348999023,
          5.782389163970947,
          8.1080322265625,
          10.230053901672363,
          6.07304048538208,
          4.667429447174072,
          4.479472637176514,
          7.9649248123168945,
          5.652257919311523,
          10.299670219421387,
          4.543310642242432,
          11.084359169006348,
          5.499664306640625,
          5.750571250915527,
          4.123725891113281,
          6.464397430419922,
          3.817580461502075,
          5.589266777038574,
          9.607293128967285,
          10.411893844604492,
          10.3270902633667,
          8.053661346435547,
          5.110902309417725,
          2.5210742950439453,
          5.426075458526611,
          6.006754398345947,
          7.079410552978516,
          5.361976146697998,
          6.092138290405273,
          8.99643611907959,
          4.010824680328369,
          4.637093544006348,
          10.248213768005371,
          4.02803897857666,
          4.396139621734619,
          8.269391059875488,
          4.228026390075684,
          10.391802787780762,
          7.013921737670898,
          6.088126182556152,
          5.8643388748168945,
          10.207879066467285,
          3.386282444000244,
          7.3371710777282715,
          4.063937187194824,
          4.5482707023620605,
          10.451040267944336,
          6.090623378753662,
          8.296497344970703,
          10.451533317565918,
          5.845238208770752,
          10.607428550720215,
          4.339066028594971,
          9.58692455291748,
          8.365570068359375,
          6.95875883102417,
          8.122547149658203,
          5.7704949378967285,
          5.099456310272217,
          6.701602935791016,
          7.659690856933594,
          6.658914089202881,
          6.435384273529053,
          7.645431041717529,
          9.686915397644043,
          7.270080089569092,
          6.997572422027588,
          8.144657135009766,
          6.039700031280518,
          7.568450450897217,
          6.096879482269287,
          10.464360237121582,
          9.601670265197754,
          5.914135932922363,
          7.639474868774414,
          10.580167770385742,
          6.759538173675537,
          4.684373378753662,
          9.095229148864746,
          3.884119749069214,
          5.750339508056641,
          3.8626186847686768,
          6.965165138244629,
          8.796797752380371,
          5.862582683563232,
          10.288657188415527,
          8.470505714416504,
          7.049986362457275,
          10.148885726928711,
          8.286977767944336,
          8.885614395141602,
          9.763811111450195,
          10.81075382232666,
          3.8821771144866943,
          3.3952364921569824,
          5.927253723144531,
          5.822711944580078,
          4.010715007781982,
          5.6987714767456055,
          7.955850124359131,
          6.862167835235596,
          4.595724582672119,
          5.894556999206543,
          5.326751232147217,
          7.801480293273926,
          6.037622451782227,
          6.068256855010986,
          4.620527744293213,
          4.454470157623291,
          9.577997207641602,
          4.473954200744629,
          5.953606605529785,
          6.145015716552734,
          5.909386157989502,
          5.899893283843994,
          5.375967979431152,
          4.361069202423096,
          4.29069709777832,
          6.715013027191162,
          9.582093238830566,
          10.079370498657227,
          5.67752742767334,
          11.012707710266113,
          4.776674270629883,
          9.454463958740234,
          4.396160125732422,
          10.6404447555542,
          5.82607889175415,
          10.3150053024292,
          4.5063652992248535,
          4.203819274902344,
          4.801209449768066,
          9.449493408203125,
          10.57833480834961,
          6.093985080718994,
          10.50094223022461,
          8.049460411071777,
          9.532489776611328,
          3.7853708267211914,
          5.349063396453857,
          4.029867649078369,
          8.494636535644531,
          10.110965728759766,
          3.448286294937134,
          7.8579182624816895,
          6.973124980926514,
          3.3704631328582764,
          9.43293571472168,
          7.9392991065979,
          5.710284233093262,
          8.045928955078125,
          7.046360015869141,
          7.364498615264893,
          5.139124870300293,
          5.518249034881592,
          9.790111541748047,
          9.784235954284668,
          11.123665809631348,
          10.276803016662598,
          2.939326047897339,
          11.090425491333008,
          4.67844820022583,
          5.127222537994385,
          9.32557201385498,
          8.201683044433594,
          4.045273780822754,
          5.408899307250977,
          8.121687889099121,
          6.6295623779296875,
          9.251855850219727,
          4.665063381195068,
          4.583739280700684,
          4.494393825531006,
          8.144525527954102,
          6.04092264175415,
          5.694609642028809,
          6.308846473693848,
          7.83729887008667,
          9.455328941345215,
          4.448089122772217,
          10.140185356140137,
          10.274073600769043,
          9.73851203918457,
          3.923572063446045,
          10.092626571655273,
          5.14101505279541,
          8.89684009552002,
          5.896603584289551,
          5.16582727432251,
          10.293668746948242,
          11.148066520690918,
          4.221093654632568,
          5.649892807006836,
          8.672497749328613,
          7.755819797515869,
          4.46383810043335,
          5.569405555725098,
          5.881737232208252,
          6.7067365646362305,
          3.3778703212738037,
          10.18044662475586,
          7.755918979644775,
          10.275148391723633,
          5.739748001098633,
          6.106308460235596,
          10.476838111877441,
          9.808398246765137,
          5.69096565246582,
          7.211056709289551,
          6.010951995849609,
          5.9246416091918945,
          6.1668853759765625,
          6.762833595275879,
          9.847471237182617,
          10.191953659057617,
          9.63589859008789,
          7.079458713531494,
          4.63012170791626,
          5.488133907318115,
          3.9713470935821533,
          4.2233381271362305,
          4.013646125793457,
          3.8623290061950684,
          8.046338081359863,
          8.323097229003906,
          4.347946643829346,
          10.581196784973145,
          10.027503967285156,
          5.25430965423584,
          5.848220348358154,
          5.1087751388549805,
          8.330297470092773,
          8.221652030944824,
          10.069576263427734,
          3.458672046661377,
          7.594839096069336,
          3.3468680381774902,
          5.8879075050354,
          6.8754191398620605,
          8.469298362731934,
          8.885820388793945,
          6.074851989746094,
          10.313700675964355,
          7.611614227294922,
          4.653504371643066,
          6.601540565490723,
          7.277516841888428,
          10.41372299194336,
          5.240894317626953,
          8.491118431091309,
          10.534114837646484,
          8.169025421142578,
          10.950523376464844,
          5.884626388549805,
          7.729363918304443,
          5.8313398361206055,
          9.662638664245605,
          8.125103950500488,
          3.9377081394195557,
          4.616906642913818,
          10.187888145446777,
          5.354081630706787,
          5.567330360412598,
          7.144789218902588,
          2.5125322341918945,
          10.447660446166992,
          9.692828178405762,
          4.1764421463012695,
          6.729528427124023,
          6.076817989349365,
          5.584691047668457,
          6.34323787689209,
          9.6722412109375,
          6.613616466522217,
          9.56413745880127,
          4.579705715179443,
          5.598458766937256,
          2.503657341003418,
          5.454655170440674,
          5.7212958335876465,
          3.469005584716797,
          10.596892356872559,
          5.128551959991455,
          9.374064445495605,
          4.501181125640869,
          7.993020534515381,
          3.936856508255005,
          10.456035614013672,
          9.379024505615234,
          5.996295928955078,
          8.223282814025879,
          7.952556610107422,
          5.832122802734375,
          3.8498618602752686,
          6.709371566772461,
          5.7071661949157715,
          4.9837117195129395,
          6.920777320861816,
          7.238525390625,
          5.313411712646484,
          10.42052936553955,
          6.780508995056152,
          7.013499736785889,
          4.952970504760742,
          6.453658580780029,
          10.59368896484375,
          5.8630499839782715,
          4.476702690124512,
          5.324954509735107,
          5.650526523590088,
          4.367929935455322,
          6.4766082763671875,
          7.007936477661133,
          7.615934371948242,
          5.432683944702148,
          10.464943885803223,
          5.993006706237793,
          8.714264869689941,
          11.144641876220703,
          10.2572660446167,
          7.148251056671143,
          3.4290823936462402,
          4.308846950531006,
          6.659687042236328,
          10.017709732055664,
          4.187595844268799,
          3.8157122135162354,
          10.394121170043945,
          5.471553802490234,
          9.36904239654541,
          10.429308891296387,
          5.47669792175293,
          4.146531581878662,
          9.747002601623535,
          10.454879760742188,
          5.011105060577393,
          9.703908920288086,
          9.880844116210938,
          10.675895690917969,
          3.822183609008789,
          5.89561128616333,
          5.842081069946289,
          4.48402214050293,
          5.191911220550537,
          4.6112895011901855,
          6.149613857269287,
          8.127069473266602,
          5.97228479385376,
          5.381046772003174,
          10.50368881225586,
          10.386394500732422,
          6.666800498962402,
          8.256088256835938,
          9.600159645080566,
          6.699241638183594,
          5.850967884063721,
          6.8759446144104,
          5.86200475692749,
          3.7011427879333496,
          5.348667621612549,
          6.697288990020752,
          3.7997446060180664,
          8.41810131072998,
          8.173718452453613,
          5.6087799072265625,
          5.761919021606445,
          9.432381629943848,
          8.183961868286133,
          4.231180667877197,
          5.6268534660339355,
          4.520864486694336,
          10.19647216796875,
          5.689395904541016,
          3.9511144161224365,
          8.162612915039062,
          7.005782127380371,
          5.9524641036987305,
          7.8017377853393555,
          7.575257778167725,
          4.49259090423584,
          10.149603843688965,
          6.773679256439209,
          4.0890116691589355,
          7.538198471069336,
          7.278655529022217,
          4.137653827667236,
          7.932500839233398,
          10.51140308380127,
          7.9096832275390625,
          5.7614827156066895,
          9.267073631286621,
          4.104948997497559,
          4.5629167556762695,
          6.834114074707031,
          6.976267337799072,
          9.239145278930664,
          5.383005142211914,
          5.984238147735596,
          4.626051902770996,
          5.1210784912109375,
          8.056859016418457,
          7.14478063583374,
          6.348877906799316,
          8.164180755615234,
          2.520700216293335,
          4.081989288330078,
          6.752523899078369,
          4.486609935760498,
          5.357906818389893,
          3.8271400928497314,
          6.799330711364746,
          5.414342880249023,
          4.260153293609619,
          5.344473361968994,
          6.677178859710693,
          3.432584047317505,
          6.69684362411499,
          9.987726211547852,
          9.6680269241333,
          6.88274621963501,
          5.7252583503723145,
          8.284603118896484,
          8.191027641296387,
          11.095059394836426,
          9.830206871032715,
          6.629846572875977,
          4.045685291290283,
          8.289802551269531,
          6.557042598724365,
          10.006882667541504,
          7.00115442276001,
          4.839210033416748,
          10.351414680480957,
          6.883641242980957,
          5.086977958679199,
          6.80645227432251,
          8.174628257751465,
          4.259181976318359,
          5.840799331665039,
          8.292760848999023,
          10.492047309875488,
          6.008566379547119,
          7.268840312957764,
          5.526711463928223,
          7.5842204093933105,
          5.561999320983887,
          10.372079849243164,
          6.73830509185791,
          8.20327377319336,
          5.747023582458496,
          4.4361419677734375,
          5.920726776123047,
          7.369557857513428,
          10.557494163513184
         ],
         "xaxis": "x",
         "y": [
          1.579257845878601,
          4.625543594360352,
          2.4273123741149902,
          4.466583728790283,
          7.046812534332275,
          1.6912708282470703,
          3.0325005054473877,
          4.547638416290283,
          5.138516902923584,
          0.7791110277175903,
          2.5826334953308105,
          5.411801815032959,
          0.7090978622436523,
          5.172480583190918,
          5.230696678161621,
          3.5716941356658936,
          0.34907105565071106,
          5.171059608459473,
          0.17269714176654816,
          4.2461419105529785,
          1.9532581567764282,
          5.271682262420654,
          3.790403127670288,
          2.7791526317596436,
          4.376054763793945,
          6.442897796630859,
          4.235910892486572,
          2.4242782592773438,
          4.406065940856934,
          0.8935231566429138,
          3.3557589054107666,
          3.4818220138549805,
          3.5953075885772705,
          4.906508445739746,
          1.728643536567688,
          1.053727388381958,
          3.559962749481201,
          2.153174638748169,
          0.5529399514198303,
          0.703709065914154,
          6.496772289276123,
          0.3180506229400635,
          2.02463436126709,
          1.1167981624603271,
          0.6640177965164185,
          3.1570568084716797,
          3.1964879035949707,
          1.0117664337158203,
          0.34383344650268555,
          1.8615224361419678,
          1.7587236166000366,
          2.7831368446350098,
          4.214898109436035,
          3.2261128425598145,
          0.5562108159065247,
          1.0247050523757935,
          1.9512498378753662,
          2.55035138130188,
          5.408204555511475,
          5.145007133483887,
          3.167771816253662,
          3.0700020790100098,
          0.7272948622703552,
          0.7955406904220581,
          5.234419345855713,
          0.1333010494709015,
          -0.1100672036409378,
          3.9157087802886963,
          -0.32749611139297485,
          0.5757012963294983,
          4.002726078033447,
          5.4021501541137695,
          1.2261455059051514,
          0.11186685413122177,
          3.8884685039520264,
          2.8993711471557617,
          6.128953456878662,
          4.381058216094971,
          0.8091453909873962,
          4.260462284088135,
          4.419349670410156,
          3.0072295665740967,
          1.993064045906067,
          0.6704776883125305,
          5.08866548538208,
          5.090126991271973,
          0.41424867510795593,
          2.960258960723877,
          7.032837867736816,
          4.4341912269592285,
          0.000007433347036567284,
          1.032761573791504,
          1.2593410015106201,
          0.27181607484817505,
          3.1376380920410156,
          4.689602375030518,
          2.0994226932525635,
          1.2446794509887695,
          0.12585647404193878,
          4.995245456695557,
          -0.21786828339099884,
          6.680148124694824,
          0.7812201380729675,
          6.703369617462158,
          6.6310200691223145,
          0.5369579195976257,
          4.566944599151611,
          2.149876117706299,
          1.237115740776062,
          0.7785701155662537,
          2.8907365798950195,
          0.18347667157649994,
          4.8109307289123535,
          3.415693998336792,
          1.967082142829895,
          4.914702415466309,
          6.374443531036377,
          1.4665894508361816,
          -0.011698910966515541,
          0.3940277397632599,
          6.699747085571289,
          4.4688873291015625,
          0.14866162836551666,
          2.0574615001678467,
          4.256171703338623,
          5.438910007476807,
          1.9187878370285034,
          4.420196056365967,
          0.6293911933898926,
          4.312305927276611,
          0.5877859592437744,
          0.4064461588859558,
          5.2511701583862305,
          -0.03627381473779678,
          5.215825080871582,
          1.6461703777313232,
          3.826850414276123,
          3.528773307800293,
          5.072473049163818,
          2.073809862136841,
          3.941312074661255,
          5.194738864898682,
          4.581958293914795,
          4.596064567565918,
          0.33395200967788696,
          4.453643798828125,
          2.5042598247528076,
          0.8397895693778992,
          0.8817490935325623,
          1.2573580741882324,
          1.5709868669509888,
          0.8736404180526733,
          5.091239929199219,
          0.6901324391365051,
          1.3027093410491943,
          2.058985471725464,
          3.9391117095947266,
          0.6838940382003784,
          4.3227643966674805,
          7.165807723999023,
          0.6839736700057983,
          5.275900363922119,
          2.0573511123657227,
          4.619055271148682,
          2.0266478061676025,
          1.1678645610809326,
          2.127500057220459,
          0.5191361904144287,
          4.533568382263184,
          -0.2909465432167053,
          0.38601812720298767,
          4.3926568031311035,
          1.432157278060913,
          1.1660196781158447,
          4.387487411499023,
          0.9556460380554199,
          1.4824259281158447,
          0.1482679396867752,
          2.257415771484375,
          2.9987432956695557,
          3.6364266872406006,
          6.573877811431885,
          4.491953372955322,
          0.11465442180633545,
          3.40693736076355,
          2.312659740447998,
          -0.15054385364055634,
          1.1149468421936035,
          0.7968000173568726,
          0.6220970749855042,
          3.194997549057007,
          3.3579905033111572,
          1.031835675239563,
          4.12181282043457,
          6.531248092651367,
          6.64328670501709,
          1.1680456399917603,
          6.631664752960205,
          -0.08907296508550644,
          4.793726921081543,
          -0.10620830953121185,
          1.206528663635254,
          1.0246093273162842,
          5.728943824768066,
          3.3446857929229736,
          0.34831294417381287,
          5.220951080322266,
          4.227263927459717,
          2.0458836555480957,
          -0.029332909733057022,
          1.4341447353363037,
          3.7264037132263184,
          1.7601412534713745,
          -0.2508036196231842,
          3.7994399070739746,
          2.2895126342773438,
          2.7936911582946777,
          0.03728842735290527,
          6.241432189941406,
          2.0758872032165527,
          3.3584494590759277,
          0.43067264556884766,
          5.262475967407227,
          -0.270473837852478,
          2.068105936050415,
          3.0783987045288086,
          6.70128870010376,
          4.588383197784424,
          2.069089412689209,
          1.5550484657287598,
          6.051018238067627,
          4.002810955047607,
          0.7906458973884583,
          -0.21293732523918152,
          -0.07526709884405136,
          4.357693672180176,
          6.8734331130981445,
          3.1366097927093506,
          5.235575199127197,
          4.429689884185791,
          2.7931854724884033,
          3.172966480255127,
          5.239058494567871,
          0.5452112555503845,
          3.9483726024627686,
          3.728926181793213,
          4.250870704650879,
          2.345792055130005,
          4.341729164123535,
          6.389436721801758,
          2.550816535949707,
          4.275448799133301,
          2.9719700813293457,
          2.934227466583252,
          4.886078834533691,
          0.3635898530483246,
          2.693079948425293,
          -0.009328391402959824,
          5.1496100425720215,
          4.613022804260254,
          2.9952244758605957,
          3.7620465755462646,
          6.122006416320801,
          4.362528324127197,
          5.692960262298584,
          0.9974636435508728,
          6.274448871612549,
          5.259670257568359,
          3.5062060356140137,
          5.429476737976074,
          2.001005172729492,
          5.062919616699219,
          0.827080488204956,
          3.354341506958008,
          -0.10663185268640518,
          0.48029738664627075,
          1.8951349258422852,
          0.16701799631118774,
          2.9045474529266357,
          6.5750627517700195,
          3.1310300827026367,
          -0.10991436243057251,
          4.845057010650635,
          2.0729079246520996,
          3.369137763977051,
          -0.012513703666627407,
          2.1075592041015625,
          4.35747766494751,
          6.035355567932129,
          1.6806915998458862,
          3.7072925567626953,
          3.7412350177764893,
          4.539601802825928,
          0.029341597110033035,
          4.415409088134766,
          1.0004549026489258,
          1.2641159296035767,
          4.507004737854004,
          2.0336427688598633,
          2.0515425205230713,
          2.9796407222747803,
          3.0475006103515625,
          2.3299407958984375,
          3.033416748046875,
          5.214127540588379,
          4.46041202545166,
          3.2028160095214844,
          2.9734957218170166,
          2.064640522003174,
          4.84237813949585,
          1.135137677192688,
          1.234462857246399,
          0.5013158917427063,
          5.095790863037109,
          1.9489872455596924,
          4.788906574249268,
          4.259763717651367,
          2.0287187099456787,
          1.829609990119934,
          1.2461609840393066,
          3.140705108642578,
          1.4868603944778442,
          4.355562686920166,
          0.5657736659049988,
          5.080168724060059,
          3.98163104057312,
          0.9450804591178894,
          2.215873956680298,
          0.9851189851760864,
          4.60524320602417,
          0.8435274362564087,
          3.1403069496154785,
          6.613808631896973,
          1.2193822860717773,
          0.7765726447105408,
          0.42415377497673035,
          4.479313850402832,
          1.2421156167984009,
          1.0164885520935059,
          4.36838436126709,
          4.353579044342041,
          6.270486831665039,
          4.739380836486816,
          2.0976109504699707,
          4.275554656982422,
          2.0664095878601074,
          2.1749258041381836,
          4.1263628005981445,
          1.2862880229949951,
          2.135150909423828,
          4.3219122886657715,
          0.511569619178772,
          -0.2024378776550293,
          -0.25859320163726807,
          -0.2683771252632141,
          3.169745445251465,
          3.130810499191284,
          1.416276454925537,
          3.5976853370666504,
          3.735043525695801,
          1.228779673576355,
          2.0683557987213135,
          1.88643217086792,
          4.212907791137695,
          1.540554165840149,
          3.7715468406677246,
          4.526637554168701,
          -0.08851471543312073,
          2.868683338165283,
          3.643710136413574,
          1.3849401473999023,
          3.5979816913604736,
          7.17132568359375,
          1.9844993352890015,
          4.3507184982299805,
          1.198074221611023,
          1.6621226072311401,
          0.794721782207489,
          2.0951428413391113,
          -0.2624962031841278,
          3.271615505218506,
          4.456915378570557,
          7.138184547424316,
          1.8546124696731567,
          3.1902074813842773,
          0.7821608185768127,
          5.086294174194336,
          2.133683919906616,
          2.162346363067627,
          0.6074598431587219,
          1.0778659582138062,
          0.6187731027603149,
          2.5570638179779053,
          2.142653226852417,
          2.320791482925415,
          3.3577420711517334,
          3.2231531143188477,
          6.4921650886535645,
          1.013913869857788,
          3.4365861415863037,
          1.383070468902588,
          3.2438266277313232,
          1.210053563117981,
          0.3600345849990845,
          4.300527095794678,
          2.5103540420532227,
          1.5780816078186035,
          5.182332515716553,
          1.135541319847107,
          0.9788908362388611,
          3.4344563484191895,
          5.080245494842529,
          6.319401264190674,
          0.5656788349151611,
          0.8394771814346313,
          3.416562557220459,
          4.475376129150391,
          0.4003428816795349,
          2.8017921447753906,
          7.089454174041748,
          2.433759927749634,
          1.6144088506698608,
          1.0591853857040405,
          0.7050660252571106,
          4.63696813583374,
          2.820875883102417,
          1.0026569366455078,
          6.63191032409668,
          1.8243404626846313,
          4.5755510330200195,
          -0.0646548718214035,
          0.7008754014968872,
          3.145972490310669,
          4.341617107391357,
          1.122965931892395,
          4.2590107917785645,
          6.959092140197754,
          1.6065512895584106,
          0.5322898626327515,
          -0.11755599826574326,
          4.500372886657715,
          0.866618812084198,
          0.54914790391922,
          0.3107326328754425,
          1.0209296941757202,
          1.1869450807571411,
          0.8161792159080505,
          3.420750379562378,
          6.423275470733643,
          1.7882369756698608,
          4.573892593383789,
          1.9361389875411987,
          3.7698137760162354,
          4.835548400878906,
          2.758946657180786,
          4.230400085449219,
          0.9465993046760559,
          3.4040966033935547,
          1.9150758981704712,
          1.651214838027954,
          1.7383995056152344,
          3.336779832839966,
          6.560609817504883,
          1.928996205329895,
          2.0084333419799805,
          2.3964080810546875,
          4.557195663452148,
          0.6940115690231323,
          3.1065192222595215,
          0.8232097029685974,
          1.1607259511947632,
          5.5777974128723145,
          -0.24256464838981628,
          4.4402923583984375,
          -0.2772035598754883,
          0.4051286280155182,
          4.303887844085693,
          4.482359409332275,
          3.176997661590576,
          3.6616976261138916,
          1.6234827041625977,
          5.130651950836182,
          5.162490367889404,
          3.094727039337158,
          0.7898759245872498,
          4.885672092437744,
          0.9528627395629883,
          2.9969191551208496,
          3.404029607772827,
          4.3389081954956055,
          5.201239585876465,
          0.7888464331626892,
          4.3965911865234375,
          4.211973190307617,
          3.8715975284576416,
          0.5708754658699036,
          3.528381586074829,
          3.537646532058716,
          1.5659347772598267,
          0.6689368486404419,
          1.5999265909194946,
          -0.057984523475170135,
          1.1785885095596313,
          1.8530373573303223,
          2.1654322147369385,
          6.368656635284424,
          -0.29863324761390686,
          3.299884796142578,
          2.683375358581543,
          6.448464393615723,
          6.545534133911133,
          4.207129001617432,
          3.3092103004455566,
          1.2260212898254395,
          0.5222582221031189,
          3.2275068759918213,
          6.683506488800049,
          0.9162488579750061,
          1.1390445232391357,
          2.6104660034179688,
          0.5561671257019043,
          -0.25003451108932495,
          3.957263469696045,
          4.303144454956055,
          1.7260468006134033,
          6.489164352416992,
          0.039761558175086975,
          3.9461681842803955,
          4.257352352142334,
          5.115262985229492,
          5.0490875244140625,
          4.671176433563232,
          1.062801480293274,
          4.233254432678223,
          3.0828440189361572,
          5.920907497406006,
          2.346513509750366,
          4.240402698516846,
          5.145423412322998,
          1.3975553512573242,
          2.265671730041504,
          2.088535785675049,
          0.07882736623287201,
          2.9436070919036865,
          7.249090194702148,
          2.9181203842163086,
          2.051312208175659,
          3.6005589962005615,
          3.876042127609253,
          0.47236746549606323,
          4.281083583831787,
          4.055629253387451,
          4.697766304016113,
          7.034738063812256,
          5.607779026031494,
          2.9698290824890137,
          3.751314878463745,
          5.7024922370910645,
          2.60451078414917,
          4.323221206665039,
          0.5710769295692444,
          2.6329798698425293,
          0.00838678888976574,
          0.5105762481689453,
          0.5174826383590698,
          3.087874412536621,
          0.9311355352401733,
          4.669215202331543,
          1.3461456298828125,
          1.2418349981307983,
          -0.216605082154274,
          5.995978832244873,
          6.050070285797119,
          0.6507235765457153,
          2.046689748764038,
          1.2148423194885254,
          6.558650970458984,
          4.21438455581665,
          6.0849504470825195,
          4.58884334564209,
          4.457501411437988,
          3.268371105194092,
          4.634690284729004,
          1.8983359336853027,
          5.72126579284668,
          2.81550669670105,
          2.075124740600586,
          4.1012701988220215,
          2.0134966373443604,
          1.7985161542892456,
          0.6429767608642578,
          4.156559467315674,
          1.2670791149139404,
          0.8883028030395508,
          2.9212443828582764,
          4.523334980010986,
          5.021810531616211,
          0.6175953149795532,
          -0.20400163531303406,
          2.1212711334228516,
          1.2970563173294067,
          1.962162971496582,
          4.529849529266357,
          0.7512163519859314,
          5.219698905944824,
          0.5743222832679749,
          -0.13727742433547974,
          4.525946140289307,
          4.355842590332031,
          3.3053386211395264,
          1.8726609945297241,
          3.88889217376709,
          0.41145452857017517,
          3.17008376121521,
          7.168947696685791,
          5.2292327880859375,
          5.190366268157959,
          1.2410808801651,
          3.1909492015838623,
          5.037101745605469,
          0.7936094403266907,
          0.7542235255241394,
          0.6800026297569275,
          1.3131495714187622,
          1.2128820419311523,
          0.4860130548477173,
          0.4949313998222351,
          3.830530881881714,
          6.35186767578125,
          4.236223220825195,
          1.9923652410507202,
          0.8927364349365234,
          3.158236265182495,
          5.1515607833862305,
          1.9491171836853027,
          3.196155309677124,
          4.295473575592041,
          5.095807075500488,
          1.5522520542144775,
          3.4032721519470215,
          5.132397651672363,
          1.1869257688522339,
          0.8169629573822021,
          4.54337739944458,
          3.3463611602783203,
          1.0129622220993042,
          1.2408498525619507,
          0.7306031584739685,
          1.480378270149231,
          2.9534168243408203,
          2.057647228240967,
          6.000889301300049,
          5.142857551574707,
          2.415339469909668,
          1.9894237518310547,
          0.960668683052063,
          4.422733306884766,
          2.5811402797698975,
          2.1751790046691895,
          2.097308874130249,
          2.9796199798583984,
          4.483018398284912,
          3.7296884059906006,
          0.4134587049484253,
          0.5144976377487183,
          0.03384013846516609,
          6.45988130569458,
          3.5834107398986816,
          0.8097426891326904,
          3.73000431060791,
          2.2619495391845703,
          2.5096328258514404,
          5.161848545074463,
          1.9077359437942505,
          1.149706244468689,
          5.3041768074035645,
          1.8391458988189697,
          6.384110927581787,
          1.7243520021438599,
          2.373739004135132,
          1.558410882949829,
          5.185384750366211,
          2.4205291271209717,
          2.100325345993042,
          3.43898868560791,
          4.439868927001953,
          4.2381205558776855,
          1.2954524755477905,
          4.029132843017578,
          0.2751641571521759,
          1.4097429513931274,
          4.195291519165039,
          0.022649066522717476,
          1.6619701385498047,
          3.6182010173797607,
          6.615612983703613,
          1.4124882221221924,
          6.6144866943359375,
          1.7727351188659668,
          4.305635929107666,
          6.45914888381958,
          1.192274808883667,
          1.939072847366333,
          3.269818067550659,
          3.920222520828247,
          5.387997627258301,
          1.1939465999603271,
          6.347978115081787,
          0.6706529855728149,
          2.441626787185669,
          4.471277236938477,
          2.875354766845703,
          1.945847749710083,
          3.6464297771453857,
          0.7062899470329285,
          1.002070426940918,
          5.220981597900391,
          4.44972038269043,
          4.4938764572143555,
          1.71511971950531,
          0.93263179063797,
          3.6733837127685547,
          2.9763290882110596,
          5.490896224975586,
          1.19991135597229,
          6.5818400382995605,
          1.344390869140625,
          1.839861512184143,
          4.9403533935546875,
          2.8810813426971436,
          2.0560479164123535,
          1.3598066568374634,
          1.0684504508972168,
          3.036827325820923,
          3.8293821811676025,
          3.4968180656433105,
          4.387526035308838,
          3.3551928997039795,
          6.477059841156006,
          2.96012544631958,
          2.9847052097320557,
          3.294080972671509,
          7.092172622680664,
          3.5666592121124268,
          2.4260098934173584,
          1.2376724481582642,
          2.0763306617736816,
          0.6040030717849731,
          3.0205259323120117,
          1.4066600799560547,
          3.1993954181671143,
          5.109347820281982,
          5.112581253051758,
          4.521160125732422,
          3.0588746070861816,
          0.7862602472305298,
          3.178323745727539,
          2.5116188526153564,
          2.58144211769104,
          5.147654056549072,
          2.0904176235198975,
          1.158943772315979,
          1.3838647603988647,
          5.177914142608643,
          3.2769672870635986,
          4.533447265625,
          4.245591640472412,
          0.9056667685508728,
          3.6415059566497803,
          0.6657809019088745,
          3.7194390296936035,
          4.2854766845703125,
          3.211336135864258,
          3.724055528640747,
          5.2436676025390625,
          4.427462577819824,
          6.372645854949951,
          5.161921977996826,
          0.003756575519219041,
          2.1081342697143555,
          6.623341083526611,
          6.146633148193359,
          4.40024471282959,
          1.442259669303894,
          1.5664829015731812,
          1.9389585256576538,
          2.203530788421631,
          1.5630937814712524,
          3.1441593170166016,
          1.9576654434204102,
          3.0140254497528076,
          2.718109130859375,
          3.020761489868164,
          4.190907955169678,
          4.302341461181641,
          4.126303672790527,
          2.9513144493103027,
          5.051693439483643,
          4.582781791687012,
          3.658816337585449,
          4.368124961853027,
          1.0523895025253296,
          5.532938003540039,
          0.13358376920223236,
          1.241424560546875,
          5.138558864593506,
          2.9849350452423096,
          0.6583171486854553,
          1.1613194942474365,
          1.4734634160995483,
          0.5804478526115417,
          4.377978801727295,
          6.630427360534668,
          4.603902816772461,
          3.025411367416382,
          2.869558095932007,
          4.205928325653076,
          1.4408819675445557,
          0.39797455072402954,
          6.2101545333862305,
          3.6296653747558594,
          1.4057966470718384,
          2.854875087738037,
          3.490605592727661,
          5.274819850921631,
          0.21252429485321045,
          3.559764862060547,
          1.021706461906433,
          3.7692246437072754,
          1.8290382623672485,
          3.627195119857788,
          4.465019226074219,
          4.4992780685424805,
          1.5160636901855469,
          4.381327152252197,
          0.5639186501502991,
          1.1678439378738403,
          6.596538543701172,
          6.561275959014893,
          0.00026075143250636756,
          0.8549506068229675,
          0.8921951055526733,
          1.5200368165969849,
          2.2505698204040527,
          3.2926549911499023,
          3.5330193042755127,
          2.5881052017211914,
          2.42370867729187,
          1.0620253086090088,
          4.451870918273926,
          4.451771259307861,
          3.5237202644348145,
          3.664576768875122,
          1.9818707704544067,
          0.8746972680091858,
          6.639904975891113,
          5.6421308517456055,
          2.913482904434204,
          3.5632965564727783,
          4.31427526473999,
          0.5204334855079651,
          3.7214808464050293,
          1.4002621173858643,
          3.5482096672058105,
          6.407345294952393,
          1.7844517230987549,
          3.6507487297058105,
          4.484096050262451,
          1.242447018623352,
          4.179359436035156,
          4.1012139320373535,
          3.301131248474121,
          0.12491092085838318,
          -0.28618189692497253,
          1.8325823545455933,
          6.643314838409424,
          3.615046262741089,
          4.471487045288086,
          1.6664729118347168,
          1.580974817276001,
          6.57451057434082,
          1.3024897575378418,
          3.0011017322540283,
          4.261261463165283,
          3.686114549636841,
          3.1657464504241943,
          3.8201065063476562,
          4.382693290710449,
          7.134000778198242,
          6.07381534576416,
          2.486887216567993,
          2.0636398792266846,
          4.545490264892578,
          1.0819693803787231,
          2.475611686706543,
          0.38390544056892395,
          1.1023123264312744,
          6.245900630950928,
          -0.11602184176445007,
          1.5688003301620483,
          0.18035368621349335,
          4.288324356079102,
          5.248959541320801,
          6.045080184936523,
          2.061201810836792,
          4.2964935302734375,
          4.3728179931640625,
          3.5272176265716553,
          2.110722303390503,
          1.9796055555343628,
          2.9320878982543945,
          4.517650127410889,
          4.33772087097168,
          3.164583921432495,
          1.8374443054199219,
          5.116572856903076,
          5.248254776000977,
          5.040900707244873,
          4.591118812561035,
          4.258835315704346,
          4.497763633728027,
          3.2406575679779053,
          5.524125576019287,
          2.5869905948638916,
          2.3850960731506348,
          -0.252058207988739,
          2.051823139190674,
          1.2473409175872803,
          0.0658167153596878,
          -0.12848061323165894,
          2.5409035682678223,
          1.1029483079910278,
          2.031574010848999,
          6.364165306091309,
          5.150465488433838,
          7.180731296539307,
          6.514211177825928,
          4.507649898529053,
          0.24204625189304352,
          0.34758520126342773,
          1.1623506546020508,
          3.159217119216919,
          2.080700635910034,
          0.7442117929458618,
          4.612685203552246,
          1.50627601146698,
          4.890529155731201,
          2.5028750896453857,
          3.6054983139038086,
          2.40496563911438,
          0.15779708325862885,
          0.8330129981040955,
          2.312390089035034,
          0.6249452233314514,
          1.9425560235977173,
          4.28757381439209,
          5.041662216186523,
          4.332348346710205,
          6.008098125457764,
          2.593161106109619,
          1.6569372415542603,
          0.6307970285415649,
          2.6506292819976807,
          2.1876542568206787,
          4.408877849578857,
          1.751725435256958,
          0.549055814743042,
          3.017322301864624,
          6.3728766441345215,
          2.874765634536743,
          2.0371224880218506,
          3.9147238731384277,
          0.9280540943145752,
          1.3417311906814575,
          0.7378193736076355,
          7.172929286956787,
          4.460117340087891,
          1.8682376146316528,
          4.229917526245117,
          3.429884195327759,
          4.317559719085693,
          3.083718776702881,
          5.115736484527588,
          2.0743439197540283,
          5.647017478942871,
          0.621737003326416,
          2.0314407348632812,
          -0.1978069394826889,
          4.542110443115234,
          3.420323610305786,
          4.427646160125732,
          5.644573211669922,
          6.309757709503174,
          5.232844352722168,
          5.128148555755615,
          0.32157933712005615,
          6.13425874710083,
          5.132167816162109,
          4.5679473876953125,
          6.3692851066589355,
          0.6081690192222595,
          5.0307722091674805,
          1.5401884317398071,
          5.082381725311279,
          1.4711127281188965,
          2.129936695098877,
          2.0855841636657715,
          1.0282893180847168,
          2.20288348197937,
          0.6891656517982483,
          1.2479485273361206,
          -0.2568625807762146,
          0.37483882904052734,
          1.2558091878890991,
          4.471920967102051,
          4.513144016265869,
          6.328669548034668,
          2.806471586227417,
          2.4293580055236816,
          1.9789047241210938,
          1.7197378873825073,
          2.237238883972168,
          2.805715322494507,
          7.170636177062988,
          4.365017414093018,
          3.955118179321289,
          4.562797546386719,
          2.1062474250793457,
          1.4922329187393188,
          1.2920836210250854,
          1.9343998432159424,
          2.060927629470825,
          1.2455650568008423,
          3.236361026763916,
          2.140615463256836,
          7.1473708152771,
          0.7015296816825867,
          -0.2729629874229431,
          6.555893898010254,
          0.45500582456588745,
          1.2233043909072876,
          -0.17389030754566193,
          3.5883350372314453,
          3.7848846912384033,
          1.0159958600997925,
          0.8685809969902039,
          -0.05712916702032089,
          2.9330427646636963,
          3.6380808353424072,
          4.242502689361572,
          1.4551035165786743,
          4.442739963531494,
          0.19712281227111816,
          3.303762197494507,
          3.543084144592285,
          0.13221725821495056,
          2.2270562648773193,
          0.0983961895108223,
          3.337555408477783,
          0.5940704941749573,
          1.771559476852417,
          2.865577220916748,
          -0.2817685008049011,
          5.091622352600098,
          0.4642901122570038,
          3.477691650390625,
          3.5498664379119873,
          0.6586432456970215,
          6.5304670333862305,
          -0.007124082650989294,
          6.597266674041748,
          2.24369478225708,
          3.3722784519195557,
          4.437989711761475,
          4.06170654296875,
          4.970417022705078,
          6.310513496398926,
          4.524560451507568,
          6.419161319732666,
          2.0709335803985596,
          2.0382697582244873
         ],
         "yaxis": "y"
        },
        {
         "hovertemplate": "Outlier<extra></extra>",
         "marker": {
          "color": "grey",
          "size": 1
         },
         "mode": "markers",
         "name": "Outliers",
         "type": "scattergl",
         "x": [
          10.055303573608398,
          6.313974857330322,
          5.937090873718262,
          8.406126976013184,
          7.868732452392578,
          9.031725883483887,
          7.045608043670654,
          5.65603494644165,
          4.982112407684326,
          4.152274131774902,
          9.971562385559082,
          8.589211463928223,
          10.431769371032715,
          6.903013706207275,
          5.518415451049805,
          4.3279032707214355,
          7.774649620056152,
          10.373613357543945,
          7.829968452453613,
          9.819985389709473,
          10.420371055603027,
          5.37204122543335,
          7.634640693664551,
          9.032066345214844,
          5.530643939971924,
          6.62897253036499,
          5.224961280822754,
          4.182700157165527,
          6.906999588012695,
          6.658907890319824,
          4.856777667999268,
          9.914575576782227,
          4.884283542633057,
          5.2525811195373535,
          4.469328880310059,
          4.6181864738464355,
          4.802567481994629,
          4.706975936889648,
          4.814723491668701,
          9.466054916381836,
          6.1622748374938965,
          7.970177173614502,
          4.963381290435791,
          10.21650218963623,
          7.318849563598633,
          6.275546550750732,
          10.106632232666016,
          7.254685401916504,
          10.759538650512695,
          5.283137798309326,
          9.92801570892334,
          5.8277668952941895,
          8.607081413269043,
          4.099654674530029,
          7.6093220710754395,
          6.770206451416016,
          10.025017738342285,
          6.62529993057251,
          6.184272766113281,
          3.700998306274414,
          9.816617965698242,
          5.890810966491699,
          4.477705478668213,
          10.68828296661377,
          5.910790920257568,
          6.246391296386719,
          6.222963333129883,
          8.599215507507324,
          6.405428409576416,
          3.6025619506835938,
          10.722933769226074,
          4.565578937530518,
          5.109725475311279,
          4.787063121795654,
          10.437033653259277,
          6.399038791656494,
          9.575004577636719,
          4.598870754241943,
          5.408291816711426,
          7.29994535446167,
          10.923347473144531,
          6.203827857971191,
          4.2384819984436035,
          3.55940842628479,
          9.420124053955078,
          9.960823059082031,
          7.463123321533203,
          7.476632595062256,
          8.92147159576416,
          6.444891452789307,
          10.837082862854004,
          8.953343391418457,
          8.54890251159668,
          4.705904960632324,
          7.094347953796387,
          9.516334533691406,
          6.602025985717773,
          5.39489221572876,
          8.846942901611328,
          7.376339912414551,
          7.764069557189941,
          9.134684562683105,
          6.492493629455566,
          7.958898544311523,
          10.191253662109375,
          9.613312721252441,
          11.43093204498291,
          7.780179977416992,
          7.505292892456055,
          4.885308265686035,
          5.922587871551514,
          10.042048454284668,
          7.624807834625244,
          6.305301189422607,
          3.833840847015381,
          11.429421424865723,
          7.304087162017822,
          7.75022029876709,
          6.324113368988037,
          4.302759647369385,
          4.743975639343262,
          9.235745429992676,
          8.48448657989502,
          10.091611862182617,
          7.280734062194824,
          8.950531005859375,
          8.26520824432373,
          7.191319942474365,
          6.49029016494751,
          4.048727989196777,
          9.458208084106445,
          7.0730299949646,
          6.469496250152588,
          6.206680774688721,
          10.614520072937012,
          9.20261001586914,
          8.440181732177734,
          7.3800225257873535,
          10.115583419799805,
          9.750633239746094,
          8.874303817749023,
          10.191962242126465,
          9.197668075561523,
          4.0691304206848145,
          9.150981903076172,
          6.013702392578125,
          4.317568302154541,
          3.822545051574707,
          7.043524742126465,
          5.918581008911133,
          10.289347648620605,
          7.719779968261719,
          9.157657623291016,
          6.995688438415527,
          10.191397666931152,
          9.40098762512207,
          7.857873439788818,
          4.311448097229004,
          5.8754682540893555,
          5.62364387512207,
          9.202766418457031,
          3.830106496810913,
          4.455575466156006,
          5.1195454597473145,
          9.082334518432617,
          9.087431907653809,
          8.61245059967041,
          4.045165061950684,
          5.068394184112549,
          10.12179183959961,
          10.257954597473145,
          7.785722732543945,
          9.465031623840332,
          9.906033515930176,
          10.006074905395508,
          7.579154968261719,
          6.478428840637207,
          5.525648593902588,
          6.402725696563721,
          6.234256267547607,
          8.416646003723145,
          10.089679718017578,
          7.244790077209473,
          6.247574329376221,
          10.076805114746094,
          3.731677770614624,
          4.859274864196777,
          9.799800872802734,
          5.444688320159912,
          6.311985015869141,
          5.842015743255615,
          7.172425270080566,
          6.468998908996582,
          5.390872955322266,
          8.446210861206055,
          8.421865463256836,
          3.9391884803771973,
          7.8022236824035645,
          5.047229290008545,
          8.778854370117188,
          10.682994842529297,
          6.399289131164551,
          9.551240921020508,
          10.501104354858398,
          4.851280689239502,
          7.434720516204834,
          9.023211479187012,
          7.505461692810059,
          3.789604663848877,
          10.958097457885742,
          8.170674324035645,
          8.439190864562988,
          8.242317199707031,
          4.348241806030273,
          9.684587478637695,
          8.09950065612793,
          9.782663345336914,
          6.124243259429932,
          3.7884161472320557,
          8.425674438476562,
          8.072537422180176,
          9.141721725463867,
          6.962170600891113,
          7.965339183807373,
          7.644502639770508,
          10.115038871765137,
          7.839174270629883,
          7.257114887237549,
          7.229583263397217,
          7.6496901512146,
          7.662932872772217,
          3.8415000438690186,
          5.034966468811035,
          10.814096450805664,
          10.433891296386719,
          10.61977767944336,
          9.766369819641113,
          4.381802082061768,
          3.7902021408081055,
          5.631068229675293,
          6.359683036804199,
          5.92043399810791,
          4.396043300628662,
          4.5354132652282715,
          4.91052770614624,
          3.835190534591675,
          7.633244037628174,
          6.659714221954346,
          4.131505489349365,
          9.99843978881836,
          4.419095993041992,
          9.546468734741211,
          8.764365196228027,
          9.630687713623047,
          6.035841464996338,
          9.174878120422363,
          9.041354179382324,
          10.854398727416992,
          7.400710582733154,
          6.644293308258057,
          5.471329689025879,
          10.417552947998047,
          9.29548454284668,
          6.276324272155762,
          5.291228771209717,
          3.993734359741211,
          10.272418022155762,
          5.59033203125,
          10.201335906982422,
          7.802731990814209,
          10.486122131347656,
          7.078537940979004,
          3.97369647026062,
          11.318927764892578,
          9.087800979614258,
          7.887999057769775,
          4.643812656402588,
          7.360801696777344,
          8.828819274902344,
          10.954530715942383,
          5.442311763763428,
          7.73477029800415,
          8.74738883972168,
          9.800174713134766,
          4.218773365020752,
          3.770667791366577,
          8.613032341003418,
          10.903029441833496,
          8.821993827819824,
          10.329739570617676,
          3.6967570781707764,
          4.878051280975342,
          9.076666831970215,
          7.40310001373291,
          8.357234954833984,
          4.534295558929443,
          10.235282897949219,
          6.033111095428467,
          6.145129203796387,
          10.734895706176758,
          4.417644500732422,
          6.427816390991211,
          5.664789199829102,
          4.686072826385498,
          4.946420192718506,
          8.430908203125,
          7.621475696563721,
          8.02065658569336,
          6.245144844055176,
          6.406916618347168,
          10.12706184387207,
          7.854991912841797,
          4.5097832679748535,
          9.841062545776367,
          3.4459431171417236,
          4.7611894607543945,
          7.670365810394287,
          9.269371032714844,
          5.316348552703857,
          10.66380786895752,
          7.490443706512451,
          7.341472148895264,
          5.377938747406006,
          5.640389442443848,
          4.759512901306152,
          6.881946563720703,
          7.644802570343018,
          7.156327724456787,
          5.634697914123535,
          4.116995334625244,
          9.959702491760254,
          5.477917194366455,
          6.237585067749023,
          9.70070743560791,
          9.17564582824707,
          8.890748023986816,
          4.559850215911865,
          7.204981803894043,
          9.45125961303711,
          8.315871238708496,
          7.532503128051758,
          11.445836067199707,
          8.742934226989746,
          6.56374454498291,
          10.722400665283203,
          8.04260540008545,
          6.663021564483643,
          10.520764350891113,
          4.371636390686035,
          4.158325672149658,
          7.71184778213501,
          8.883949279785156,
          5.53416109085083,
          7.013221263885498,
          10.70551872253418,
          8.970075607299805,
          8.500341415405273,
          5.396595001220703,
          4.876506805419922,
          8.790542602539062,
          3.761983633041382,
          7.667829513549805,
          4.323497772216797,
          7.53460693359375,
          7.736011981964111,
          6.129412651062012,
          9.018037796020508,
          6.542269229888916,
          6.327054977416992,
          7.505117893218994,
          6.176853179931641,
          5.299040794372559,
          5.639673709869385,
          4.227065086364746,
          4.978723526000977,
          5.197087287902832,
          6.647538661956787,
          4.963016510009766,
          7.087682723999023,
          6.777101516723633,
          9.515128135681152,
          4.112512111663818,
          8.786601066589355,
          4.506199359893799,
          3.7491323947906494,
          9.323201179504395,
          5.796078681945801,
          5.9292683601379395,
          8.82132339477539,
          3.7707293033599854,
          3.4411873817443848,
          10.20226764678955,
          6.224236965179443,
          3.8302958011627197,
          8.97668170928955,
          7.453295707702637,
          4.144625186920166,
          5.456175804138184,
          4.049619197845459,
          10.460515975952148,
          7.660335063934326,
          9.131478309631348,
          10.80288314819336,
          4.340819358825684,
          6.711198329925537,
          10.480265617370605,
          6.05926513671875,
          5.28776741027832,
          6.113030910491943,
          9.08795166015625,
          4.273166179656982,
          4.830092906951904,
          5.0678887367248535,
          4.471126556396484,
          7.478780269622803,
          6.158235549926758,
          10.96921443939209,
          7.4087700843811035,
          4.156444549560547,
          10.356672286987305,
          6.572389602661133,
          4.686755180358887,
          6.611401557922363,
          7.538382053375244,
          4.485656261444092,
          6.544342041015625,
          6.391736030578613,
          8.111680030822754,
          9.320033073425293,
          5.613536834716797,
          10.014633178710938,
          9.11237621307373,
          10.747087478637695,
          4.73134183883667,
          4.355362892150879,
          10.845731735229492,
          7.117403030395508,
          9.106941223144531,
          6.11747932434082,
          9.127652168273926,
          4.21758508682251,
          10.15435791015625,
          9.202229499816895,
          4.369324207305908,
          10.051390647888184,
          7.073721408843994,
          6.617470741271973,
          9.63759994506836,
          6.500828742980957,
          4.306674480438232,
          6.408215522766113,
          9.542139053344727,
          4.523567199707031,
          9.736044883728027,
          7.786820888519287,
          5.033379554748535,
          6.380748748779297,
          6.905511856079102,
          7.993143081665039,
          3.778759241104126,
          7.871683597564697,
          7.219738960266113,
          4.1231303215026855,
          3.853304862976074,
          10.146808624267578,
          7.182339668273926,
          7.427303791046143,
          4.811324119567871,
          8.935776710510254,
          7.292502403259277,
          10.686668395996094,
          10.568659782409668,
          11.46548843383789,
          8.885675430297852,
          9.35574722290039,
          4.508200168609619,
          4.328407287597656,
          9.063268661499023,
          10.914816856384277,
          4.613925933837891,
          9.426309585571289,
          7.429112911224365,
          5.457799911499023,
          4.165778160095215,
          5.455068588256836,
          4.9772772789001465,
          4.322817802429199,
          10.393021583557129,
          7.953627109527588,
          4.036026954650879,
          8.091473579406738,
          9.220754623413086,
          6.571720123291016,
          7.823816776275635,
          9.720623016357422,
          8.549418449401855,
          7.116323471069336,
          5.1043701171875,
          8.637133598327637,
          7.607820987701416,
          8.779502868652344,
          9.56689167022705,
          8.894400596618652,
          7.0749382972717285,
          7.563694000244141,
          4.2353291511535645,
          9.801506996154785,
          8.083134651184082,
          5.067467212677002,
          4.172016143798828,
          8.399088859558105,
          6.084916591644287,
          8.07681941986084,
          5.70954704284668,
          10.143199920654297,
          5.615499973297119,
          11.065779685974121,
          7.976774215698242,
          8.998620986938477,
          6.028261184692383,
          10.531797409057617,
          6.092116832733154,
          6.521300792694092,
          10.017265319824219,
          5.380764484405518,
          6.604496479034424,
          5.290102005004883,
          4.019327163696289,
          3.726452589035034,
          4.983527660369873,
          4.8013596534729,
          4.221184253692627,
          6.528439044952393,
          7.519257545471191,
          5.039601802825928,
          9.498396873474121,
          10.434722900390625,
          8.54982852935791,
          4.776589393615723,
          7.7272047996521,
          6.578824996948242,
          9.731432914733887,
          9.700332641601562,
          5.907682418823242,
          10.179308891296387,
          5.64656925201416,
          7.746114253997803,
          6.91446590423584,
          7.874292850494385,
          7.275059223175049,
          4.07922887802124,
          4.47351598739624,
          9.127458572387695,
          5.8943257331848145,
          7.800328254699707,
          7.789888381958008,
          10.131824493408203,
          6.26064395904541,
          6.163297176361084,
          8.977347373962402,
          10.566524505615234,
          9.088380813598633,
          4.533649921417236,
          8.852075576782227,
          10.12680721282959,
          9.209794044494629,
          10.506396293640137,
          10.850849151611328,
          8.910346031188965,
          5.5683913230896,
          4.061332702636719,
          11.217466354370117,
          6.735783576965332,
          7.830648422241211,
          6.6451497077941895,
          10.693388938903809,
          10.959043502807617,
          7.591035842895508,
          7.601871967315674,
          5.740155220031738,
          8.303622245788574,
          6.085305213928223,
          7.404746055603027,
          8.26904582977295,
          6.975741863250732,
          7.6171793937683105,
          4.176785945892334,
          5.904141426086426,
          6.487618923187256,
          7.431266784667969,
          9.386977195739746,
          9.644621849060059,
          7.738112449645996,
          6.80074405670166,
          9.026545524597168,
          5.881528377532959,
          9.954001426696777,
          5.581239700317383,
          6.6874213218688965,
          9.328998565673828,
          7.186312198638916,
          9.674824714660645,
          4.748197078704834,
          7.783215522766113,
          9.713553428649902,
          9.645176887512207,
          6.285120487213135,
          10.521058082580566,
          3.746938705444336,
          4.4392924308776855,
          6.334770679473877,
          5.655178070068359,
          3.814549446105957,
          10.253487586975098,
          5.899720668792725,
          8.217681884765625,
          5.438911437988281,
          6.553114891052246,
          8.242969512939453,
          6.265289306640625,
          5.602494716644287,
          7.7400078773498535,
          10.195589065551758,
          4.880777359008789,
          4.132950782775879,
          8.553614616394043,
          5.338890552520752,
          9.741124153137207,
          4.606112957000732,
          9.330806732177734,
          5.867378234863281,
          5.4005537033081055,
          7.439879894256592,
          9.95350456237793,
          7.590925216674805,
          5.600490093231201,
          5.453747272491455,
          7.006701469421387,
          5.038918972015381,
          8.329708099365234,
          7.571746349334717,
          6.078110218048096,
          7.908956050872803,
          5.730042457580566,
          6.358871936798096,
          5.554272174835205,
          5.236781597137451,
          9.434558868408203,
          8.689312934875488,
          7.315662384033203,
          4.463778972625732,
          7.317673683166504,
          4.270712852478027,
          10.356820106506348,
          10.840612411499023,
          4.146698474884033,
          6.439690589904785,
          10.524569511413574,
          8.40206527709961,
          9.369407653808594,
          9.259882926940918,
          10.155508995056152,
          4.4760918617248535,
          9.324983596801758,
          8.366297721862793,
          5.106566905975342,
          6.413028717041016,
          9.43620777130127,
          6.457399845123291,
          5.4188055992126465,
          6.143168926239014,
          6.531691074371338,
          6.602055549621582,
          5.011950969696045,
          7.893609046936035,
          5.285926342010498,
          7.686455249786377,
          5.887397289276123,
          10.18260383605957,
          3.8258042335510254,
          8.511728286743164,
          7.861089706420898,
          4.476432800292969,
          8.992232322692871,
          8.059730529785156,
          6.011716365814209,
          8.463242530822754,
          4.244274616241455,
          7.179553985595703,
          5.903388023376465,
          10.551949501037598,
          4.053104400634766,
          5.565344333648682,
          6.3976731300354,
          7.303454399108887,
          6.932412624359131,
          7.774692535400391,
          7.898387432098389,
          11.13341236114502,
          3.8077805042266846,
          6.8844733238220215,
          9.4253568649292,
          8.276387214660645,
          6.569085121154785,
          7.738054275512695,
          4.8795695304870605,
          6.908531665802002,
          10.857796669006348,
          5.292987823486328,
          7.981187343597412,
          9.17199420928955,
          5.0071563720703125,
          9.605133056640625,
          10.74210262298584,
          3.7762322425842285,
          4.708283424377441,
          10.43967056274414,
          6.397214412689209,
          8.217975616455078,
          5.642054080963135,
          10.656852722167969,
          8.961864471435547,
          5.47800350189209,
          11.249706268310547,
          7.662742614746094,
          7.736503601074219,
          4.706876754760742,
          6.465652942657471,
          5.404505729675293,
          6.959512233734131,
          8.247859001159668,
          6.865630149841309,
          4.013836860656738,
          9.351981163024902,
          10.0593900680542,
          9.059279441833496,
          9.69787311553955,
          9.927935600280762,
          3.675429344177246,
          4.632264614105225,
          3.9493274688720703,
          4.487532138824463,
          4.455042839050293,
          7.2771148681640625,
          5.962909698486328,
          7.623635292053223,
          8.202384948730469,
          10.754611015319824,
          6.168303966522217,
          7.966115951538086,
          9.799225807189941,
          9.102697372436523,
          6.818452835083008,
          4.725801944732666,
          9.039365768432617,
          6.767636299133301,
          3.7068099975585938,
          9.5060453414917,
          6.552912712097168,
          6.894374847412109,
          3.7614307403564453,
          6.827268600463867,
          5.970608234405518,
          7.942853927612305,
          6.122757911682129,
          9.135513305664062,
          7.63887357711792,
          7.405246257781982,
          9.727150917053223,
          3.8541088104248047,
          10.601930618286133,
          10.332297325134277,
          8.50056266784668,
          9.706104278564453,
          7.266185283660889,
          7.61927604675293,
          3.543196201324463,
          4.769814968109131,
          5.622481822967529,
          6.686718940734863,
          10.430488586425781,
          4.1486005783081055,
          5.517453670501709,
          5.871004581451416,
          3.720621347427368,
          8.917936325073242,
          10.715725898742676,
          9.20475959777832,
          4.181392669677734,
          6.865175724029541,
          4.110470771789551,
          4.212233066558838,
          7.163180828094482,
          7.696371078491211,
          7.648941516876221,
          9.249316215515137,
          3.4361608028411865,
          8.988969802856445,
          8.071882247924805,
          6.2077250480651855,
          6.224161624908447,
          10.918624877929688,
          10.08802318572998,
          7.210692405700684,
          9.691614151000977,
          7.487582683563232,
          3.7688217163085938,
          10.174980163574219,
          4.927384853363037,
          4.882255554199219,
          5.868907928466797,
          6.216588497161865,
          6.863407611846924,
          6.281013011932373,
          7.677454948425293,
          7.111229419708252,
          9.632770538330078,
          7.849685192108154,
          6.2427077293396,
          8.524187088012695,
          5.460214614868164,
          8.411361694335938,
          9.638873100280762,
          4.700597763061523,
          6.0676679611206055,
          4.319302082061768,
          7.310763359069824,
          7.973264217376709,
          11.143588066101074,
          7.431859493255615,
          7.474274635314941,
          4.33706521987915,
          5.38308572769165,
          8.03911018371582,
          5.099388599395752,
          4.7777509689331055,
          4.498430252075195,
          9.864989280700684,
          10.906888961791992,
          9.123480796813965,
          5.725114345550537,
          10.484734535217285,
          10.476028442382812,
          7.093176364898682,
          7.406870365142822,
          5.157627582550049,
          10.337972640991211,
          10.511809349060059,
          7.003660202026367,
          5.923942565917969,
          4.350359916687012,
          7.843740940093994,
          5.283655643463135,
          9.357775688171387,
          8.982622146606445,
          10.20048713684082,
          7.43828010559082,
          9.308289527893066,
          7.2743964195251465,
          7.929139614105225,
          9.416959762573242,
          6.139184951782227,
          6.356853008270264,
          7.044350624084473,
          8.653375625610352,
          10.126648902893066,
          10.555255889892578,
          7.992024898529053,
          5.106157302856445,
          7.716975688934326,
          7.511985778808594,
          10.671696662902832,
          5.656028747558594,
          4.412156105041504,
          6.935295104980469,
          6.302558898925781,
          6.263518810272217,
          9.483932495117188,
          6.452995777130127,
          4.272645473480225,
          8.337361335754395,
          7.819249629974365,
          9.43893051147461,
          5.665493488311768,
          5.873470306396484,
          5.648209095001221,
          10.103864669799805,
          8.524145126342773,
          9.050036430358887,
          9.955903053283691,
          4.909664630889893,
          9.56843376159668,
          9.304696083068848,
          10.867528915405273,
          5.635097026824951,
          8.090986251831055,
          5.3975911140441895,
          7.416507720947266,
          8.247177124023438,
          8.899872779846191,
          8.128073692321777,
          10.652706146240234,
          9.079758644104004,
          6.2692131996154785,
          9.348217964172363,
          10.615549087524414,
          4.171327590942383,
          4.881734371185303,
          5.52646541595459,
          4.3677449226379395,
          4.3899993896484375,
          5.825743675231934,
          9.339380264282227,
          7.505433082580566,
          9.125103950500488,
          9.716917991638184,
          10.448103904724121,
          7.066568851470947,
          3.960848093032837,
          6.253360271453857,
          3.6082255840301514,
          8.898652076721191,
          9.599475860595703,
          7.590188980102539,
          10.221951484680176,
          6.505930423736572,
          5.596543788909912,
          3.8495659828186035,
          5.796051025390625,
          4.746323585510254,
          9.143040657043457,
          7.217648029327393,
          4.870055675506592,
          3.850756883621216,
          9.176387786865234,
          10.001365661621094,
          10.184219360351562,
          5.650399208068848,
          8.464889526367188,
          7.340704441070557,
          7.057557582855225,
          7.256637096405029,
          4.923603534698486,
          8.504013061523438,
          8.6647367477417,
          6.679843425750732,
          9.510931015014648,
          10.90137004852295,
          4.771646022796631,
          8.728461265563965,
          4.151172161102295,
          9.480924606323242,
          7.2492475509643555,
          5.799746513366699,
          3.4700305461883545,
          6.2638983726501465,
          7.67604398727417,
          5.753307819366455,
          8.127840042114258,
          4.62869119644165,
          9.495387077331543,
          8.442305564880371,
          6.203717231750488,
          4.696844577789307,
          8.4261474609375,
          6.965020179748535
         ],
         "xaxis": "x",
         "y": [
          3.121846914291382,
          2.104678153991699,
          6.168485641479492,
          5.464412212371826,
          2.4617726802825928,
          4.836079120635986,
          5.396378517150879,
          1.059057354927063,
          3.8601133823394775,
          0.6390045881271362,
          0.5248194336891174,
          3.2178869247436523,
          1.201581358909607,
          4.6928486824035645,
          6.612627029418945,
          0.7174940705299377,
          3.703254222869873,
          2.4631800651550293,
          5.657252311706543,
          2.0028302669525146,
          2.365393877029419,
          2.5410547256469727,
          2.3061225414276123,
          2.9907193183898926,
          2.4165456295013428,
          1.4121145009994507,
          6.236610412597656,
          2.0430285930633545,
          0.757860541343689,
          0.9810836911201477,
          5.128425121307373,
          2.7359514236450195,
          4.097529888153076,
          0.30482542514801025,
          0.8026311993598938,
          3.550642251968384,
          3.7750792503356934,
          3.9784014225006104,
          1.829737663269043,
          1.925747036933899,
          4.932199001312256,
          2.599787712097168,
          3.4588801860809326,
          1.245856523513794,
          2.5162699222564697,
          2.0894908905029297,
          0.41973063349723816,
          3.4234073162078857,
          0.885011613368988,
          6.239211559295654,
          3.9427356719970703,
          5.895260810852051,
          1.7544916868209839,
          3.443955659866333,
          3.018876791000366,
          4.677092552185059,
          2.219252586364746,
          5.596050262451172,
          2.5985639095306396,
          2.5413618087768555,
          2.0583698749542236,
          1.4947012662887573,
          1.9063336849212646,
          1.4492896795272827,
          5.75103759765625,
          6.764750003814697,
          5.039559364318848,
          3.9826345443725586,
          6.8181562423706055,
          0.6370315551757812,
          1.220679521560669,
          2.5953564643859863,
          0.8717678785324097,
          3.676558494567871,
          4.911652088165283,
          6.804941654205322,
          0.9753201603889465,
          2.3328473567962646,
          5.031332492828369,
          2.7665553092956543,
          5.165936470031738,
          3.7868118286132812,
          0.8384677767753601,
          0.6700125932693481,
          2.444720506668091,
          1.8100552558898926,
          -0.43400850892066956,
          -0.4570395350456238,
          2.7790815830230713,
          5.417346000671387,
          1.522407054901123,
          1.2051093578338623,
          2.8954553604125977,
          4.050472259521484,
          2.006287097930908,
          3.0033493041992188,
          5.475293159484863,
          5.197761535644531,
          5.350662708282471,
          3.5393130779266357,
          2.6597249507904053,
          1.5546013116836548,
          2.6949551105499268,
          3.196321964263916,
          4.867076396942139,
          0.7539852261543274,
          1.332701325416565,
          5.768063545227051,
          3.075544834136963,
          1.7905428409576416,
          2.4193899631500244,
          2.0660512447357178,
          -0.3103976845741272,
          2.007535934448242,
          0.7107349634170532,
          1.3486788272857666,
          2.9149484634399414,
          5.737998962402344,
          5.58195686340332,
          2.7081212997436523,
          3.0067036151885986,
          1.0537267923355103,
          5.449490547180176,
          2.0954248905181885,
          2.595926523208618,
          2.805173397064209,
          1.5733717679977417,
          1.3317852020263672,
          4.822537422180176,
          0.6254111528396606,
          2.3863205909729004,
          1.4624375104904175,
          5.431726455688477,
          3.781684637069702,
          1.6503880023956299,
          3.245056390762329,
          5.7059221267700195,
          2.543973207473755,
          1.0740207433700562,
          1.7984579801559448,
          2.5681934356689453,
          1.634466290473938,
          3.1062681674957275,
          3.65346360206604,
          1.115329384803772,
          6.234879970550537,
          4.323178291320801,
          1.839910864830017,
          4.385854721069336,
          6.712381839752197,
          2.132017135620117,
          5.211533069610596,
          2.4464895725250244,
          0.7919344902038574,
          1.3845155239105225,
          0.5987892746925354,
          1.7764328718185425,
          3.758302927017212,
          1.4774266481399536,
          0.18054957687854767,
          3.0798635482788086,
          0.8821113109588623,
          3.24752140045166,
          0.22923380136489868,
          1.6098154783248901,
          1.6141842603683472,
          3.4230668544769287,
          4.271301746368408,
          1.6688863039016724,
          4.4715752601623535,
          3.6237576007843018,
          5.782831192016602,
          0.9700945019721985,
          1.2889057397842407,
          4.641271114349365,
          4.252105236053467,
          5.815088748931885,
          2.8648509979248047,
          6.048619270324707,
          4.123856544494629,
          5.724791049957275,
          3.5242743492126465,
          1.4695342779159546,
          5.6977949142456055,
          3.1963160037994385,
          2.561460018157959,
          2.508411169052124,
          2.0477421283721924,
          3.151193141937256,
          5.531425476074219,
          1.8742387294769287,
          1.8760930299758911,
          5.909590721130371,
          5.777639389038086,
          5.694054126739502,
          5.745095729827881,
          2.6285762786865234,
          4.0680999755859375,
          3.2375648021698,
          3.9360783100128174,
          0.9070313572883606,
          2.1414573192596436,
          3.9570391178131104,
          2.8124871253967285,
          1.8543652296066284,
          1.7248947620391846,
          1.2345478534698486,
          3.103015899658203,
          4.550987720489502,
          1.2618529796600342,
          1.9033252000808716,
          5.614170551300049,
          5.5130767822265625,
          2.3540873527526855,
          0.6807790398597717,
          2.4613289833068848,
          2.3459460735321045,
          4.752716541290283,
          1.1245307922363281,
          5.6864213943481445,
          3.0163278579711914,
          1.1542571783065796,
          4.441375732421875,
          4.845963478088379,
          2.5176093578338623,
          4.762912273406982,
          3.5934884548187256,
          3.3757498264312744,
          5.169890403747559,
          5.344238758087158,
          2.315047025680542,
          0.5262896418571472,
          3.2143497467041016,
          1.157740592956543,
          4.884091377258301,
          1.250664234161377,
          3.528348207473755,
          0.9667062759399414,
          1.7802815437316895,
          5.330557823181152,
          4.54307746887207,
          2.4486935138702393,
          0.6615698933601379,
          1.0039244890213013,
          4.312837600708008,
          1.546952486038208,
          2.1676559448242188,
          2.077004909515381,
          1.4695950746536255,
          1.712831974029541,
          1.3524214029312134,
          3.449810743331909,
          2.3471431732177734,
          1.7974975109100342,
          1.809410572052002,
          1.8935058116912842,
          1.877536654472351,
          1.1585280895233154,
          4.140872955322266,
          1.0053794384002686,
          6.575543403625488,
          2.6926629543304443,
          2.321457624435425,
          3.8246166706085205,
          1.4829374551773071,
          0.5862584114074707,
          3.636178731918335,
          2.345263957977295,
          2.9676434993743896,
          5.678516864776611,
          1.1393837928771973,
          3.7768990993499756,
          2.6462936401367188,
          1.2070151567459106,
          4.024528503417969,
          3.7396576404571533,
          2.989051103591919,
          1.4543471336364746,
          1.9491742849349976,
          1.4056556224822998,
          5.88640022277832,
          1.6503347158432007,
          2.59938907623291,
          0.6635332703590393,
          0.9747278690338135,
          0.858837902545929,
          2.103421926498413,
          1.6022446155548096,
          2.11329984664917,
          1.0916279554367065,
          2.560948371887207,
          1.334216833114624,
          1.5943646430969238,
          2.546701431274414,
          5.7242751121521,
          2.897825002670288,
          1.3475260734558105,
          6.207669734954834,
          2.120771646499634,
          1.0250848531723022,
          3.2652106285095215,
          3.5998117923736572,
          3.9861395359039307,
          3.338857412338257,
          3.334012746810913,
          5.712698459625244,
          3.08632230758667,
          0.8140120506286621,
          6.379554748535156,
          5.09176778793335,
          2.2835941314697266,
          5.203307151794434,
          1.9028184413909912,
          1.401248574256897,
          2.2360575199127197,
          1.1817106008529663,
          5.212789535522461,
          3.942309856414795,
          0.7346346974372864,
          1.2502410411834717,
          4.487263202667236,
          3.9001593589782715,
          6.43872594833374,
          0.23930875957012177,
          1.1963447332382202,
          4.368656158447266,
          1.8093791007995605,
          3.5955920219421387,
          0.5115712881088257,
          5.103372573852539,
          2.733006238937378,
          6.291249752044678,
          0.2064308524131775,
          2.806065082550049,
          2.446605920791626,
          2.9889426231384277,
          1.9014703035354614,
          5.208505630493164,
          0.5349085927009583,
          1.4788451194763184,
          0.926820695400238,
          1.3500198125839233,
          2.387082099914551,
          2.1974098682403564,
          1.8246599435806274,
          3.3902344703674316,
          1.9819238185882568,
          2.8080837726593018,
          0.42676225304603577,
          5.1007981300354,
          5.202847957611084,
          3.877239942550659,
          3.620208263397217,
          3.9302425384521484,
          1.8205617666244507,
          1.1759214401245117,
          1.8645652532577515,
          5.383477687835693,
          1.3851079940795898,
          2.3778223991394043,
          4.576967716217041,
          4.267825603485107,
          2.947908401489258,
          2.6212291717529297,
          3.684307098388672,
          3.411905288696289,
          1.1556246280670166,
          5.272054195404053,
          6.249361038208008,
          4.212716579437256,
          2.540255546569824,
          2.528414487838745,
          2.3430299758911133,
          0.9026120901107788,
          5.367917060852051,
          4.187828063964844,
          2.697242498397827,
          2.2873215675354004,
          3.8063740730285645,
          1.4087985754013062,
          1.9191633462905884,
          2.1392736434936523,
          3.823951244354248,
          0.7628811597824097,
          3.404670476913452,
          0.5030430555343628,
          2.100654363632202,
          2.3060288429260254,
          3.2679662704467773,
          2.5580899715423584,
          2.144286632537842,
          3.6168813705444336,
          3.812382221221924,
          0.8588473200798035,
          3.176313638687134,
          1.708475947380066,
          1.3563861846923828,
          5.713107585906982,
          0.6255432367324829,
          0.9214942455291748,
          4.795566558837891,
          2.1342694759368896,
          1.573427438735962,
          0.8069267868995667,
          4.277822494506836,
          1.2195554971694946,
          4.837493896484375,
          6.080357074737549,
          3.962693214416504,
          2.4304680824279785,
          2.689979314804077,
          4.387250900268555,
          2.341383695602417,
          3.794463872909546,
          4.476080417633057,
          5.3970489501953125,
          1.1141762733459473,
          2.1202242374420166,
          0.5811135172843933,
          2.850675582885742,
          1.5932366847991943,
          3.9647655487060547,
          5.6073713302612305,
          4.489373207092285,
          2.742357015609741,
          1.7465100288391113,
          5.851808071136475,
          2.1953487396240234,
          0.5110120177268982,
          2.829854726791382,
          3.0430333614349365,
          2.0124781131744385,
          0.89271479845047,
          3.2484686374664307,
          0.7971462607383728,
          5.0772013664245605,
          5.237769603729248,
          1.6282429695129395,
          5.419487953186035,
          2.250605583190918,
          0.8787233829498291,
          1.7458117008209229,
          3.120847463607788,
          0.8550254702568054,
          3.4925851821899414,
          3.9423718452453613,
          2.0935871601104736,
          2.4989004135131836,
          3.66106915473938,
          3.6163454055786133,
          5.9684858322143555,
          2.9509706497192383,
          2.736307144165039,
          1.1584149599075317,
          5.777973175048828,
          1.9778056144714355,
          6.490932941436768,
          2.1778573989868164,
          0.8652911186218262,
          4.544070243835449,
          2.0096700191497803,
          3.4231841564178467,
          5.121006488800049,
          1.498481035232544,
          2.9611735343933105,
          3.417646646499634,
          0.9046950936317444,
          3.5157859325408936,
          3.7577216625213623,
          2.7943899631500244,
          1.0545768737792969,
          0.4503445625305176,
          1.3351507186889648,
          2.3117153644561768,
          4.310001850128174,
          1.9381054639816284,
          2.2639753818511963,
          2.1254007816314697,
          5.145183086395264,
          2.347223997116089,
          2.709325075149536,
          2.349188804626465,
          6.829875946044922,
          3.5239782333374023,
          6.8295578956604,
          3.126225233078003,
          4.043435573577881,
          2.64790415763855,
          0.8609615564346313,
          2.70066499710083,
          0.8923138976097107,
          3.3967723846435547,
          1.7673912048339844,
          5.22052526473999,
          2.740269184112549,
          2.12359881401062,
          5.2618255615234375,
          0.2549631893634796,
          3.83664870262146,
          1.8717529773712158,
          1.5705381631851196,
          3.4462027549743652,
          2.0946741104125977,
          1.4656851291656494,
          4.547679901123047,
          1.760004997253418,
          4.531562328338623,
          4.02031135559082,
          3.7962024211883545,
          0.7784705758094788,
          2.870535373687744,
          2.7185795307159424,
          2.9967894554138184,
          4.407281875610352,
          2.1851298809051514,
          2.5330722332000732,
          1.7576346397399902,
          0.8061205744743347,
          2.435945987701416,
          4.1142964363098145,
          0.42211225628852844,
          5.756835460662842,
          2.4633893966674805,
          3.645580530166626,
          5.106135845184326,
          5.480477333068848,
          3.0093209743499756,
          2.6527981758117676,
          2.5363056659698486,
          5.35659646987915,
          3.6847569942474365,
          1.224326252937317,
          5.481010913848877,
          4.456180095672607,
          0.5365641713142395,
          2.9701313972473145,
          1.701910138130188,
          3.293398380279541,
          1.8090509176254272,
          5.167085647583008,
          2.721337080001831,
          1.1684274673461914,
          3.5341010093688965,
          1.926500916481018,
          1.4792201519012451,
          5.287618637084961,
          3.99406361579895,
          5.51476526260376,
          2.7815048694610596,
          4.127545356750488,
          2.200578212738037,
          0.978338897228241,
          2.3470754623413086,
          1.888873815536499,
          4.06261682510376,
          5.760201454162598,
          4.59076452255249,
          5.337732315063477,
          2.7968509197235107,
          1.2038441896438599,
          1.4868496656417847,
          1.9203346967697144,
          2.674004316329956,
          2.094517946243286,
          3.6926968097686768,
          2.790367603302002,
          1.5195595026016235,
          1.4147498607635498,
          2.0664756298065186,
          6.874337673187256,
          2.2669103145599365,
          1.3725450038909912,
          5.347456455230713,
          3.9707884788513184,
          1.0174522399902344,
          1.2328048944473267,
          1.1246016025543213,
          4.188709735870361,
          2.8684134483337402,
          2.2228050231933594,
          3.1090586185455322,
          5.543529510498047,
          2.02213191986084,
          4.061190128326416,
          5.487094879150391,
          5.129087448120117,
          3.385080099105835,
          2.429964542388916,
          1.5683743953704834,
          3.0596213340759277,
          1.6520819664001465,
          2.827317953109741,
          2.8237264156341553,
          2.572592258453369,
          2.655524730682373,
          6.826264381408691,
          1.1676558256149292,
          5.361196041107178,
          2.4130823612213135,
          2.7504115104675293,
          0.8256604671478271,
          2.705235242843628,
          4.8512115478515625,
          5.752070426940918,
          2.727825164794922,
          2.928687810897827,
          6.30948543548584,
          0.674185037612915,
          0.9061294198036194,
          3.1410508155822754,
          4.6735005378723145,
          0.16650980710983276,
          4.005114555358887,
          1.519154667854309,
          1.8939011096954346,
          3.9687259197235107,
          5.377790451049805,
          5.425576686859131,
          2.640763998031616,
          4.655436038970947,
          5.03145170211792,
          2.9515271186828613,
          2.8963396549224854,
          3.6632893085479736,
          5.108243465423584,
          3.1585147380828857,
          3.379073143005371,
          2.406864881515503,
          0.877446174621582,
          2.396389961242676,
          6.1219682693481445,
          6.456916332244873,
          -0.41515129804611206,
          4.250305652618408,
          3.2484424114227295,
          2.2730941772460938,
          2.0783796310424805,
          5.405010223388672,
          3.084324598312378,
          3.106067657470703,
          3.873972177505493,
          2.4674341678619385,
          1.9680413007736206,
          2.712644100189209,
          5.785487651824951,
          1.2771676778793335,
          3.541025161743164,
          3.024801731109619,
          1.8856152296066284,
          2.066200017929077,
          2.666749954223633,
          4.319927215576172,
          0.9298510551452637,
          2.6888339519500732,
          5.069039821624756,
          5.151986122131348,
          1.895936131477356,
          2.8464739322662354,
          1.9307420253753662,
          1.8982670307159424,
          1.8182122707366943,
          3.080355405807495,
          0.8138102293014526,
          0.5167209506034851,
          4.927433013916016,
          0.2593249976634979,
          2.375230312347412,
          2.1525073051452637,
          2.413595199584961,
          0.5472862720489502,
          0.19500821828842163,
          1.7727181911468506,
          1.7952256202697754,
          0.5424591302871704,
          4.349577903747559,
          6.058431148529053,
          4.752689361572266,
          1.5209511518478394,
          1.5391268730163574,
          1.789444088935852,
          5.231354713439941,
          3.074204683303833,
          0.8567165732383728,
          1.9929381608963013,
          2.2388205528259277,
          2.2422704696655273,
          5.424036979675293,
          1.5334244966506958,
          4.4104108810424805,
          1.8960200548171997,
          0.40193724632263184,
          0.7907750606536865,
          5.797236919403076,
          6.815470218658447,
          5.091014862060547,
          0.71979820728302,
          3.64469313621521,
          3.263737916946411,
          1.6162666082382202,
          1.701282024383545,
          4.39313268661499,
          2.1472318172454834,
          1.6340231895446777,
          2.537858486175537,
          4.777801513671875,
          2.38867449760437,
          1.4111748933792114,
          1.5458025932312012,
          2.484079599380493,
          3.4765424728393555,
          2.473332166671753,
          3.398244857788086,
          2.8615846633911133,
          5.0037689208984375,
          1.6197398900985718,
          0.5137450098991394,
          2.2577314376831055,
          6.792522430419922,
          2.594913959503174,
          0.1991993933916092,
          1.299635410308838,
          1.8913280963897705,
          6.69282865524292,
          1.3812503814697266,
          1.0959025621414185,
          5.179322242736816,
          1.0209120512008667,
          2.270397663116455,
          3.065556764602661,
          5.446134090423584,
          4.549917697906494,
          1.2674287557601929,
          0.8079075217247009,
          3.3350958824157715,
          1.7377707958221436,
          5.451381683349609,
          1.2872804403305054,
          4.325148582458496,
          2.574047803878784,
          0.8994033932685852,
          1.2622723579406738,
          0.6114952564239502,
          3.333621025085449,
          1.595747947692871,
          2.099686861038208,
          5.33248233795166,
          2.6824252605438232,
          1.8466130495071411,
          1.9496572017669678,
          4.896937847137451,
          2.4619266986846924,
          1.1357483863830566,
          5.336767673492432,
          1.9402860403060913,
          4.035795211791992,
          1.4051847457885742,
          4.02614164352417,
          3.7827184200286865,
          5.523175239562988,
          0.7143813967704773,
          4.543097496032715,
          4.897345542907715,
          3.6376070976257324,
          5.23838996887207,
          6.287720203399658,
          4.190896987915039,
          5.281545162200928,
          0.5315214991569519,
          2.7717504501342773,
          4.066294193267822,
          2.1908044815063477,
          2.298271417617798,
          3.371381998062134,
          2.7409019470214844,
          4.328157901763916,
          1.9227155447006226,
          0.6369275450706482,
          2.597759485244751,
          0.19322845339775085,
          2.2911438941955566,
          1.6178562641143799,
          5.123673439025879,
          2.585308074951172,
          1.483227252960205,
          2.5542056560516357,
          3.744290590286255,
          4.796009540557861,
          2.6091654300689697,
          0.8144283294677734,
          2.1190428733825684,
          4.309247016906738,
          1.5867289304733276,
          3.7673585414886475,
          2.083688497543335,
          2.2867774963378906,
          4.3374433517456055,
          2.202634811401367,
          3.6398229598999023,
          2.229809522628784,
          1.4491416215896606,
          5.355024337768555,
          5.13491678237915,
          2.0036509037017822,
          4.385342121124268,
          2.7423207759857178,
          3.8743317127227783,
          1.6128877401351929,
          1.4452669620513916,
          3.681889057159424,
          1.2013936042785645,
          4.641429424285889,
          3.763645887374878,
          5.100640773773193,
          0.24475298821926117,
          3.764108657836914,
          1.9599144458770752,
          0.8611413836479187,
          4.820540904998779,
          2.072237253189087,
          3.690230369567871,
          2.0726099014282227,
          2.2374229431152344,
          2.502424716949463,
          4.641322135925293,
          2.2937400341033936,
          2.2987060546875,
          2.1266250610351562,
          2.2701079845428467,
          1.529282569885254,
          3.053864002227783,
          0.7215906381607056,
          1.5610761642456055,
          2.662139654159546,
          0.8450143337249756,
          0.2593880891799927,
          3.154733180999756,
          3.554537773132324,
          2.575467586517334,
          5.138662815093994,
          1.6119451522827148,
          1.8734750747680664,
          2.8538966178894043,
          2.8021018505096436,
          1.12632417678833,
          4.106414794921875,
          1.7347352504730225,
          1.7640104293823242,
          0.8011801242828369,
          5.3743109703063965,
          5.596896171569824,
          0.701733410358429,
          3.6062207221984863,
          2.4669699668884277,
          1.6068129539489746,
          3.9225330352783203,
          1.6325150728225708,
          2.7920520305633545,
          3.266403913497925,
          0.40411633253097534,
          3.1373801231384277,
          2.241957187652588,
          1.949512004852295,
          5.831514835357666,
          1.462792158126831,
          5.240244388580322,
          1.3658636808395386,
          2.3769114017486572,
          0.8706033825874329,
          0.24158763885498047,
          1.6443135738372803,
          4.028374671936035,
          1.4377398490905762,
          5.180408954620361,
          1.429836392402649,
          2.180401086807251,
          1.9036650657653809,
          4.9202351570129395,
          3.2101094722747803,
          5.975043773651123,
          0.8213464617729187,
          4.884311676025391,
          3.6364917755126953,
          0.6086835861206055,
          0.15271474421024323,
          1.5198204517364502,
          1.0908112525939941,
          1.8818942308425903,
          2.8207225799560547,
          1.6419514417648315,
          1.1317903995513916,
          4.017451286315918,
          1.0704816579818726,
          4.2146711349487305,
          5.088494300842285,
          2.253175735473633,
          4.846939563751221,
          4.734355449676514,
          -0.427559494972229,
          1.9192869663238525,
          3.662152051925659,
          5.444931507110596,
          1.4651391506195068,
          2.2014312744140625,
          2.9685802459716797,
          2.351043224334717,
          1.111301302909851,
          1.5001437664031982,
          4.283710479736328,
          2.5202267169952393,
          2.9495201110839844,
          3.562016010284424,
          6.679716110229492,
          2.316899299621582,
          4.506208419799805,
          1.6036428213119507,
          3.330906391143799,
          2.5715174674987793,
          4.2912421226501465,
          2.0891036987304688,
          6.503464698791504,
          0.621985912322998,
          2.093881368637085,
          3.4735167026519775,
          2.4706156253814697,
          3.609766721725464,
          2.393233299255371,
          2.3530614376068115,
          4.601661205291748,
          2.698971748352051,
          1.795838475227356,
          2.7972800731658936,
          4.147810459136963,
          1.831504464149475,
          0.7250170111656189,
          2.8516640663146973,
          1.8558146953582764,
          3.5973143577575684,
          4.738041400909424,
          5.442906856536865,
          0.4594901204109192,
          2.7382726669311523,
          3.3932085037231445,
          3.126028060913086,
          3.37097430229187,
          2.8298709392547607,
          2.2427055835723877,
          3.2278213500976562,
          5.13424015045166,
          2.8153538703918457,
          2.3440306186676025,
          0.9777324199676514,
          1.9554131031036377,
          3.5998611450195312,
          0.12783251702785492,
          2.2545385360717773,
          2.1083900928497314,
          1.7129199504852295,
          1.457431435585022,
          2.4880051612854004,
          2.4115755558013916,
          2.1889007091522217,
          5.700770854949951,
          5.661625862121582,
          2.321742057800293,
          5.671111583709717,
          5.470418453216553
         ],
         "yaxis": "y"
        }
       ],
       "layout": {
        "annotations": [
         {
          "font": {
           "size": 16
          },
          "showarrow": false,
          "text": "Topics by HDBSCAN Cluster",
          "x": 0.5,
          "xanchor": "center",
          "xref": "paper",
          "y": 1,
          "yanchor": "bottom",
          "yref": "paper"
         }
        ],
        "height": 1000,
        "plot_bgcolor": "rgba(250,250,250,1)",
        "template": {
         "data": {
          "bar": [
           {
            "error_x": {
             "color": "#2a3f5f"
            },
            "error_y": {
             "color": "#2a3f5f"
            },
            "marker": {
             "line": {
              "color": "#E5ECF6",
              "width": 0.5
             },
             "pattern": {
              "fillmode": "overlay",
              "size": 10,
              "solidity": 0.2
             }
            },
            "type": "bar"
           }
          ],
          "barpolar": [
           {
            "marker": {
             "line": {
              "color": "#E5ECF6",
              "width": 0.5
             },
             "pattern": {
              "fillmode": "overlay",
              "size": 10,
              "solidity": 0.2
             }
            },
            "type": "barpolar"
           }
          ],
          "carpet": [
           {
            "aaxis": {
             "endlinecolor": "#2a3f5f",
             "gridcolor": "white",
             "linecolor": "white",
             "minorgridcolor": "white",
             "startlinecolor": "#2a3f5f"
            },
            "baxis": {
             "endlinecolor": "#2a3f5f",
             "gridcolor": "white",
             "linecolor": "white",
             "minorgridcolor": "white",
             "startlinecolor": "#2a3f5f"
            },
            "type": "carpet"
           }
          ],
          "choropleth": [
           {
            "colorbar": {
             "outlinewidth": 0,
             "ticks": ""
            },
            "type": "choropleth"
           }
          ],
          "contour": [
           {
            "colorbar": {
             "outlinewidth": 0,
             "ticks": ""
            },
            "colorscale": [
             [
              0,
              "#0d0887"
             ],
             [
              0.1111111111111111,
              "#46039f"
             ],
             [
              0.2222222222222222,
              "#7201a8"
             ],
             [
              0.3333333333333333,
              "#9c179e"
             ],
             [
              0.4444444444444444,
              "#bd3786"
             ],
             [
              0.5555555555555556,
              "#d8576b"
             ],
             [
              0.6666666666666666,
              "#ed7953"
             ],
             [
              0.7777777777777778,
              "#fb9f3a"
             ],
             [
              0.8888888888888888,
              "#fdca26"
             ],
             [
              1,
              "#f0f921"
             ]
            ],
            "type": "contour"
           }
          ],
          "contourcarpet": [
           {
            "colorbar": {
             "outlinewidth": 0,
             "ticks": ""
            },
            "type": "contourcarpet"
           }
          ],
          "heatmap": [
           {
            "colorbar": {
             "outlinewidth": 0,
             "ticks": ""
            },
            "colorscale": [
             [
              0,
              "#0d0887"
             ],
             [
              0.1111111111111111,
              "#46039f"
             ],
             [
              0.2222222222222222,
              "#7201a8"
             ],
             [
              0.3333333333333333,
              "#9c179e"
             ],
             [
              0.4444444444444444,
              "#bd3786"
             ],
             [
              0.5555555555555556,
              "#d8576b"
             ],
             [
              0.6666666666666666,
              "#ed7953"
             ],
             [
              0.7777777777777778,
              "#fb9f3a"
             ],
             [
              0.8888888888888888,
              "#fdca26"
             ],
             [
              1,
              "#f0f921"
             ]
            ],
            "type": "heatmap"
           }
          ],
          "heatmapgl": [
           {
            "colorbar": {
             "outlinewidth": 0,
             "ticks": ""
            },
            "colorscale": [
             [
              0,
              "#0d0887"
             ],
             [
              0.1111111111111111,
              "#46039f"
             ],
             [
              0.2222222222222222,
              "#7201a8"
             ],
             [
              0.3333333333333333,
              "#9c179e"
             ],
             [
              0.4444444444444444,
              "#bd3786"
             ],
             [
              0.5555555555555556,
              "#d8576b"
             ],
             [
              0.6666666666666666,
              "#ed7953"
             ],
             [
              0.7777777777777778,
              "#fb9f3a"
             ],
             [
              0.8888888888888888,
              "#fdca26"
             ],
             [
              1,
              "#f0f921"
             ]
            ],
            "type": "heatmapgl"
           }
          ],
          "histogram": [
           {
            "marker": {
             "pattern": {
              "fillmode": "overlay",
              "size": 10,
              "solidity": 0.2
             }
            },
            "type": "histogram"
           }
          ],
          "histogram2d": [
           {
            "colorbar": {
             "outlinewidth": 0,
             "ticks": ""
            },
            "colorscale": [
             [
              0,
              "#0d0887"
             ],
             [
              0.1111111111111111,
              "#46039f"
             ],
             [
              0.2222222222222222,
              "#7201a8"
             ],
             [
              0.3333333333333333,
              "#9c179e"
             ],
             [
              0.4444444444444444,
              "#bd3786"
             ],
             [
              0.5555555555555556,
              "#d8576b"
             ],
             [
              0.6666666666666666,
              "#ed7953"
             ],
             [
              0.7777777777777778,
              "#fb9f3a"
             ],
             [
              0.8888888888888888,
              "#fdca26"
             ],
             [
              1,
              "#f0f921"
             ]
            ],
            "type": "histogram2d"
           }
          ],
          "histogram2dcontour": [
           {
            "colorbar": {
             "outlinewidth": 0,
             "ticks": ""
            },
            "colorscale": [
             [
              0,
              "#0d0887"
             ],
             [
              0.1111111111111111,
              "#46039f"
             ],
             [
              0.2222222222222222,
              "#7201a8"
             ],
             [
              0.3333333333333333,
              "#9c179e"
             ],
             [
              0.4444444444444444,
              "#bd3786"
             ],
             [
              0.5555555555555556,
              "#d8576b"
             ],
             [
              0.6666666666666666,
              "#ed7953"
             ],
             [
              0.7777777777777778,
              "#fb9f3a"
             ],
             [
              0.8888888888888888,
              "#fdca26"
             ],
             [
              1,
              "#f0f921"
             ]
            ],
            "type": "histogram2dcontour"
           }
          ],
          "mesh3d": [
           {
            "colorbar": {
             "outlinewidth": 0,
             "ticks": ""
            },
            "type": "mesh3d"
           }
          ],
          "parcoords": [
           {
            "line": {
             "colorbar": {
              "outlinewidth": 0,
              "ticks": ""
             }
            },
            "type": "parcoords"
           }
          ],
          "pie": [
           {
            "automargin": true,
            "type": "pie"
           }
          ],
          "scatter": [
           {
            "fillpattern": {
             "fillmode": "overlay",
             "size": 10,
             "solidity": 0.2
            },
            "type": "scatter"
           }
          ],
          "scatter3d": [
           {
            "line": {
             "colorbar": {
              "outlinewidth": 0,
              "ticks": ""
             }
            },
            "marker": {
             "colorbar": {
              "outlinewidth": 0,
              "ticks": ""
             }
            },
            "type": "scatter3d"
           }
          ],
          "scattercarpet": [
           {
            "marker": {
             "colorbar": {
              "outlinewidth": 0,
              "ticks": ""
             }
            },
            "type": "scattercarpet"
           }
          ],
          "scattergeo": [
           {
            "marker": {
             "colorbar": {
              "outlinewidth": 0,
              "ticks": ""
             }
            },
            "type": "scattergeo"
           }
          ],
          "scattergl": [
           {
            "marker": {
             "colorbar": {
              "outlinewidth": 0,
              "ticks": ""
             }
            },
            "type": "scattergl"
           }
          ],
          "scattermapbox": [
           {
            "marker": {
             "colorbar": {
              "outlinewidth": 0,
              "ticks": ""
             }
            },
            "type": "scattermapbox"
           }
          ],
          "scatterpolar": [
           {
            "marker": {
             "colorbar": {
              "outlinewidth": 0,
              "ticks": ""
             }
            },
            "type": "scatterpolar"
           }
          ],
          "scatterpolargl": [
           {
            "marker": {
             "colorbar": {
              "outlinewidth": 0,
              "ticks": ""
             }
            },
            "type": "scatterpolargl"
           }
          ],
          "scatterternary": [
           {
            "marker": {
             "colorbar": {
              "outlinewidth": 0,
              "ticks": ""
             }
            },
            "type": "scatterternary"
           }
          ],
          "surface": [
           {
            "colorbar": {
             "outlinewidth": 0,
             "ticks": ""
            },
            "colorscale": [
             [
              0,
              "#0d0887"
             ],
             [
              0.1111111111111111,
              "#46039f"
             ],
             [
              0.2222222222222222,
              "#7201a8"
             ],
             [
              0.3333333333333333,
              "#9c179e"
             ],
             [
              0.4444444444444444,
              "#bd3786"
             ],
             [
              0.5555555555555556,
              "#d8576b"
             ],
             [
              0.6666666666666666,
              "#ed7953"
             ],
             [
              0.7777777777777778,
              "#fb9f3a"
             ],
             [
              0.8888888888888888,
              "#fdca26"
             ],
             [
              1,
              "#f0f921"
             ]
            ],
            "type": "surface"
           }
          ],
          "table": [
           {
            "cells": {
             "fill": {
              "color": "#EBF0F8"
             },
             "line": {
              "color": "white"
             }
            },
            "header": {
             "fill": {
              "color": "#C8D4E3"
             },
             "line": {
              "color": "white"
             }
            },
            "type": "table"
           }
          ]
         },
         "layout": {
          "annotationdefaults": {
           "arrowcolor": "#2a3f5f",
           "arrowhead": 0,
           "arrowwidth": 1
          },
          "autotypenumbers": "strict",
          "coloraxis": {
           "colorbar": {
            "outlinewidth": 0,
            "ticks": ""
           }
          },
          "colorscale": {
           "diverging": [
            [
             0,
             "#8e0152"
            ],
            [
             0.1,
             "#c51b7d"
            ],
            [
             0.2,
             "#de77ae"
            ],
            [
             0.3,
             "#f1b6da"
            ],
            [
             0.4,
             "#fde0ef"
            ],
            [
             0.5,
             "#f7f7f7"
            ],
            [
             0.6,
             "#e6f5d0"
            ],
            [
             0.7,
             "#b8e186"
            ],
            [
             0.8,
             "#7fbc41"
            ],
            [
             0.9,
             "#4d9221"
            ],
            [
             1,
             "#276419"
            ]
           ],
           "sequential": [
            [
             0,
             "#0d0887"
            ],
            [
             0.1111111111111111,
             "#46039f"
            ],
            [
             0.2222222222222222,
             "#7201a8"
            ],
            [
             0.3333333333333333,
             "#9c179e"
            ],
            [
             0.4444444444444444,
             "#bd3786"
            ],
            [
             0.5555555555555556,
             "#d8576b"
            ],
            [
             0.6666666666666666,
             "#ed7953"
            ],
            [
             0.7777777777777778,
             "#fb9f3a"
            ],
            [
             0.8888888888888888,
             "#fdca26"
            ],
            [
             1,
             "#f0f921"
            ]
           ],
           "sequentialminus": [
            [
             0,
             "#0d0887"
            ],
            [
             0.1111111111111111,
             "#46039f"
            ],
            [
             0.2222222222222222,
             "#7201a8"
            ],
            [
             0.3333333333333333,
             "#9c179e"
            ],
            [
             0.4444444444444444,
             "#bd3786"
            ],
            [
             0.5555555555555556,
             "#d8576b"
            ],
            [
             0.6666666666666666,
             "#ed7953"
            ],
            [
             0.7777777777777778,
             "#fb9f3a"
            ],
            [
             0.8888888888888888,
             "#fdca26"
            ],
            [
             1,
             "#f0f921"
            ]
           ]
          },
          "colorway": [
           "#636efa",
           "#EF553B",
           "#00cc96",
           "#ab63fa",
           "#FFA15A",
           "#19d3f3",
           "#FF6692",
           "#B6E880",
           "#FF97FF",
           "#FECB52"
          ],
          "font": {
           "color": "#2a3f5f"
          },
          "geo": {
           "bgcolor": "white",
           "lakecolor": "white",
           "landcolor": "#E5ECF6",
           "showlakes": true,
           "showland": true,
           "subunitcolor": "white"
          },
          "hoverlabel": {
           "align": "left"
          },
          "hovermode": "closest",
          "mapbox": {
           "style": "light"
          },
          "paper_bgcolor": "white",
          "plot_bgcolor": "#E5ECF6",
          "polar": {
           "angularaxis": {
            "gridcolor": "white",
            "linecolor": "white",
            "ticks": ""
           },
           "bgcolor": "#E5ECF6",
           "radialaxis": {
            "gridcolor": "white",
            "linecolor": "white",
            "ticks": ""
           }
          },
          "scene": {
           "xaxis": {
            "backgroundcolor": "#E5ECF6",
            "gridcolor": "white",
            "gridwidth": 2,
            "linecolor": "white",
            "showbackground": true,
            "ticks": "",
            "zerolinecolor": "white"
           },
           "yaxis": {
            "backgroundcolor": "#E5ECF6",
            "gridcolor": "white",
            "gridwidth": 2,
            "linecolor": "white",
            "showbackground": true,
            "ticks": "",
            "zerolinecolor": "white"
           },
           "zaxis": {
            "backgroundcolor": "#E5ECF6",
            "gridcolor": "white",
            "gridwidth": 2,
            "linecolor": "white",
            "showbackground": true,
            "ticks": "",
            "zerolinecolor": "white"
           }
          },
          "shapedefaults": {
           "line": {
            "color": "#2a3f5f"
           }
          },
          "ternary": {
           "aaxis": {
            "gridcolor": "white",
            "linecolor": "white",
            "ticks": ""
           },
           "baxis": {
            "gridcolor": "white",
            "linecolor": "white",
            "ticks": ""
           },
           "bgcolor": "#E5ECF6",
           "caxis": {
            "gridcolor": "white",
            "linecolor": "white",
            "ticks": ""
           }
          },
          "title": {
           "x": 0.05
          },
          "xaxis": {
           "automargin": true,
           "gridcolor": "white",
           "linecolor": "white",
           "ticks": "",
           "title": {
            "standoff": 15
           },
           "zerolinecolor": "white",
           "zerolinewidth": 2
          },
          "yaxis": {
           "automargin": true,
           "gridcolor": "white",
           "linecolor": "white",
           "ticks": "",
           "title": {
            "standoff": 15
           },
           "zerolinecolor": "white",
           "zerolinewidth": 2
          }
         }
        },
        "width": 1000,
        "xaxis": {
         "anchor": "y",
         "domain": [
          0,
          1
         ],
         "visible": false
        },
        "yaxis": {
         "anchor": "x",
         "domain": [
          0,
          1
         ],
         "visible": false
        }
       }
      }
     },
     "metadata": {},
     "output_type": "display_data"
    }
   ],
   "source": [
    "trace_cluster_2d, trace_outlier_2d = result_tracer_wrapper(uembs, clusters_2d.labels_, df[\"title_clean\"].to_numpy())\n",
    "\n",
    "\n",
    "col11 = [trace_cluster_2d, trace_outlier_2d]\n",
    "\n",
    "\n",
    "row1 = [col11]\n",
    "\n",
    "\n",
    "trace_list = [row1]\n",
    "\n",
    "fig = subplotter(trace_list, [\"Topics by HDBSCAN Cluster\", ])\n",
    "\n",
    "fig_show_save(fig, \"topics-by-hdbscan-clusters\")"
   ]
  },
  {
   "cell_type": "markdown",
   "metadata": {},
   "source": [
    "## Showing topic per cluster"
   ]
  },
  {
   "cell_type": "markdown",
   "metadata": {},
   "source": []
  },
  {
   "cell_type": "code",
   "execution_count": 16,
   "metadata": {},
   "outputs": [
    {
     "data": {
      "text/html": [
       "<div>\n",
       "<style scoped>\n",
       "    .dataframe tbody tr th:only-of-type {\n",
       "        vertical-align: middle;\n",
       "    }\n",
       "\n",
       "    .dataframe tbody tr th {\n",
       "        vertical-align: top;\n",
       "    }\n",
       "\n",
       "    .dataframe thead th {\n",
       "        text-align: right;\n",
       "    }\n",
       "</style>\n",
       "<table border=\"1\" class=\"dataframe\">\n",
       "  <thead>\n",
       "    <tr style=\"text-align: right;\">\n",
       "      <th></th>\n",
       "      <th>cluster_label</th>\n",
       "      <th>topics</th>\n",
       "      <th>vidoes_count</th>\n",
       "    </tr>\n",
       "  </thead>\n",
       "  <tbody>\n",
       "    <tr>\n",
       "      <th>0</th>\n",
       "      <td>-1</td>\n",
       "      <td>2018 official video 2017 new</td>\n",
       "      <td>966</td>\n",
       "    </tr>\n",
       "    <tr>\n",
       "      <th>10</th>\n",
       "      <td>9</td>\n",
       "      <td>makeup tutorial kylie collection cosmetics</td>\n",
       "      <td>94</td>\n",
       "    </tr>\n",
       "    <tr>\n",
       "      <th>29</th>\n",
       "      <td>28</td>\n",
       "      <td>video official lyric ft music</td>\n",
       "      <td>82</td>\n",
       "    </tr>\n",
       "    <tr>\n",
       "      <th>22</th>\n",
       "      <td>21</td>\n",
       "      <td>trailer official 2018 teaser season</td>\n",
       "      <td>61</td>\n",
       "    </tr>\n",
       "    <tr>\n",
       "      <th>32</th>\n",
       "      <td>31</td>\n",
       "      <td>cat earth caught bacteriophage deadliest</td>\n",
       "      <td>54</td>\n",
       "    </tr>\n",
       "    <tr>\n",
       "      <th>35</th>\n",
       "      <td>34</td>\n",
       "      <td>ft live coming acoustic ed</td>\n",
       "      <td>45</td>\n",
       "    </tr>\n",
       "    <tr>\n",
       "      <th>9</th>\n",
       "      <td>8</td>\n",
       "      <td>wore week day outfits mom</td>\n",
       "      <td>42</td>\n",
       "    </tr>\n",
       "    <tr>\n",
       "      <th>6</th>\n",
       "      <td>5</td>\n",
       "      <td>2018 game highlights plays vs</td>\n",
       "      <td>41</td>\n",
       "    </tr>\n",
       "    <tr>\n",
       "      <th>43</th>\n",
       "      <td>42</td>\n",
       "      <td>love sight answering reacting youtube</td>\n",
       "      <td>37</td>\n",
       "    </tr>\n",
       "    <tr>\n",
       "      <th>31</th>\n",
       "      <td>30</td>\n",
       "      <td>snl wedding royal conan meghan</td>\n",
       "      <td>32</td>\n",
       "    </tr>\n",
       "    <tr>\n",
       "      <th>20</th>\n",
       "      <td>19</td>\n",
       "      <td>honest trailers star wars jedi</td>\n",
       "      <td>30</td>\n",
       "    </tr>\n",
       "    <tr>\n",
       "      <th>4</th>\n",
       "      <td>3</td>\n",
       "      <td>computer smartphone look apple new</td>\n",
       "      <td>30</td>\n",
       "    </tr>\n",
       "    <tr>\n",
       "      <th>18</th>\n",
       "      <td>17</td>\n",
       "      <td>spider lucas tour studios movie</td>\n",
       "      <td>29</td>\n",
       "    </tr>\n",
       "    <tr>\n",
       "      <th>24</th>\n",
       "      <td>23</td>\n",
       "      <td>jenner reveal pregnancy transgender keeping</td>\n",
       "      <td>28</td>\n",
       "    </tr>\n",
       "    <tr>\n",
       "      <th>27</th>\n",
       "      <td>26</td>\n",
       "      <td>kaling mindy wedding invited wasnt</td>\n",
       "      <td>25</td>\n",
       "    </tr>\n",
       "    <tr>\n",
       "      <th>2</th>\n",
       "      <td>1</td>\n",
       "      <td>2018 raw mcmahon april reigns</td>\n",
       "      <td>25</td>\n",
       "    </tr>\n",
       "    <tr>\n",
       "      <th>7</th>\n",
       "      <td>6</td>\n",
       "      <td>bbq best fries meat great</td>\n",
       "      <td>22</td>\n",
       "    </tr>\n",
       "    <tr>\n",
       "      <th>11</th>\n",
       "      <td>10</td>\n",
       "      <td>cake make making gampp yolanda</td>\n",
       "      <td>22</td>\n",
       "    </tr>\n",
       "    <tr>\n",
       "      <th>5</th>\n",
       "      <td>4</td>\n",
       "      <td>dean nba press conference bryant</td>\n",
       "      <td>21</td>\n",
       "    </tr>\n",
       "    <tr>\n",
       "      <th>30</th>\n",
       "      <td>29</td>\n",
       "      <td>moore open snl cold misconduct</td>\n",
       "      <td>21</td>\n",
       "    </tr>\n",
       "  </tbody>\n",
       "</table>\n",
       "</div>"
      ],
      "text/plain": [
       "    cluster_label                                       topics  vidoes_count\n",
       "0              -1                 2018 official video 2017 new           966\n",
       "10              9   makeup tutorial kylie collection cosmetics            94\n",
       "29             28                video official lyric ft music            82\n",
       "22             21          trailer official 2018 teaser season            61\n",
       "32             31     cat earth caught bacteriophage deadliest            54\n",
       "35             34                   ft live coming acoustic ed            45\n",
       "9               8                    wore week day outfits mom            42\n",
       "6               5                2018 game highlights plays vs            41\n",
       "43             42        love sight answering reacting youtube            37\n",
       "31             30               snl wedding royal conan meghan            32\n",
       "20             19               honest trailers star wars jedi            30\n",
       "4               3           computer smartphone look apple new            30\n",
       "18             17              spider lucas tour studios movie            29\n",
       "24             23  jenner reveal pregnancy transgender keeping            28\n",
       "27             26           kaling mindy wedding invited wasnt            25\n",
       "2               1                2018 raw mcmahon april reigns            25\n",
       "7               6                    bbq best fries meat great            22\n",
       "11             10               cake make making gampp yolanda            22\n",
       "5               4             dean nba press conference bryant            21\n",
       "30             29               moore open snl cold misconduct            21"
      ]
     },
     "execution_count": 16,
     "metadata": {},
     "output_type": "execute_result"
    }
   ],
   "source": [
    "result_2d = result_df_maker(uembs, clusters_2d.labels_, df[\"title_clean\"].to_numpy())\n",
    "\n",
    "result_2d[[\"cluster_label\", \"topics\"]].groupby([\"cluster_label\", \"topics\"])[\"topics\"].count().reset_index(name=\"vidoes_count\").sort_values(by=\"vidoes_count\", ascending=False).head(20)"
   ]
  }
 ],
 "metadata": {
  "kernelspec": {
   "display_name": "Python 3.8.13",
   "language": "python",
   "name": "python3"
  },
  "language_info": {
   "codemirror_mode": {
    "name": "ipython",
    "version": 3
   },
   "file_extension": ".py",
   "mimetype": "text/x-python",
   "name": "python",
   "nbconvert_exporter": "python",
   "pygments_lexer": "ipython3",
   "version": "3.8.13"
  },
  "orig_nbformat": 4,
  "vscode": {
   "interpreter": {
    "hash": "f397a11f49e1b8a74fc43deb0be4f70a68ca29fea9507dcd585643501a2a3d0e"
   }
  }
 },
 "nbformat": 4,
 "nbformat_minor": 2
}
